{
 "cells": [
  {
   "cell_type": "markdown",
   "metadata": {},
   "source": [
    "# Project 'WHO suicide statistics predictions'"
   ]
  },
  {
   "cell_type": "markdown",
   "metadata": {},
   "source": [
    "WHO suicide statistics predictions for European Union country-members."
   ]
  },
  {
   "cell_type": "code",
   "execution_count": 1,
   "metadata": {},
   "outputs": [],
   "source": [
    "import math\n",
    "import pathlib\n",
    "import missingno\n",
    "import numpy as np\n",
    "import pandas as pd\n",
    "import seaborn as sns\n",
    "import matplotlib.pyplot as plt\n",
    "\n",
    "from sklearn.svm import SVC\n",
    "from sklearn import linear_model\n",
    "from sklearn.impute import SimpleImputer\n",
    "from sklearn.preprocessing import MinMaxScaler\n",
    "from sklearn.tree import DecisionTreeRegressor\n",
    "from sklearn.ensemble import RandomForestRegressor\n",
    "from sklearn.neighbors import KNeighborsClassifier\n",
    "from sklearn.model_selection import train_test_split\n",
    "from sklearn.preprocessing import LabelEncoder, OneHotEncoder\n",
    "from sklearn.metrics import mean_absolute_error, r2_score, accuracy_score"
   ]
  },
  {
   "cell_type": "markdown",
   "metadata": {},
   "source": [
    "Make result reproducible by emphasize random seed"
   ]
  },
  {
   "cell_type": "code",
   "execution_count": 2,
   "metadata": {},
   "outputs": [],
   "source": [
    "np.random.seed(seed=158)"
   ]
  },
  {
   "cell_type": "markdown",
   "metadata": {},
   "source": [
    "## Loading data set"
   ]
  },
  {
   "cell_type": "code",
   "execution_count": 3,
   "metadata": {},
   "outputs": [],
   "source": [
    "path_material = pathlib.Path('data\\\\raw_data.csv')"
   ]
  },
  {
   "cell_type": "code",
   "execution_count": 4,
   "metadata": {},
   "outputs": [],
   "source": [
    "df_raw = pd.read_csv(path_material, low_memory=False)"
   ]
  },
  {
   "cell_type": "markdown",
   "metadata": {},
   "source": [
    "## Data pre-processing"
   ]
  },
  {
   "cell_type": "markdown",
   "metadata": {},
   "source": [
    "Brief overall data set description"
   ]
  },
  {
   "cell_type": "code",
   "execution_count": 5,
   "metadata": {},
   "outputs": [
    {
     "data": {
      "text/html": [
       "<div>\n",
       "<style scoped>\n",
       "    .dataframe tbody tr th:only-of-type {\n",
       "        vertical-align: middle;\n",
       "    }\n",
       "\n",
       "    .dataframe tbody tr th {\n",
       "        vertical-align: top;\n",
       "    }\n",
       "\n",
       "    .dataframe thead th {\n",
       "        text-align: right;\n",
       "    }\n",
       "</style>\n",
       "<table border=\"1\" class=\"dataframe\">\n",
       "  <thead>\n",
       "    <tr style=\"text-align: right;\">\n",
       "      <th></th>\n",
       "      <th>year</th>\n",
       "      <th>population</th>\n",
       "      <th>foreign_exch_reserve</th>\n",
       "      <th>GPD_per_cap</th>\n",
       "      <th>Unemployment</th>\n",
       "      <th>Inflation_rate</th>\n",
       "      <th>Life_length_expectancy</th>\n",
       "      <th>GINI</th>\n",
       "      <th>ARMS_export</th>\n",
       "      <th>ARMS_import</th>\n",
       "      <th>Corruption_perception</th>\n",
       "      <th>Temperature_JAN</th>\n",
       "      <th>Temperature_JUL</th>\n",
       "      <th>suicides_no</th>\n",
       "    </tr>\n",
       "  </thead>\n",
       "  <tbody>\n",
       "    <tr>\n",
       "      <th>count</th>\n",
       "      <td>7248.000000</td>\n",
       "      <td>7.248000e+03</td>\n",
       "      <td>7.176000e+03</td>\n",
       "      <td>7248.000000</td>\n",
       "      <td>7092.000000</td>\n",
       "      <td>7248.000000</td>\n",
       "      <td>7248.000000</td>\n",
       "      <td>4656.000000</td>\n",
       "      <td>4.872000e+03</td>\n",
       "      <td>6.384000e+03</td>\n",
       "      <td>4764.000000</td>\n",
       "      <td>7248.000000</td>\n",
       "      <td>7248.000000</td>\n",
       "      <td>7248.000000</td>\n",
       "    </tr>\n",
       "    <tr>\n",
       "      <th>mean</th>\n",
       "      <td>2001.774834</td>\n",
       "      <td>1.743408e+06</td>\n",
       "      <td>3.469842e+10</td>\n",
       "      <td>26893.020251</td>\n",
       "      <td>8.820021</td>\n",
       "      <td>3.470996</td>\n",
       "      <td>77.562979</td>\n",
       "      <td>31.333763</td>\n",
       "      <td>6.209064e+08</td>\n",
       "      <td>2.277538e+08</td>\n",
       "      <td>21.985516</td>\n",
       "      <td>1.868540</td>\n",
       "      <td>19.271537</td>\n",
       "      <td>217.996551</td>\n",
       "    </tr>\n",
       "    <tr>\n",
       "      <th>std</th>\n",
       "      <td>10.055130</td>\n",
       "      <td>2.235278e+06</td>\n",
       "      <td>3.911449e+10</td>\n",
       "      <td>18015.963059</td>\n",
       "      <td>4.311936</td>\n",
       "      <td>3.911775</td>\n",
       "      <td>2.718098</td>\n",
       "      <td>3.608685</td>\n",
       "      <td>8.498247e+08</td>\n",
       "      <td>3.152652e+08</td>\n",
       "      <td>26.615663</td>\n",
       "      <td>5.127656</td>\n",
       "      <td>3.454063</td>\n",
       "      <td>425.938170</td>\n",
       "    </tr>\n",
       "    <tr>\n",
       "      <th>min</th>\n",
       "      <td>1979.000000</td>\n",
       "      <td>5.900000e+03</td>\n",
       "      <td>9.746575e+07</td>\n",
       "      <td>3861.948500</td>\n",
       "      <td>1.482400</td>\n",
       "      <td>-4.478103</td>\n",
       "      <td>70.865854</td>\n",
       "      <td>23.000000</td>\n",
       "      <td>0.000000e+00</td>\n",
       "      <td>0.000000e+00</td>\n",
       "      <td>3.330000</td>\n",
       "      <td>-16.194000</td>\n",
       "      <td>12.571100</td>\n",
       "      <td>0.000000</td>\n",
       "    </tr>\n",
       "    <tr>\n",
       "      <th>25%</th>\n",
       "      <td>1995.000000</td>\n",
       "      <td>3.024238e+05</td>\n",
       "      <td>6.400005e+09</td>\n",
       "      <td>13585.207562</td>\n",
       "      <td>5.856900</td>\n",
       "      <td>1.417741</td>\n",
       "      <td>75.475287</td>\n",
       "      <td>28.200000</td>\n",
       "      <td>2.500000e+07</td>\n",
       "      <td>2.400000e+07</td>\n",
       "      <td>6.100000</td>\n",
       "      <td>-1.093000</td>\n",
       "      <td>16.649850</td>\n",
       "      <td>9.000000</td>\n",
       "    </tr>\n",
       "    <tr>\n",
       "      <th>50%</th>\n",
       "      <td>2004.000000</td>\n",
       "      <td>7.447485e+05</td>\n",
       "      <td>2.160458e+10</td>\n",
       "      <td>23102.007735</td>\n",
       "      <td>7.865600</td>\n",
       "      <td>2.452733</td>\n",
       "      <td>77.636585</td>\n",
       "      <td>31.350000</td>\n",
       "      <td>2.080000e+08</td>\n",
       "      <td>1.045000e+08</td>\n",
       "      <td>8.000000</td>\n",
       "      <td>2.732625</td>\n",
       "      <td>18.887950</td>\n",
       "      <td>63.000000</td>\n",
       "    </tr>\n",
       "    <tr>\n",
       "      <th>75%</th>\n",
       "      <td>2010.000000</td>\n",
       "      <td>2.538383e+06</td>\n",
       "      <td>4.807903e+10</td>\n",
       "      <td>35575.159547</td>\n",
       "      <td>10.554500</td>\n",
       "      <td>4.053958</td>\n",
       "      <td>79.793293</td>\n",
       "      <td>34.300000</td>\n",
       "      <td>9.510000e+08</td>\n",
       "      <td>2.865000e+08</td>\n",
       "      <td>42.000000</td>\n",
       "      <td>5.044645</td>\n",
       "      <td>21.743575</td>\n",
       "      <td>214.000000</td>\n",
       "    </tr>\n",
       "    <tr>\n",
       "      <th>max</th>\n",
       "      <td>2016.000000</td>\n",
       "      <td>1.314881e+07</td>\n",
       "      <td>2.490000e+11</td>\n",
       "      <td>118823.648400</td>\n",
       "      <td>27.466200</td>\n",
       "      <td>24.506067</td>\n",
       "      <td>83.229268</td>\n",
       "      <td>39.000000</td>\n",
       "      <td>4.037000e+09</td>\n",
       "      <td>2.167000e+09</td>\n",
       "      <td>92.000000</td>\n",
       "      <td>22.723500</td>\n",
       "      <td>29.786000</td>\n",
       "      <td>3427.000000</td>\n",
       "    </tr>\n",
       "  </tbody>\n",
       "</table>\n",
       "</div>"
      ],
      "text/plain": [
       "              year    population  foreign_exch_reserve    GPD_per_cap  \\\n",
       "count  7248.000000  7.248000e+03          7.176000e+03    7248.000000   \n",
       "mean   2001.774834  1.743408e+06          3.469842e+10   26893.020251   \n",
       "std      10.055130  2.235278e+06          3.911449e+10   18015.963059   \n",
       "min    1979.000000  5.900000e+03          9.746575e+07    3861.948500   \n",
       "25%    1995.000000  3.024238e+05          6.400005e+09   13585.207562   \n",
       "50%    2004.000000  7.447485e+05          2.160458e+10   23102.007735   \n",
       "75%    2010.000000  2.538383e+06          4.807903e+10   35575.159547   \n",
       "max    2016.000000  1.314881e+07          2.490000e+11  118823.648400   \n",
       "\n",
       "       Unemployment  Inflation_rate  Life_length_expectancy         GINI  \\\n",
       "count   7092.000000     7248.000000             7248.000000  4656.000000   \n",
       "mean       8.820021        3.470996               77.562979    31.333763   \n",
       "std        4.311936        3.911775                2.718098     3.608685   \n",
       "min        1.482400       -4.478103               70.865854    23.000000   \n",
       "25%        5.856900        1.417741               75.475287    28.200000   \n",
       "50%        7.865600        2.452733               77.636585    31.350000   \n",
       "75%       10.554500        4.053958               79.793293    34.300000   \n",
       "max       27.466200       24.506067               83.229268    39.000000   \n",
       "\n",
       "        ARMS_export   ARMS_import  Corruption_perception  Temperature_JAN  \\\n",
       "count  4.872000e+03  6.384000e+03            4764.000000      7248.000000   \n",
       "mean   6.209064e+08  2.277538e+08              21.985516         1.868540   \n",
       "std    8.498247e+08  3.152652e+08              26.615663         5.127656   \n",
       "min    0.000000e+00  0.000000e+00               3.330000       -16.194000   \n",
       "25%    2.500000e+07  2.400000e+07               6.100000        -1.093000   \n",
       "50%    2.080000e+08  1.045000e+08               8.000000         2.732625   \n",
       "75%    9.510000e+08  2.865000e+08              42.000000         5.044645   \n",
       "max    4.037000e+09  2.167000e+09              92.000000        22.723500   \n",
       "\n",
       "       Temperature_JUL  suicides_no  \n",
       "count      7248.000000  7248.000000  \n",
       "mean         19.271537   217.996551  \n",
       "std           3.454063   425.938170  \n",
       "min          12.571100     0.000000  \n",
       "25%          16.649850     9.000000  \n",
       "50%          18.887950    63.000000  \n",
       "75%          21.743575   214.000000  \n",
       "max          29.786000  3427.000000  "
      ]
     },
     "execution_count": 5,
     "metadata": {},
     "output_type": "execute_result"
    }
   ],
   "source": [
    "df_raw.describe()"
   ]
  },
  {
   "cell_type": "code",
   "execution_count": 6,
   "metadata": {},
   "outputs": [],
   "source": [
    "def refactor_titles(df: pd.DataFrame, sub_chars=[' ','-',':'], drop_chars=['(',')','[',']']) -> list:\n",
    "    '''\n",
    "    Function generalizes all column titles, i.e. lowers all cases, makes characters \n",
    "    substitution from one input list and drops characters from another input list.\n",
    "    (1) df --> DataFrame which columns function should transform;\n",
    "    (2) sub_chars --> characters to substitute with '_';\n",
    "    (3) drop_chars --> characters to drop;\n",
    "    Returns list with new column titles.\n",
    "    '''\n",
    "    list_columns = [item.lower() for item in (df.columns.tolist())]   \n",
    "    for sub_char in sub_chars:\n",
    "        counter_sub = 0\n",
    "        for i in range(len(list_columns)):\n",
    "            if sub_char in list_columns[i]:\n",
    "                counter_sub += 1\n",
    "                list_columns[i] = list_columns[i].replace(sub_char, '_')\n",
    "            else:\n",
    "                continue\n",
    "        print(f'Substituotion of \"{sub_char}\" occured {counter_sub} times.')\n",
    "    for drop_char in drop_chars:\n",
    "        counter_drop = 0\n",
    "        for i in range(len(list_columns)):\n",
    "            if drop_char in list_columns[i]:\n",
    "                list_columns[i] = list_columns[i].replace(drop_char, '') \n",
    "            else:\n",
    "                continue\n",
    "            print(f'Drop of \"{drop_char}\" occured {counter_drop} times.')              \n",
    "    return list_columns"
   ]
  },
  {
   "cell_type": "markdown",
   "metadata": {},
   "source": [
    "### Refactor columns titles"
   ]
  },
  {
   "cell_type": "markdown",
   "metadata": {},
   "source": [
    "Initialize **refactor_titles()** function (it changes all titles to lower cases along with substituting and dropping several uncommon characters) on the DataFrame's columns"
   ]
  },
  {
   "cell_type": "code",
   "execution_count": 7,
   "metadata": {},
   "outputs": [
    {
     "name": "stdout",
     "output_type": "stream",
     "text": [
      "Substituotion of \" \" occured 0 times.\n",
      "Substituotion of \"-\" occured 0 times.\n",
      "Substituotion of \":\" occured 0 times.\n"
     ]
    }
   ],
   "source": [
    "df_raw.columns = refactor_titles(df_raw)"
   ]
  },
  {
   "cell_type": "markdown",
   "metadata": {},
   "source": [
    "### Update 'corruption perception' feature evaluation changes from 2012"
   ]
  },
  {
   "cell_type": "markdown",
   "metadata": {},
   "source": [
    "After 2012 Corruption perception evaluation changes from range 10 to range 100.\n",
    "In order to generalize column, all values after 2012 will be divided by 10."
   ]
  },
  {
   "cell_type": "code",
   "execution_count": 8,
   "metadata": {
    "scrolled": false
   },
   "outputs": [],
   "source": [
    "df_raw['corruption_perception'] = df_raw['corruption_perception'].apply(lambda x: x/10 if x > 10 else x)"
   ]
  },
  {
   "cell_type": "markdown",
   "metadata": {},
   "source": [
    "### NaN values | part 1"
   ]
  },
  {
   "cell_type": "markdown",
   "metadata": {},
   "source": [
    "Check the DataFrame for null-values."
   ]
  },
  {
   "cell_type": "code",
   "execution_count": 9,
   "metadata": {},
   "outputs": [
    {
     "name": "stdout",
     "output_type": "stream",
     "text": [
      "<class 'pandas.core.frame.DataFrame'>\n",
      "RangeIndex: 7248 entries, 0 to 7247\n",
      "Data columns (total 17 columns):\n",
      " #   Column                  Non-Null Count  Dtype  \n",
      "---  ------                  --------------  -----  \n",
      " 0   country                 7248 non-null   object \n",
      " 1   year                    7248 non-null   int64  \n",
      " 2   sex                     7248 non-null   object \n",
      " 3   age                     7248 non-null   object \n",
      " 4   population              7248 non-null   int64  \n",
      " 5   foreign_exch_reserve    7176 non-null   float64\n",
      " 6   gpd_per_cap             7248 non-null   float64\n",
      " 7   unemployment            7092 non-null   float64\n",
      " 8   inflation_rate          7248 non-null   float64\n",
      " 9   life_length_expectancy  7248 non-null   float64\n",
      " 10  gini                    4656 non-null   float64\n",
      " 11  arms_export             4872 non-null   float64\n",
      " 12  arms_import             6384 non-null   float64\n",
      " 13  corruption_perception   4764 non-null   float64\n",
      " 14  temperature_jan         7248 non-null   float64\n",
      " 15  temperature_jul         7248 non-null   float64\n",
      " 16  suicides_no             7248 non-null   int64  \n",
      "dtypes: float64(11), int64(3), object(3)\n",
      "memory usage: 962.8+ KB\n"
     ]
    }
   ],
   "source": [
    "df_raw.info()"
   ]
  },
  {
   "cell_type": "markdown",
   "metadata": {},
   "source": [
    "####  *ARMS import* and *ARMS export* features"
   ]
  },
  {
   "cell_type": "markdown",
   "metadata": {},
   "source": [
    "All empty values in both ARMS import and ARMS export columns will be filled with '0', as these countries didn't participate neither in ARMS import nor in ARMS export."
   ]
  },
  {
   "cell_type": "code",
   "execution_count": 10,
   "metadata": {},
   "outputs": [],
   "source": [
    "df_raw['arms_import'].fillna(0, inplace=True)\n",
    "df_raw['arms_export'].fillna(0, inplace=True)"
   ]
  },
  {
   "cell_type": "markdown",
   "metadata": {},
   "source": [
    "#### *Foreign exchange* reserve and *Unemployment* features"
   ]
  },
  {
   "cell_type": "markdown",
   "metadata": {},
   "source": [
    "Derive column names containing at least one NaN value, put them into list and assign to variable.\n",
    "Define function to attach country names where NaN appeared and return dictionary with countries."
   ]
  },
  {
   "cell_type": "code",
   "execution_count": 11,
   "metadata": {},
   "outputs": [],
   "source": [
    "def nan_columns_by_country(df: pd.DataFrame, column_mark: str) -> dict:\n",
    "    '''Function identifies column names in a given DataFrame containing at \n",
    "    least one NaN value, puts them into a list and assigns it to variable\n",
    "    'columns_nan_list'. Then it takes input 'column_nan' column and \n",
    "    checks if it is in 'columns_nan_list'. If not, proceed further. \n",
    "    The last action is iterations through each NaN column and grouping\n",
    "    by 'column_nan' categories in it.\n",
    "    Parameters:\n",
    "    -----------\n",
    "    (1) df --> given DataFrame;\n",
    "    (2) column_nan --> categorical column, each one will be filtered for NaN values;\n",
    "    -----------\n",
    "    Returns dictionary with given column categorical values and count of NaN values in it.\n",
    "    '''\n",
    "    columns_nan_list = df.columns[df.isna().any()].tolist()\n",
    "    if column_mark in columns_nan_list:\n",
    "        return print(f'Column {column_nan} has NaN values, please choose another column')\n",
    "    set_of_nan = {}\n",
    "    for column in columns_nan_list:\n",
    "        set_of_nan[column] = list(set(df[df[column].isnull()][column_mark]))\n",
    "    for key, value in sorted(set_of_nan.items()):\n",
    "        print(f'* {len([item for item in value if item])} categories in column \"{column_mark}\" with at least one NaN in \"{key}\".')\n",
    "    return set_of_nan"
   ]
  },
  {
   "cell_type": "markdown",
   "metadata": {},
   "source": [
    "Initialize function **nan_columns_by_country()**.\n",
    "Function returns 4 columns: foreign_exch_reserve | unemployment | gini | corruption_perception.\n",
    "Let's take 'foreign_exch_reserve' & 'unemployment' as only several countries have missing values."
   ]
  },
  {
   "cell_type": "code",
   "execution_count": 12,
   "metadata": {},
   "outputs": [
    {
     "name": "stdout",
     "output_type": "stream",
     "text": [
      "* 22 categories in column \"country\" with at least one NaN in \"corruption_perception\".\n",
      "* 1 categories in column \"country\" with at least one NaN in \"foreign_exch_reserve\".\n",
      "* 16 categories in column \"country\" with at least one NaN in \"gini\".\n",
      "* 4 categories in column \"country\" with at least one NaN in \"unemployment\".\n"
     ]
    }
   ],
   "source": [
    "columns_nan_dict = nan_columns_by_country(df_raw,'country')"
   ]
  },
  {
   "cell_type": "markdown",
   "metadata": {},
   "source": [
    "Define function to fill NaN values using .fillna() with 'backfill' method."
   ]
  },
  {
   "cell_type": "code",
   "execution_count": 13,
   "metadata": {},
   "outputs": [],
   "source": [
    "def backfilling_nan_by_country(df: pd.DataFrame, columns_nan_dict: dict, target_column: str, category_column: str):\n",
    "    '''Function fills NaN values directly into given DataFrame using 'backfill' method.\n",
    "    Parameters:\n",
    "    -----------\n",
    "    (1) df --> given DataFrame;\n",
    "    (2) columns_nan_dict --> dictionary with all NaN columns as a key and all NaN categories from category_column;\n",
    "    (3) target_column --> column name where NaN values will be filled using 'backfill' method;\n",
    "    (4) category_column --> column name where categories have NaN values in 'target_column';\n",
    "    -----------\n",
    "    Returns text confirmation that NaN values were filled, otherwise text confirmation that no NaN occured.\n",
    "    '''\n",
    "    if df_raw[target_column].isnull().any():\n",
    "        for nan_category in columns_nan_dict[target_column]:\n",
    "            mask = (df[category_column] == nan_category)\n",
    "            df.loc[mask,target_column] = df.loc[mask,target_column].fillna(method='backfill')\n",
    "        return f'NaN values were filled in \"{target_column}\"\" column'\n",
    "    else:\n",
    "        return f'There are no NaN values \"{target_column}\"\" column'"
   ]
  },
  {
   "cell_type": "markdown",
   "metadata": {},
   "source": [
    "Fill 'unemployment' column."
   ]
  },
  {
   "cell_type": "code",
   "execution_count": 14,
   "metadata": {},
   "outputs": [
    {
     "data": {
      "text/plain": [
       "'NaN values were filled in \"unemployment\"\" column'"
      ]
     },
     "execution_count": 14,
     "metadata": {},
     "output_type": "execute_result"
    }
   ],
   "source": [
    "backfilling_nan_by_country(df=df_raw, columns_nan_dict=columns_nan_dict,\n",
    "                           target_column='unemployment', category_column = 'country')"
   ]
  },
  {
   "cell_type": "markdown",
   "metadata": {},
   "source": [
    "Fill 'foreign_exch_reserve' column."
   ]
  },
  {
   "cell_type": "code",
   "execution_count": 15,
   "metadata": {},
   "outputs": [
    {
     "data": {
      "text/plain": [
       "'NaN values were filled in \"foreign_exch_reserve\"\" column'"
      ]
     },
     "execution_count": 15,
     "metadata": {},
     "output_type": "execute_result"
    }
   ],
   "source": [
    "backfilling_nan_by_country(df=df_raw,columns_nan_dict=columns_nan_dict,\n",
    "                           target_column='foreign_exch_reserve', category_column = 'country')"
   ]
  },
  {
   "cell_type": "markdown",
   "metadata": {},
   "source": [
    "#### Observe remaining NaN columns"
   ]
  },
  {
   "cell_type": "markdown",
   "metadata": {},
   "source": [
    "Missing values function"
   ]
  },
  {
   "cell_type": "code",
   "execution_count": 16,
   "metadata": {},
   "outputs": [],
   "source": [
    "def missing_values(df: pd.DataFrame):\n",
    "    ''' Functions uses missingno library and prints each DataFrame's \n",
    "    column name and count of NaN which were found in it.\n",
    "    Parameters:\n",
    "    -----------\n",
    "    (1) df --> given DataFrame;\n",
    "    -----------\n",
    "    Returns a chart bar with each feature non-NaN value count.\n",
    "    '''\n",
    "    for column in df.columns[df.isnull().any(axis=0)]:\n",
    "        print(f'Column \"{column}\" has {df[column].isnull().sum()} missing values.')\n",
    "    return missingno.bar(df)"
   ]
  },
  {
   "cell_type": "code",
   "execution_count": 17,
   "metadata": {},
   "outputs": [
    {
     "name": "stdout",
     "output_type": "stream",
     "text": [
      "Column \"gini\" has 2592 missing values.\n",
      "Column \"corruption_perception\" has 2484 missing values.\n"
     ]
    },
    {
     "data": {
      "text/plain": [
       "<AxesSubplot:>"
      ]
     },
     "execution_count": 17,
     "metadata": {},
     "output_type": "execute_result"
    },
    {
     "data": {
      "image/png": "[encoded data removed]",
      "text/plain": [
       "<Figure size 1728x720 with 3 Axes>"
      ]
     },
     "metadata": {
      "needs_background": "light"
     },
     "output_type": "display_data"
    }
   ],
   "source": [
    "missing_values(df_raw)"
   ]
  },
  {
   "cell_type": "markdown",
   "metadata": {},
   "source": [
    "**'gini'** and **'corruption_perception'** columns still remain with NaN, but next let's deal with binary cordinality columns categorization to implement LabelEncoder()."
   ]
  },
  {
   "cell_type": "markdown",
   "metadata": {},
   "source": [
    "### Label Encoding"
   ]
  },
  {
   "cell_type": "code",
   "execution_count": 18,
   "metadata": {},
   "outputs": [
    {
     "data": {
      "text/plain": [
       "['sex']"
      ]
     },
     "execution_count": 18,
     "metadata": {},
     "output_type": "execute_result"
    }
   ],
   "source": [
    "binary_cardinality_cols = [col_name for col_name in df_raw.columns if df_raw[col_name].nunique() < 3 and \n",
    "                                                                   df_raw[col_name].dtype == 'object']; binary_cardinality_cols"
   ]
  },
  {
   "cell_type": "markdown",
   "metadata": {},
   "source": [
    "Next action is Label Encoding for binary cardinality rows."
   ]
  },
  {
   "cell_type": "code",
   "execution_count": 19,
   "metadata": {},
   "outputs": [],
   "source": [
    "label_df_raw = df_raw.copy()\n",
    "label_encoder = LabelEncoder()\n",
    "for col in binary_cardinality_cols:\n",
    "    label_df_raw[col] = label_encoder.fit_transform(df_raw[col])"
   ]
  },
  {
   "cell_type": "code",
   "execution_count": 20,
   "metadata": {},
   "outputs": [
    {
     "data": {
      "text/html": [
       "<div>\n",
       "<style scoped>\n",
       "    .dataframe tbody tr th:only-of-type {\n",
       "        vertical-align: middle;\n",
       "    }\n",
       "\n",
       "    .dataframe tbody tr th {\n",
       "        vertical-align: top;\n",
       "    }\n",
       "\n",
       "    .dataframe thead th {\n",
       "        text-align: right;\n",
       "    }\n",
       "</style>\n",
       "<table border=\"1\" class=\"dataframe\">\n",
       "  <thead>\n",
       "    <tr style=\"text-align: right;\">\n",
       "      <th></th>\n",
       "      <th>country</th>\n",
       "      <th>year</th>\n",
       "      <th>sex</th>\n",
       "      <th>age</th>\n",
       "      <th>population</th>\n",
       "      <th>foreign_exch_reserve</th>\n",
       "      <th>gpd_per_cap</th>\n",
       "      <th>unemployment</th>\n",
       "      <th>inflation_rate</th>\n",
       "      <th>life_length_expectancy</th>\n",
       "      <th>gini</th>\n",
       "      <th>arms_export</th>\n",
       "      <th>arms_import</th>\n",
       "      <th>corruption_perception</th>\n",
       "      <th>temperature_jan</th>\n",
       "      <th>temperature_jul</th>\n",
       "      <th>suicides_no</th>\n",
       "    </tr>\n",
       "  </thead>\n",
       "  <tbody>\n",
       "    <tr>\n",
       "      <th>0</th>\n",
       "      <td>Austria</td>\n",
       "      <td>1995</td>\n",
       "      <td>0</td>\n",
       "      <td>15-24 years</td>\n",
       "      <td>495368</td>\n",
       "      <td>2.336874e+10</td>\n",
       "      <td>30325.84958</td>\n",
       "      <td>4.3473</td>\n",
       "      <td>2.243367</td>\n",
       "      <td>76.668293</td>\n",
       "      <td>31.1</td>\n",
       "      <td>0.0</td>\n",
       "      <td>24000000.0</td>\n",
       "      <td>NaN</td>\n",
       "      <td>-3.3684</td>\n",
       "      <td>18.3665</td>\n",
       "      <td>19</td>\n",
       "    </tr>\n",
       "    <tr>\n",
       "      <th>1</th>\n",
       "      <td>Austria</td>\n",
       "      <td>1995</td>\n",
       "      <td>0</td>\n",
       "      <td>25-34 years</td>\n",
       "      <td>678262</td>\n",
       "      <td>2.336874e+10</td>\n",
       "      <td>30325.84958</td>\n",
       "      <td>4.3473</td>\n",
       "      <td>2.243367</td>\n",
       "      <td>76.668293</td>\n",
       "      <td>31.1</td>\n",
       "      <td>0.0</td>\n",
       "      <td>24000000.0</td>\n",
       "      <td>NaN</td>\n",
       "      <td>-3.3684</td>\n",
       "      <td>18.3665</td>\n",
       "      <td>59</td>\n",
       "    </tr>\n",
       "    <tr>\n",
       "      <th>2</th>\n",
       "      <td>Austria</td>\n",
       "      <td>1995</td>\n",
       "      <td>0</td>\n",
       "      <td>35-54 years</td>\n",
       "      <td>1065630</td>\n",
       "      <td>2.336874e+10</td>\n",
       "      <td>30325.84958</td>\n",
       "      <td>4.3473</td>\n",
       "      <td>2.243367</td>\n",
       "      <td>76.668293</td>\n",
       "      <td>31.1</td>\n",
       "      <td>0.0</td>\n",
       "      <td>24000000.0</td>\n",
       "      <td>NaN</td>\n",
       "      <td>-3.3684</td>\n",
       "      <td>18.3665</td>\n",
       "      <td>136</td>\n",
       "    </tr>\n",
       "    <tr>\n",
       "      <th>3</th>\n",
       "      <td>Austria</td>\n",
       "      <td>1995</td>\n",
       "      <td>0</td>\n",
       "      <td>5-14 years</td>\n",
       "      <td>460945</td>\n",
       "      <td>2.336874e+10</td>\n",
       "      <td>30325.84958</td>\n",
       "      <td>4.3473</td>\n",
       "      <td>2.243367</td>\n",
       "      <td>76.668293</td>\n",
       "      <td>31.1</td>\n",
       "      <td>0.0</td>\n",
       "      <td>24000000.0</td>\n",
       "      <td>NaN</td>\n",
       "      <td>-3.3684</td>\n",
       "      <td>18.3665</td>\n",
       "      <td>0</td>\n",
       "    </tr>\n",
       "    <tr>\n",
       "      <th>4</th>\n",
       "      <td>Austria</td>\n",
       "      <td>1995</td>\n",
       "      <td>0</td>\n",
       "      <td>55-74 years</td>\n",
       "      <td>843210</td>\n",
       "      <td>2.336874e+10</td>\n",
       "      <td>30325.84958</td>\n",
       "      <td>4.3473</td>\n",
       "      <td>2.243367</td>\n",
       "      <td>76.668293</td>\n",
       "      <td>31.1</td>\n",
       "      <td>0.0</td>\n",
       "      <td>24000000.0</td>\n",
       "      <td>NaN</td>\n",
       "      <td>-3.3684</td>\n",
       "      <td>18.3665</td>\n",
       "      <td>141</td>\n",
       "    </tr>\n",
       "    <tr>\n",
       "      <th>5</th>\n",
       "      <td>Austria</td>\n",
       "      <td>1995</td>\n",
       "      <td>0</td>\n",
       "      <td>75+ years</td>\n",
       "      <td>341098</td>\n",
       "      <td>2.336874e+10</td>\n",
       "      <td>30325.84958</td>\n",
       "      <td>4.3473</td>\n",
       "      <td>2.243367</td>\n",
       "      <td>76.668293</td>\n",
       "      <td>31.1</td>\n",
       "      <td>0.0</td>\n",
       "      <td>24000000.0</td>\n",
       "      <td>NaN</td>\n",
       "      <td>-3.3684</td>\n",
       "      <td>18.3665</td>\n",
       "      <td>100</td>\n",
       "    </tr>\n",
       "    <tr>\n",
       "      <th>6</th>\n",
       "      <td>Austria</td>\n",
       "      <td>1995</td>\n",
       "      <td>1</td>\n",
       "      <td>15-24 years</td>\n",
       "      <td>509262</td>\n",
       "      <td>2.336874e+10</td>\n",
       "      <td>30325.84958</td>\n",
       "      <td>4.3473</td>\n",
       "      <td>2.243367</td>\n",
       "      <td>76.668293</td>\n",
       "      <td>31.1</td>\n",
       "      <td>0.0</td>\n",
       "      <td>24000000.0</td>\n",
       "      <td>NaN</td>\n",
       "      <td>-3.3684</td>\n",
       "      <td>18.3665</td>\n",
       "      <td>134</td>\n",
       "    </tr>\n",
       "    <tr>\n",
       "      <th>7</th>\n",
       "      <td>Austria</td>\n",
       "      <td>1995</td>\n",
       "      <td>1</td>\n",
       "      <td>25-34 years</td>\n",
       "      <td>707468</td>\n",
       "      <td>2.336874e+10</td>\n",
       "      <td>30325.84958</td>\n",
       "      <td>4.3473</td>\n",
       "      <td>2.243367</td>\n",
       "      <td>76.668293</td>\n",
       "      <td>31.1</td>\n",
       "      <td>0.0</td>\n",
       "      <td>24000000.0</td>\n",
       "      <td>NaN</td>\n",
       "      <td>-3.3684</td>\n",
       "      <td>18.3665</td>\n",
       "      <td>237</td>\n",
       "    </tr>\n",
       "    <tr>\n",
       "      <th>8</th>\n",
       "      <td>Austria</td>\n",
       "      <td>1995</td>\n",
       "      <td>1</td>\n",
       "      <td>35-54 years</td>\n",
       "      <td>1074328</td>\n",
       "      <td>2.336874e+10</td>\n",
       "      <td>30325.84958</td>\n",
       "      <td>4.3473</td>\n",
       "      <td>2.243367</td>\n",
       "      <td>76.668293</td>\n",
       "      <td>31.1</td>\n",
       "      <td>0.0</td>\n",
       "      <td>24000000.0</td>\n",
       "      <td>NaN</td>\n",
       "      <td>-3.3684</td>\n",
       "      <td>18.3665</td>\n",
       "      <td>437</td>\n",
       "    </tr>\n",
       "    <tr>\n",
       "      <th>9</th>\n",
       "      <td>Austria</td>\n",
       "      <td>1995</td>\n",
       "      <td>1</td>\n",
       "      <td>5-14 years</td>\n",
       "      <td>483644</td>\n",
       "      <td>2.336874e+10</td>\n",
       "      <td>30325.84958</td>\n",
       "      <td>4.3473</td>\n",
       "      <td>2.243367</td>\n",
       "      <td>76.668293</td>\n",
       "      <td>31.1</td>\n",
       "      <td>0.0</td>\n",
       "      <td>24000000.0</td>\n",
       "      <td>NaN</td>\n",
       "      <td>-3.3684</td>\n",
       "      <td>18.3665</td>\n",
       "      <td>8</td>\n",
       "    </tr>\n",
       "    <tr>\n",
       "      <th>10</th>\n",
       "      <td>Austria</td>\n",
       "      <td>1995</td>\n",
       "      <td>1</td>\n",
       "      <td>55-74 years</td>\n",
       "      <td>670553</td>\n",
       "      <td>2.336874e+10</td>\n",
       "      <td>30325.84958</td>\n",
       "      <td>4.3473</td>\n",
       "      <td>2.243367</td>\n",
       "      <td>76.668293</td>\n",
       "      <td>31.1</td>\n",
       "      <td>0.0</td>\n",
       "      <td>24000000.0</td>\n",
       "      <td>NaN</td>\n",
       "      <td>-3.3684</td>\n",
       "      <td>18.3665</td>\n",
       "      <td>333</td>\n",
       "    </tr>\n",
       "    <tr>\n",
       "      <th>11</th>\n",
       "      <td>Austria</td>\n",
       "      <td>1995</td>\n",
       "      <td>1</td>\n",
       "      <td>75+ years</td>\n",
       "      <td>147262</td>\n",
       "      <td>2.336874e+10</td>\n",
       "      <td>30325.84958</td>\n",
       "      <td>4.3473</td>\n",
       "      <td>2.243367</td>\n",
       "      <td>76.668293</td>\n",
       "      <td>31.1</td>\n",
       "      <td>0.0</td>\n",
       "      <td>24000000.0</td>\n",
       "      <td>NaN</td>\n",
       "      <td>-3.3684</td>\n",
       "      <td>18.3665</td>\n",
       "      <td>184</td>\n",
       "    </tr>\n",
       "  </tbody>\n",
       "</table>\n",
       "</div>"
      ],
      "text/plain": [
       "    country  year  sex          age  population  foreign_exch_reserve  \\\n",
       "0   Austria  1995    0  15-24 years      495368          2.336874e+10   \n",
       "1   Austria  1995    0  25-34 years      678262          2.336874e+10   \n",
       "2   Austria  1995    0  35-54 years     1065630          2.336874e+10   \n",
       "3   Austria  1995    0   5-14 years      460945          2.336874e+10   \n",
       "4   Austria  1995    0  55-74 years      843210          2.336874e+10   \n",
       "5   Austria  1995    0    75+ years      341098          2.336874e+10   \n",
       "6   Austria  1995    1  15-24 years      509262          2.336874e+10   \n",
       "7   Austria  1995    1  25-34 years      707468          2.336874e+10   \n",
       "8   Austria  1995    1  35-54 years     1074328          2.336874e+10   \n",
       "9   Austria  1995    1   5-14 years      483644          2.336874e+10   \n",
       "10  Austria  1995    1  55-74 years      670553          2.336874e+10   \n",
       "11  Austria  1995    1    75+ years      147262          2.336874e+10   \n",
       "\n",
       "    gpd_per_cap  unemployment  inflation_rate  life_length_expectancy  gini  \\\n",
       "0   30325.84958        4.3473        2.243367               76.668293  31.1   \n",
       "1   30325.84958        4.3473        2.243367               76.668293  31.1   \n",
       "2   30325.84958        4.3473        2.243367               76.668293  31.1   \n",
       "3   30325.84958        4.3473        2.243367               76.668293  31.1   \n",
       "4   30325.84958        4.3473        2.243367               76.668293  31.1   \n",
       "5   30325.84958        4.3473        2.243367               76.668293  31.1   \n",
       "6   30325.84958        4.3473        2.243367               76.668293  31.1   \n",
       "7   30325.84958        4.3473        2.243367               76.668293  31.1   \n",
       "8   30325.84958        4.3473        2.243367               76.668293  31.1   \n",
       "9   30325.84958        4.3473        2.243367               76.668293  31.1   \n",
       "10  30325.84958        4.3473        2.243367               76.668293  31.1   \n",
       "11  30325.84958        4.3473        2.243367               76.668293  31.1   \n",
       "\n",
       "    arms_export  arms_import  corruption_perception  temperature_jan  \\\n",
       "0           0.0   24000000.0                    NaN          -3.3684   \n",
       "1           0.0   24000000.0                    NaN          -3.3684   \n",
       "2           0.0   24000000.0                    NaN          -3.3684   \n",
       "3           0.0   24000000.0                    NaN          -3.3684   \n",
       "4           0.0   24000000.0                    NaN          -3.3684   \n",
       "5           0.0   24000000.0                    NaN          -3.3684   \n",
       "6           0.0   24000000.0                    NaN          -3.3684   \n",
       "7           0.0   24000000.0                    NaN          -3.3684   \n",
       "8           0.0   24000000.0                    NaN          -3.3684   \n",
       "9           0.0   24000000.0                    NaN          -3.3684   \n",
       "10          0.0   24000000.0                    NaN          -3.3684   \n",
       "11          0.0   24000000.0                    NaN          -3.3684   \n",
       "\n",
       "    temperature_jul  suicides_no  \n",
       "0           18.3665           19  \n",
       "1           18.3665           59  \n",
       "2           18.3665          136  \n",
       "3           18.3665            0  \n",
       "4           18.3665          141  \n",
       "5           18.3665          100  \n",
       "6           18.3665          134  \n",
       "7           18.3665          237  \n",
       "8           18.3665          437  \n",
       "9           18.3665            8  \n",
       "10          18.3665          333  \n",
       "11          18.3665          184  "
      ]
     },
     "execution_count": 20,
     "metadata": {},
     "output_type": "execute_result"
    }
   ],
   "source": [
    "label_df_raw.head(12)"
   ]
  },
  {
   "cell_type": "markdown",
   "metadata": {},
   "source": [
    "### One-Hot-Encoder"
   ]
  },
  {
   "cell_type": "markdown",
   "metadata": {},
   "source": [
    "After binary cardinality will check low cardinality columns.\n",
    "Maximum number of unique values is 15"
   ]
  },
  {
   "cell_type": "code",
   "execution_count": 21,
   "metadata": {},
   "outputs": [
    {
     "data": {
      "text/plain": [
       "['age']"
      ]
     },
     "execution_count": 21,
     "metadata": {},
     "output_type": "execute_result"
    }
   ],
   "source": [
    "low_cardinality_cols = [col_name for col_name in df_raw.columns if 2 < df_raw[col_name].nunique() < 16 and \n",
    "                                                                   df_raw[col_name].dtype == 'object']\n",
    "low_cardinality_cols"
   ]
  },
  {
   "cell_type": "markdown",
   "metadata": {},
   "source": [
    "Import One-Hot-Encoder and reform low cardinality columns."
   ]
  },
  {
   "cell_type": "code",
   "execution_count": 22,
   "metadata": {},
   "outputs": [],
   "source": [
    "OH_encoder = OneHotEncoder(handle_unknown='ignore', sparse=False) # Apply one-hot encoder to each column with categorical data\n",
    "OH_cols_df = pd.DataFrame(OH_encoder.fit_transform(df_raw[low_cardinality_cols]))\n",
    "\n",
    "OH_cols_df.index = df_raw.index # One-hot encoding removed index; put it back\n",
    "OH_cols_df.rename(columns = {0: '15-24 years',\n",
    "                             1: '25-34 years',\n",
    "                             2: '35-54 years',\n",
    "                             3: '5-14 years',\n",
    "                             4: '55-74 years',\n",
    "                             5: '75+ years'}, inplace=True)\n",
    "\n",
    "num_df = label_df_raw.drop(low_cardinality_cols, axis=1) # Remove categorical columns (will replace with one-hot encoding)\n",
    "OH_df = pd.concat([num_df,OH_cols_df], axis=1) # Add one-hot encoded columns to numerical features"
   ]
  },
  {
   "cell_type": "code",
   "execution_count": 23,
   "metadata": {},
   "outputs": [
    {
     "data": {
      "text/html": [
       "<div>\n",
       "<style scoped>\n",
       "    .dataframe tbody tr th:only-of-type {\n",
       "        vertical-align: middle;\n",
       "    }\n",
       "\n",
       "    .dataframe tbody tr th {\n",
       "        vertical-align: top;\n",
       "    }\n",
       "\n",
       "    .dataframe thead th {\n",
       "        text-align: right;\n",
       "    }\n",
       "</style>\n",
       "<table border=\"1\" class=\"dataframe\">\n",
       "  <thead>\n",
       "    <tr style=\"text-align: right;\">\n",
       "      <th></th>\n",
       "      <th>country</th>\n",
       "      <th>year</th>\n",
       "      <th>sex</th>\n",
       "      <th>population</th>\n",
       "      <th>foreign_exch_reserve</th>\n",
       "      <th>gpd_per_cap</th>\n",
       "      <th>unemployment</th>\n",
       "      <th>inflation_rate</th>\n",
       "      <th>life_length_expectancy</th>\n",
       "      <th>gini</th>\n",
       "      <th>...</th>\n",
       "      <th>corruption_perception</th>\n",
       "      <th>temperature_jan</th>\n",
       "      <th>temperature_jul</th>\n",
       "      <th>suicides_no</th>\n",
       "      <th>15-24 years</th>\n",
       "      <th>25-34 years</th>\n",
       "      <th>35-54 years</th>\n",
       "      <th>5-14 years</th>\n",
       "      <th>55-74 years</th>\n",
       "      <th>75+ years</th>\n",
       "    </tr>\n",
       "  </thead>\n",
       "  <tbody>\n",
       "    <tr>\n",
       "      <th>0</th>\n",
       "      <td>Austria</td>\n",
       "      <td>1995</td>\n",
       "      <td>0</td>\n",
       "      <td>495368</td>\n",
       "      <td>2.336874e+10</td>\n",
       "      <td>30325.84958</td>\n",
       "      <td>4.3473</td>\n",
       "      <td>2.243367</td>\n",
       "      <td>76.668293</td>\n",
       "      <td>31.1</td>\n",
       "      <td>...</td>\n",
       "      <td>NaN</td>\n",
       "      <td>-3.36840</td>\n",
       "      <td>18.3665</td>\n",
       "      <td>19</td>\n",
       "      <td>1.0</td>\n",
       "      <td>0.0</td>\n",
       "      <td>0.0</td>\n",
       "      <td>0.0</td>\n",
       "      <td>0.0</td>\n",
       "      <td>0.0</td>\n",
       "    </tr>\n",
       "    <tr>\n",
       "      <th>1</th>\n",
       "      <td>Austria</td>\n",
       "      <td>1995</td>\n",
       "      <td>0</td>\n",
       "      <td>678262</td>\n",
       "      <td>2.336874e+10</td>\n",
       "      <td>30325.84958</td>\n",
       "      <td>4.3473</td>\n",
       "      <td>2.243367</td>\n",
       "      <td>76.668293</td>\n",
       "      <td>31.1</td>\n",
       "      <td>...</td>\n",
       "      <td>NaN</td>\n",
       "      <td>-3.36840</td>\n",
       "      <td>18.3665</td>\n",
       "      <td>59</td>\n",
       "      <td>0.0</td>\n",
       "      <td>1.0</td>\n",
       "      <td>0.0</td>\n",
       "      <td>0.0</td>\n",
       "      <td>0.0</td>\n",
       "      <td>0.0</td>\n",
       "    </tr>\n",
       "    <tr>\n",
       "      <th>2</th>\n",
       "      <td>Austria</td>\n",
       "      <td>1995</td>\n",
       "      <td>0</td>\n",
       "      <td>1065630</td>\n",
       "      <td>2.336874e+10</td>\n",
       "      <td>30325.84958</td>\n",
       "      <td>4.3473</td>\n",
       "      <td>2.243367</td>\n",
       "      <td>76.668293</td>\n",
       "      <td>31.1</td>\n",
       "      <td>...</td>\n",
       "      <td>NaN</td>\n",
       "      <td>-3.36840</td>\n",
       "      <td>18.3665</td>\n",
       "      <td>136</td>\n",
       "      <td>0.0</td>\n",
       "      <td>0.0</td>\n",
       "      <td>1.0</td>\n",
       "      <td>0.0</td>\n",
       "      <td>0.0</td>\n",
       "      <td>0.0</td>\n",
       "    </tr>\n",
       "    <tr>\n",
       "      <th>3</th>\n",
       "      <td>Austria</td>\n",
       "      <td>1995</td>\n",
       "      <td>0</td>\n",
       "      <td>460945</td>\n",
       "      <td>2.336874e+10</td>\n",
       "      <td>30325.84958</td>\n",
       "      <td>4.3473</td>\n",
       "      <td>2.243367</td>\n",
       "      <td>76.668293</td>\n",
       "      <td>31.1</td>\n",
       "      <td>...</td>\n",
       "      <td>NaN</td>\n",
       "      <td>-3.36840</td>\n",
       "      <td>18.3665</td>\n",
       "      <td>0</td>\n",
       "      <td>0.0</td>\n",
       "      <td>0.0</td>\n",
       "      <td>0.0</td>\n",
       "      <td>1.0</td>\n",
       "      <td>0.0</td>\n",
       "      <td>0.0</td>\n",
       "    </tr>\n",
       "    <tr>\n",
       "      <th>4</th>\n",
       "      <td>Austria</td>\n",
       "      <td>1995</td>\n",
       "      <td>0</td>\n",
       "      <td>843210</td>\n",
       "      <td>2.336874e+10</td>\n",
       "      <td>30325.84958</td>\n",
       "      <td>4.3473</td>\n",
       "      <td>2.243367</td>\n",
       "      <td>76.668293</td>\n",
       "      <td>31.1</td>\n",
       "      <td>...</td>\n",
       "      <td>NaN</td>\n",
       "      <td>-3.36840</td>\n",
       "      <td>18.3665</td>\n",
       "      <td>141</td>\n",
       "      <td>0.0</td>\n",
       "      <td>0.0</td>\n",
       "      <td>0.0</td>\n",
       "      <td>0.0</td>\n",
       "      <td>1.0</td>\n",
       "      <td>0.0</td>\n",
       "    </tr>\n",
       "    <tr>\n",
       "      <th>...</th>\n",
       "      <td>...</td>\n",
       "      <td>...</td>\n",
       "      <td>...</td>\n",
       "      <td>...</td>\n",
       "      <td>...</td>\n",
       "      <td>...</td>\n",
       "      <td>...</td>\n",
       "      <td>...</td>\n",
       "      <td>...</td>\n",
       "      <td>...</td>\n",
       "      <td>...</td>\n",
       "      <td>...</td>\n",
       "      <td>...</td>\n",
       "      <td>...</td>\n",
       "      <td>...</td>\n",
       "      <td>...</td>\n",
       "      <td>...</td>\n",
       "      <td>...</td>\n",
       "      <td>...</td>\n",
       "      <td>...</td>\n",
       "      <td>...</td>\n",
       "    </tr>\n",
       "    <tr>\n",
       "      <th>7243</th>\n",
       "      <td>United Kingdom</td>\n",
       "      <td>2015</td>\n",
       "      <td>1</td>\n",
       "      <td>4408293</td>\n",
       "      <td>1.480000e+11</td>\n",
       "      <td>44974.83188</td>\n",
       "      <td>5.3003</td>\n",
       "      <td>0.368047</td>\n",
       "      <td>80.956098</td>\n",
       "      <td>33.2</td>\n",
       "      <td>...</td>\n",
       "      <td>8.1</td>\n",
       "      <td>3.87941</td>\n",
       "      <td>14.5338</td>\n",
       "      <td>596</td>\n",
       "      <td>0.0</td>\n",
       "      <td>1.0</td>\n",
       "      <td>0.0</td>\n",
       "      <td>0.0</td>\n",
       "      <td>0.0</td>\n",
       "      <td>0.0</td>\n",
       "    </tr>\n",
       "    <tr>\n",
       "      <th>7244</th>\n",
       "      <td>United Kingdom</td>\n",
       "      <td>2015</td>\n",
       "      <td>1</td>\n",
       "      <td>8692440</td>\n",
       "      <td>1.480000e+11</td>\n",
       "      <td>44974.83188</td>\n",
       "      <td>5.3003</td>\n",
       "      <td>0.368047</td>\n",
       "      <td>80.956098</td>\n",
       "      <td>33.2</td>\n",
       "      <td>...</td>\n",
       "      <td>8.1</td>\n",
       "      <td>3.87941</td>\n",
       "      <td>14.5338</td>\n",
       "      <td>1579</td>\n",
       "      <td>0.0</td>\n",
       "      <td>0.0</td>\n",
       "      <td>1.0</td>\n",
       "      <td>0.0</td>\n",
       "      <td>0.0</td>\n",
       "      <td>0.0</td>\n",
       "    </tr>\n",
       "    <tr>\n",
       "      <th>7245</th>\n",
       "      <td>United Kingdom</td>\n",
       "      <td>2015</td>\n",
       "      <td>1</td>\n",
       "      <td>3840476</td>\n",
       "      <td>1.480000e+11</td>\n",
       "      <td>44974.83188</td>\n",
       "      <td>5.3003</td>\n",
       "      <td>0.368047</td>\n",
       "      <td>80.956098</td>\n",
       "      <td>33.2</td>\n",
       "      <td>...</td>\n",
       "      <td>8.1</td>\n",
       "      <td>3.87941</td>\n",
       "      <td>14.5338</td>\n",
       "      <td>4</td>\n",
       "      <td>0.0</td>\n",
       "      <td>0.0</td>\n",
       "      <td>0.0</td>\n",
       "      <td>1.0</td>\n",
       "      <td>0.0</td>\n",
       "      <td>0.0</td>\n",
       "    </tr>\n",
       "    <tr>\n",
       "      <th>7246</th>\n",
       "      <td>United Kingdom</td>\n",
       "      <td>2015</td>\n",
       "      <td>1</td>\n",
       "      <td>6716557</td>\n",
       "      <td>1.480000e+11</td>\n",
       "      <td>44974.83188</td>\n",
       "      <td>5.3003</td>\n",
       "      <td>0.368047</td>\n",
       "      <td>80.956098</td>\n",
       "      <td>33.2</td>\n",
       "      <td>...</td>\n",
       "      <td>8.1</td>\n",
       "      <td>3.87941</td>\n",
       "      <td>14.5338</td>\n",
       "      <td>906</td>\n",
       "      <td>0.0</td>\n",
       "      <td>0.0</td>\n",
       "      <td>0.0</td>\n",
       "      <td>0.0</td>\n",
       "      <td>1.0</td>\n",
       "      <td>0.0</td>\n",
       "    </tr>\n",
       "    <tr>\n",
       "      <th>7247</th>\n",
       "      <td>United Kingdom</td>\n",
       "      <td>2015</td>\n",
       "      <td>1</td>\n",
       "      <td>2200958</td>\n",
       "      <td>1.480000e+11</td>\n",
       "      <td>44974.83188</td>\n",
       "      <td>5.3003</td>\n",
       "      <td>0.368047</td>\n",
       "      <td>80.956098</td>\n",
       "      <td>33.2</td>\n",
       "      <td>...</td>\n",
       "      <td>8.1</td>\n",
       "      <td>3.87941</td>\n",
       "      <td>14.5338</td>\n",
       "      <td>273</td>\n",
       "      <td>0.0</td>\n",
       "      <td>0.0</td>\n",
       "      <td>0.0</td>\n",
       "      <td>0.0</td>\n",
       "      <td>0.0</td>\n",
       "      <td>1.0</td>\n",
       "    </tr>\n",
       "  </tbody>\n",
       "</table>\n",
       "<p>7248 rows × 22 columns</p>\n",
       "</div>"
      ],
      "text/plain": [
       "             country  year  sex  population  foreign_exch_reserve  \\\n",
       "0            Austria  1995    0      495368          2.336874e+10   \n",
       "1            Austria  1995    0      678262          2.336874e+10   \n",
       "2            Austria  1995    0     1065630          2.336874e+10   \n",
       "3            Austria  1995    0      460945          2.336874e+10   \n",
       "4            Austria  1995    0      843210          2.336874e+10   \n",
       "...              ...   ...  ...         ...                   ...   \n",
       "7243  United Kingdom  2015    1     4408293          1.480000e+11   \n",
       "7244  United Kingdom  2015    1     8692440          1.480000e+11   \n",
       "7245  United Kingdom  2015    1     3840476          1.480000e+11   \n",
       "7246  United Kingdom  2015    1     6716557          1.480000e+11   \n",
       "7247  United Kingdom  2015    1     2200958          1.480000e+11   \n",
       "\n",
       "      gpd_per_cap  unemployment  inflation_rate  life_length_expectancy  gini  \\\n",
       "0     30325.84958        4.3473        2.243367               76.668293  31.1   \n",
       "1     30325.84958        4.3473        2.243367               76.668293  31.1   \n",
       "2     30325.84958        4.3473        2.243367               76.668293  31.1   \n",
       "3     30325.84958        4.3473        2.243367               76.668293  31.1   \n",
       "4     30325.84958        4.3473        2.243367               76.668293  31.1   \n",
       "...           ...           ...             ...                     ...   ...   \n",
       "7243  44974.83188        5.3003        0.368047               80.956098  33.2   \n",
       "7244  44974.83188        5.3003        0.368047               80.956098  33.2   \n",
       "7245  44974.83188        5.3003        0.368047               80.956098  33.2   \n",
       "7246  44974.83188        5.3003        0.368047               80.956098  33.2   \n",
       "7247  44974.83188        5.3003        0.368047               80.956098  33.2   \n",
       "\n",
       "      ...  corruption_perception  temperature_jan  temperature_jul  \\\n",
       "0     ...                    NaN         -3.36840          18.3665   \n",
       "1     ...                    NaN         -3.36840          18.3665   \n",
       "2     ...                    NaN         -3.36840          18.3665   \n",
       "3     ...                    NaN         -3.36840          18.3665   \n",
       "4     ...                    NaN         -3.36840          18.3665   \n",
       "...   ...                    ...              ...              ...   \n",
       "7243  ...                    8.1          3.87941          14.5338   \n",
       "7244  ...                    8.1          3.87941          14.5338   \n",
       "7245  ...                    8.1          3.87941          14.5338   \n",
       "7246  ...                    8.1          3.87941          14.5338   \n",
       "7247  ...                    8.1          3.87941          14.5338   \n",
       "\n",
       "      suicides_no  15-24 years  25-34 years  35-54 years  5-14 years  \\\n",
       "0              19          1.0          0.0          0.0         0.0   \n",
       "1              59          0.0          1.0          0.0         0.0   \n",
       "2             136          0.0          0.0          1.0         0.0   \n",
       "3               0          0.0          0.0          0.0         1.0   \n",
       "4             141          0.0          0.0          0.0         0.0   \n",
       "...           ...          ...          ...          ...         ...   \n",
       "7243          596          0.0          1.0          0.0         0.0   \n",
       "7244         1579          0.0          0.0          1.0         0.0   \n",
       "7245            4          0.0          0.0          0.0         1.0   \n",
       "7246          906          0.0          0.0          0.0         0.0   \n",
       "7247          273          0.0          0.0          0.0         0.0   \n",
       "\n",
       "      55-74 years  75+ years  \n",
       "0             0.0        0.0  \n",
       "1             0.0        0.0  \n",
       "2             0.0        0.0  \n",
       "3             0.0        0.0  \n",
       "4             1.0        0.0  \n",
       "...           ...        ...  \n",
       "7243          0.0        0.0  \n",
       "7244          0.0        0.0  \n",
       "7245          0.0        0.0  \n",
       "7246          1.0        0.0  \n",
       "7247          0.0        1.0  \n",
       "\n",
       "[7248 rows x 22 columns]"
      ]
     },
     "execution_count": 23,
     "metadata": {},
     "output_type": "execute_result"
    }
   ],
   "source": [
    "OH_df"
   ]
  },
  {
   "cell_type": "code",
   "execution_count": 24,
   "metadata": {},
   "outputs": [],
   "source": [
    "# print(df_raw.groupby('country').size().sort_values(ascending=False))"
   ]
  },
  {
   "cell_type": "markdown",
   "metadata": {},
   "source": [
    "### Train and Test set split"
   ]
  },
  {
   "cell_type": "markdown",
   "metadata": {},
   "source": [
    "Divide all data into test as 20% and train as 80%."
   ]
  },
  {
   "cell_type": "code",
   "execution_count": 25,
   "metadata": {},
   "outputs": [
    {
     "name": "stdout",
     "output_type": "stream",
     "text": [
      "0.7918046357615894\n"
     ]
    }
   ],
   "source": [
    "msk = np.random.rand(len(df_raw)) < 0.8 # 1 time (!!)\n",
    "print(len(df_raw[msk])/len(df_raw))"
   ]
  },
  {
   "cell_type": "markdown",
   "metadata": {},
   "source": [
    "Initialize two DataFrames according to previuos separation."
   ]
  },
  {
   "cell_type": "code",
   "execution_count": 26,
   "metadata": {},
   "outputs": [],
   "source": [
    "train = OH_df[msk]\n",
    "test = OH_df[~msk]"
   ]
  },
  {
   "cell_type": "markdown",
   "metadata": {},
   "source": [
    "Split train DataFrame into *X* and *y*."
   ]
  },
  {
   "cell_type": "code",
   "execution_count": 27,
   "metadata": {},
   "outputs": [],
   "source": [
    "X,y = train.drop(columns=['suicides_no']), train['suicides_no']\n",
    "X_test,y_test = test.drop(columns=['suicides_no']), test['suicides_no']"
   ]
  },
  {
   "cell_type": "markdown",
   "metadata": {},
   "source": [
    "### Train and Validation set split"
   ]
  },
  {
   "cell_type": "markdown",
   "metadata": {},
   "source": [
    "Split X and y into *test* and *validation*."
   ]
  },
  {
   "cell_type": "code",
   "execution_count": 28,
   "metadata": {},
   "outputs": [
    {
     "name": "stdout",
     "output_type": "stream",
     "text": [
      "Train set: (4304, 21) (4304,)\n",
      "Validation set: (1435, 21) (1435,)\n"
     ]
    }
   ],
   "source": [
    "X_train, X_valid, y_train, y_valid = train_test_split(X,y,test_size=0.25, random_state=158)\n",
    "print ('Train set:', X_train.shape,  y_train.shape)\n",
    "print ('Validation set:', X_valid.shape,  y_valid.shape)"
   ]
  },
  {
   "cell_type": "markdown",
   "metadata": {},
   "source": [
    "#### Simple Imputer"
   ]
  },
  {
   "cell_type": "markdown",
   "metadata": {},
   "source": [
    "Impute the remaining two columns: *gini* and *corruption_perception*.\n",
    "Restore columns names and indexes. Dropping *country* column."
   ]
  },
  {
   "cell_type": "code",
   "execution_count": 29,
   "metadata": {},
   "outputs": [],
   "source": [
    "features = X_train.columns[1:]\n",
    "\n",
    "my_imputer = SimpleImputer(strategy='mean')\n",
    "imputed_X_train = pd.DataFrame(my_imputer.fit_transform(X_train[features]))\n",
    "imputed_X_valid = pd.DataFrame(my_imputer.transform(X_valid[features]))\n",
    "imputed_X_test = pd.DataFrame(my_imputer.transform(X_test[features]))\n",
    "\n",
    "imputed_X_train.columns = X_train[features].columns\n",
    "imputed_X_valid.columns = X_valid[features].columns\n",
    "imputed_X_test.columns = X_test[features].columns\n",
    "\n",
    "imputed_X_train.index = X_train[features].index\n",
    "imputed_X_valid.index = X_valid[features].index\n",
    "imputed_X_test.index = X_test[features].index"
   ]
  },
  {
   "cell_type": "markdown",
   "metadata": {},
   "source": [
    "#### Changing several formats"
   ]
  },
  {
   "cell_type": "markdown",
   "metadata": {},
   "source": [
    "Form a dictionary for a DataFrame columns with less PC memory consuming data types."
   ]
  },
  {
   "cell_type": "code",
   "execution_count": 30,
   "metadata": {},
   "outputs": [],
   "source": [
    "formats = {'sex': 'int8','15-24 years': 'int8',\n",
    "           '25-34 years': 'int8','35-54 years': 'int8',\n",
    "           '5-14 years': 'int8','55-74 years': 'int8',\n",
    "           '75+ years': 'int8', 'year': 'int32'}"
   ]
  },
  {
   "cell_type": "markdown",
   "metadata": {},
   "source": [
    "BEFORE PRE-PROCESSING"
   ]
  },
  {
   "cell_type": "code",
   "execution_count": 31,
   "metadata": {},
   "outputs": [
    {
     "data": {
      "text/html": [
       "<div>\n",
       "<style scoped>\n",
       "    .dataframe tbody tr th:only-of-type {\n",
       "        vertical-align: middle;\n",
       "    }\n",
       "\n",
       "    .dataframe tbody tr th {\n",
       "        vertical-align: top;\n",
       "    }\n",
       "\n",
       "    .dataframe thead th {\n",
       "        text-align: right;\n",
       "    }\n",
       "</style>\n",
       "<table border=\"1\" class=\"dataframe\">\n",
       "  <thead>\n",
       "    <tr style=\"text-align: right;\">\n",
       "      <th></th>\n",
       "      <th>country</th>\n",
       "      <th>year</th>\n",
       "      <th>sex</th>\n",
       "      <th>population</th>\n",
       "      <th>foreign_exch_reserve</th>\n",
       "      <th>gpd_per_cap</th>\n",
       "      <th>unemployment</th>\n",
       "      <th>inflation_rate</th>\n",
       "      <th>life_length_expectancy</th>\n",
       "      <th>gini</th>\n",
       "      <th>...</th>\n",
       "      <th>arms_import</th>\n",
       "      <th>corruption_perception</th>\n",
       "      <th>temperature_jan</th>\n",
       "      <th>temperature_jul</th>\n",
       "      <th>15-24 years</th>\n",
       "      <th>25-34 years</th>\n",
       "      <th>35-54 years</th>\n",
       "      <th>5-14 years</th>\n",
       "      <th>55-74 years</th>\n",
       "      <th>75+ years</th>\n",
       "    </tr>\n",
       "  </thead>\n",
       "  <tbody>\n",
       "    <tr>\n",
       "      <th>2828</th>\n",
       "      <td>France</td>\n",
       "      <td>2010</td>\n",
       "      <td>1</td>\n",
       "      <td>8518205</td>\n",
       "      <td>1.660000e+11</td>\n",
       "      <td>40638.334000</td>\n",
       "      <td>8.8713</td>\n",
       "      <td>1.531123</td>\n",
       "      <td>81.663415</td>\n",
       "      <td>33.7</td>\n",
       "      <td>...</td>\n",
       "      <td>103000000.0</td>\n",
       "      <td>6.8</td>\n",
       "      <td>1.06260</td>\n",
       "      <td>20.9197</td>\n",
       "      <td>0.0</td>\n",
       "      <td>0.0</td>\n",
       "      <td>1.0</td>\n",
       "      <td>0.0</td>\n",
       "      <td>0.0</td>\n",
       "      <td>0.0</td>\n",
       "    </tr>\n",
       "    <tr>\n",
       "      <th>4011</th>\n",
       "      <td>Italy</td>\n",
       "      <td>1985</td>\n",
       "      <td>0</td>\n",
       "      <td>3898700</td>\n",
       "      <td>3.739657e+10</td>\n",
       "      <td>7990.686562</td>\n",
       "      <td>9.4065</td>\n",
       "      <td>9.205991</td>\n",
       "      <td>75.470732</td>\n",
       "      <td>NaN</td>\n",
       "      <td>...</td>\n",
       "      <td>206000000.0</td>\n",
       "      <td>NaN</td>\n",
       "      <td>0.89887</td>\n",
       "      <td>21.7534</td>\n",
       "      <td>0.0</td>\n",
       "      <td>0.0</td>\n",
       "      <td>0.0</td>\n",
       "      <td>1.0</td>\n",
       "      <td>0.0</td>\n",
       "      <td>0.0</td>\n",
       "    </tr>\n",
       "  </tbody>\n",
       "</table>\n",
       "<p>2 rows × 21 columns</p>\n",
       "</div>"
      ],
      "text/plain": [
       "     country  year  sex  population  foreign_exch_reserve   gpd_per_cap  \\\n",
       "2828  France  2010    1     8518205          1.660000e+11  40638.334000   \n",
       "4011   Italy  1985    0     3898700          3.739657e+10   7990.686562   \n",
       "\n",
       "      unemployment  inflation_rate  life_length_expectancy  gini  ...  \\\n",
       "2828        8.8713        1.531123               81.663415  33.7  ...   \n",
       "4011        9.4065        9.205991               75.470732   NaN  ...   \n",
       "\n",
       "      arms_import  corruption_perception  temperature_jan  temperature_jul  \\\n",
       "2828  103000000.0                    6.8          1.06260          20.9197   \n",
       "4011  206000000.0                    NaN          0.89887          21.7534   \n",
       "\n",
       "      15-24 years  25-34 years  35-54 years  5-14 years  55-74 years  \\\n",
       "2828          0.0          0.0          1.0         0.0          0.0   \n",
       "4011          0.0          0.0          0.0         1.0          0.0   \n",
       "\n",
       "      75+ years  \n",
       "2828        0.0  \n",
       "4011        0.0  \n",
       "\n",
       "[2 rows x 21 columns]"
      ]
     },
     "execution_count": 31,
     "metadata": {},
     "output_type": "execute_result"
    }
   ],
   "source": [
    "X_train[:2] "
   ]
  },
  {
   "cell_type": "markdown",
   "metadata": {},
   "source": [
    "#### Final train/validation/test"
   ]
  },
  {
   "cell_type": "markdown",
   "metadata": {},
   "source": [
    "Construct final train/validation/test DataFrames."
   ]
  },
  {
   "cell_type": "code",
   "execution_count": 32,
   "metadata": {},
   "outputs": [],
   "source": [
    "X_train = imputed_X_train.copy().astype(formats)\n",
    "X_valid = imputed_X_valid.copy().astype(formats)\n",
    "X_test = imputed_X_test.copy().astype(formats)"
   ]
  },
  {
   "cell_type": "markdown",
   "metadata": {},
   "source": [
    "AFTER PRE-PROCESSING"
   ]
  },
  {
   "cell_type": "code",
   "execution_count": 33,
   "metadata": {},
   "outputs": [
    {
     "data": {
      "text/html": [
       "<div>\n",
       "<style scoped>\n",
       "    .dataframe tbody tr th:only-of-type {\n",
       "        vertical-align: middle;\n",
       "    }\n",
       "\n",
       "    .dataframe tbody tr th {\n",
       "        vertical-align: top;\n",
       "    }\n",
       "\n",
       "    .dataframe thead th {\n",
       "        text-align: right;\n",
       "    }\n",
       "</style>\n",
       "<table border=\"1\" class=\"dataframe\">\n",
       "  <thead>\n",
       "    <tr style=\"text-align: right;\">\n",
       "      <th></th>\n",
       "      <th>year</th>\n",
       "      <th>sex</th>\n",
       "      <th>population</th>\n",
       "      <th>foreign_exch_reserve</th>\n",
       "      <th>gpd_per_cap</th>\n",
       "      <th>unemployment</th>\n",
       "      <th>inflation_rate</th>\n",
       "      <th>life_length_expectancy</th>\n",
       "      <th>gini</th>\n",
       "      <th>arms_export</th>\n",
       "      <th>arms_import</th>\n",
       "      <th>corruption_perception</th>\n",
       "      <th>temperature_jan</th>\n",
       "      <th>temperature_jul</th>\n",
       "      <th>15-24 years</th>\n",
       "      <th>25-34 years</th>\n",
       "      <th>35-54 years</th>\n",
       "      <th>5-14 years</th>\n",
       "      <th>55-74 years</th>\n",
       "      <th>75+ years</th>\n",
       "    </tr>\n",
       "  </thead>\n",
       "  <tbody>\n",
       "    <tr>\n",
       "      <th>2828</th>\n",
       "      <td>2010</td>\n",
       "      <td>1</td>\n",
       "      <td>8518205.0</td>\n",
       "      <td>1.660000e+11</td>\n",
       "      <td>40638.334000</td>\n",
       "      <td>8.8713</td>\n",
       "      <td>1.531123</td>\n",
       "      <td>81.663415</td>\n",
       "      <td>33.700000</td>\n",
       "      <td>866000000.0</td>\n",
       "      <td>103000000.0</td>\n",
       "      <td>6.800000</td>\n",
       "      <td>1.06260</td>\n",
       "      <td>20.9197</td>\n",
       "      <td>0</td>\n",
       "      <td>0</td>\n",
       "      <td>1</td>\n",
       "      <td>0</td>\n",
       "      <td>0</td>\n",
       "      <td>0</td>\n",
       "    </tr>\n",
       "    <tr>\n",
       "      <th>4011</th>\n",
       "      <td>1985</td>\n",
       "      <td>0</td>\n",
       "      <td>3898700.0</td>\n",
       "      <td>3.739657e+10</td>\n",
       "      <td>7990.686562</td>\n",
       "      <td>9.4065</td>\n",
       "      <td>9.205991</td>\n",
       "      <td>75.470732</td>\n",
       "      <td>31.346157</td>\n",
       "      <td>920000000.0</td>\n",
       "      <td>206000000.0</td>\n",
       "      <td>6.768767</td>\n",
       "      <td>0.89887</td>\n",
       "      <td>21.7534</td>\n",
       "      <td>0</td>\n",
       "      <td>0</td>\n",
       "      <td>0</td>\n",
       "      <td>1</td>\n",
       "      <td>0</td>\n",
       "      <td>0</td>\n",
       "    </tr>\n",
       "  </tbody>\n",
       "</table>\n",
       "</div>"
      ],
      "text/plain": [
       "      year  sex  population  foreign_exch_reserve   gpd_per_cap  unemployment  \\\n",
       "2828  2010    1   8518205.0          1.660000e+11  40638.334000        8.8713   \n",
       "4011  1985    0   3898700.0          3.739657e+10   7990.686562        9.4065   \n",
       "\n",
       "      inflation_rate  life_length_expectancy       gini  arms_export  \\\n",
       "2828        1.531123               81.663415  33.700000  866000000.0   \n",
       "4011        9.205991               75.470732  31.346157  920000000.0   \n",
       "\n",
       "      arms_import  corruption_perception  temperature_jan  temperature_jul  \\\n",
       "2828  103000000.0               6.800000          1.06260          20.9197   \n",
       "4011  206000000.0               6.768767          0.89887          21.7534   \n",
       "\n",
       "      15-24 years  25-34 years  35-54 years  5-14 years  55-74 years  \\\n",
       "2828            0            0            1           0            0   \n",
       "4011            0            0            0           1            0   \n",
       "\n",
       "      75+ years  \n",
       "2828          0  \n",
       "4011          0  "
      ]
     },
     "execution_count": 33,
     "metadata": {},
     "output_type": "execute_result"
    }
   ],
   "source": [
    "X_train[:2]"
   ]
  },
  {
   "cell_type": "markdown",
   "metadata": {},
   "source": [
    "Final check for train/validation/test set shapes."
   ]
  },
  {
   "cell_type": "code",
   "execution_count": 34,
   "metadata": {},
   "outputs": [
    {
     "name": "stdout",
     "output_type": "stream",
     "text": [
      "Train set: (4304, 20) (4304,)\n",
      "Validation set: (1435, 20) (1435,)\n",
      "Test set: (1509, 20) (1509,)\n"
     ]
    }
   ],
   "source": [
    "print ('Train set:', X_train.shape,  y_train.shape)\n",
    "print ('Validation set:', X_valid.shape,  y_valid.shape)\n",
    "print ('Test set:', X_test.shape,  y_test.shape)"
   ]
  },
  {
   "cell_type": "markdown",
   "metadata": {},
   "source": [
    "Function for computing RMSE."
   ]
  },
  {
   "cell_type": "code",
   "execution_count": 62,
   "metadata": {},
   "outputs": [],
   "source": [
    "def rmse(x: np.ndarray,y: np.ndarray): \n",
    "    '''Root Mean Square Error (RMSE) is the standard deviation of the residuals \n",
    "    (prediction errors). Function takes predictions based on trained features as \n",
    "    'x' and answers as 'y'.\n",
    "    Parameters:\n",
    "    -----------\n",
    "    (1) x --> predictions ;\n",
    "    (2) y --> observed values (known results);\n",
    "    -----------\n",
    "    Returns RMSE value.\n",
    "    '''\n",
    "    return math.sqrt(((x-y)**2).mean())"
   ]
  },
  {
   "cell_type": "markdown",
   "metadata": {},
   "source": [
    "Function for computing and printing model scores."
   ]
  },
  {
   "cell_type": "code",
   "execution_count": 64,
   "metadata": {},
   "outputs": [],
   "source": [
    "def print_score(m):\n",
    "    '''Function takes a model and calculates and prints its RMSE values and r² \n",
    "    scores for train and validation set. Also attaches oob_score for Random \n",
    "    Forest model.\n",
    "    Parameters:\n",
    "    -----------\n",
    "    (1) m --> given model;\n",
    "    -----------\n",
    "    Returns scoring values in the following order: \n",
    "    [training rmse, validation rmse, r² for training set, r² for validation set, \n",
    "    oob_score_]\n",
    "    '''\n",
    "    res = [rmse(m.predict(X_train), y_train),\n",
    "           rmse(m.predict(X_valid), y_valid),\n",
    "           m.score(X_train, y_train), m.score(X_valid, y_valid)]\n",
    "    if hasattr(m, 'oob_score_'): res.append(m.oob_score_)\n",
    "    return print(res)"
   ]
  },
  {
   "cell_type": "markdown",
   "metadata": {},
   "source": [
    "### Random Forest model"
   ]
  },
  {
   "cell_type": "code",
   "execution_count": 37,
   "metadata": {},
   "outputs": [],
   "source": [
    "# forest_model = RandomForestRegressor(n_jobs=-1, random_state=58)\n",
    "# forest_model.fit(X_train, y_train)\n",
    "# valid_preds = forest_model.predict(X_valid)\n",
    "# print(mean_absolute_error(y_valid,valid_preds))\n",
    "# print(\"R2-score Random forest: %.6f\" % r2_score(y_valid,valid_preds))"
   ]
  },
  {
   "cell_type": "markdown",
   "metadata": {},
   "source": [
    "Random Forest model."
   ]
  },
  {
   "cell_type": "code",
   "execution_count": 65,
   "metadata": {},
   "outputs": [
    {
     "name": "stdout",
     "output_type": "stream",
     "text": [
      "[40.463073377826504, 104.08743443728056, 0.9908199719496443, 0.9409939442528432, 0.9333160820622135]\n"
     ]
    }
   ],
   "source": [
    "forest_model = RandomForestRegressor(n_jobs=-1, random_state=158,oob_score=True) # m = RandomForestRegressor()\n",
    "forest_model.fit(X_train, y_train)   # m.fit(X_train, y_train)\n",
    "print_score(forest_model)"
   ]
  },
  {
   "cell_type": "code",
   "execution_count": 61,
   "metadata": {},
   "outputs": [
    {
     "data": {
      "text/plain": [
       "numpy.ndarray"
      ]
     },
     "execution_count": 61,
     "metadata": {},
     "output_type": "execute_result"
    }
   ],
   "source": [
    "x = forest_model.predict(X_train); type(x)"
   ]
  },
  {
   "cell_type": "markdown",
   "metadata": {},
   "source": [
    "### Linear Regression model"
   ]
  },
  {
   "cell_type": "code",
   "execution_count": 39,
   "metadata": {},
   "outputs": [
    {
     "name": "stdout",
     "output_type": "stream",
     "text": [
      "[260.86301672800016, 271.8005003802866, 0.6184501389479591, 0.5976532655109332]\n"
     ]
    }
   ],
   "source": [
    "regr = linear_model.LinearRegression()\n",
    "regr.fit(X_train, y_train)\n",
    "print_score(regr)"
   ]
  },
  {
   "cell_type": "markdown",
   "metadata": {},
   "source": [
    "Linear Regression Coefficients and Intercept value along with column names."
   ]
  },
  {
   "cell_type": "code",
   "execution_count": 40,
   "metadata": {},
   "outputs": [
    {
     "name": "stdout",
     "output_type": "stream",
     "text": [
      "Coefficients:  [-7.89739249e-01  2.15374209e+02  1.15113001e-04  5.05045235e-10\n",
      "  6.34048389e-04  2.87769354e-01 -7.92409539e+00 -1.83016306e+01\n",
      " -8.66100998e+00  5.70310944e-08 -9.05516720e-08  4.11680500e+00\n",
      " -3.52801123e+00  7.96300978e+00 -8.35202337e+01 -2.43378379e+01\n",
      "  8.81460429e+01 -1.69900814e+02  1.08870134e+02  8.07427088e+01]\n",
      "\n",
      "Intercept:  2990.6269708235673\n",
      "\n",
      "Column names: ['year', 'sex', 'population', 'foreign_exch_reserve', 'gpd_per_cap', 'unemployment', 'inflation_rate', 'life_length_expectancy', 'gini', 'arms_export', 'arms_import', 'corruption_perception', 'temperature_jan', 'temperature_jul', '15-24 years', '25-34 years', '35-54 years', '5-14 years', '55-74 years', '75+ years']\n"
     ]
    }
   ],
   "source": [
    "print ('Coefficients: ', regr.coef_)\n",
    "print()\n",
    "print ('Intercept: ',regr.intercept_)\n",
    "print()\n",
    "print(f'Column names: {list(X_train.columns)}')"
   ]
  },
  {
   "cell_type": "markdown",
   "metadata": {},
   "source": [
    "### DecisionTreeRegressor model"
   ]
  },
  {
   "cell_type": "markdown",
   "metadata": {},
   "source": [
    "Function for finding MAE score."
   ]
  },
  {
   "cell_type": "code",
   "execution_count": 76,
   "metadata": {},
   "outputs": [],
   "source": [
    "def get_mae(max_leaf_nodes: list, train_X: pd.DataFrame, val_X: pd.DataFrame,train_y: pd.Series, val_y:pd.Series) -> np.float64:\n",
    "    '''Mean Absolute Error (MAE) evaluates the average dimension\n",
    "    of the error in a predictions set. Function takes X and y \n",
    "    from the training and validation sets.\n",
    "    Parameters:\n",
    "    -----------\n",
    "    (1) max_leaf_nodes --> list of possible 'max_leaf_nodes' values;\n",
    "    (2) train_X --> training set of independent features;\n",
    "    (3) val_X --> validation set of independent features;\n",
    "    (4) train_y --> training set of dependent features;\n",
    "    (5) val_y --> validation set of dependent features;\n",
    "    -----------\n",
    "    Returns MAE value.\n",
    "    '''\n",
    "    model = DecisionTreeRegressor(max_leaf_nodes=max_leaf_nodes, random_state=158)\n",
    "    model.fit(train_X, train_y)\n",
    "    preds_val = model.predict(val_X)\n",
    "    mae = mean_absolute_error(val_y, preds_val)\n",
    "    return mae"
   ]
  },
  {
   "cell_type": "markdown",
   "metadata": {},
   "source": [
    "Loop in order to find best 'max_leaf_nodes' parameter's argument."
   ]
  },
  {
   "cell_type": "code",
   "execution_count": 75,
   "metadata": {},
   "outputs": [
    {
     "name": "stdout",
     "output_type": "stream",
     "text": [
      "Max leaf nodes: 5  \t\t Mean Absolute Error:144\n",
      "Max leaf nodes: 50  \t\t Mean Absolute Error:81\n",
      "Max leaf nodes: 250  \t\t Mean Absolute Error:53\n",
      "Max leaf nodes: 350  \t\t Mean Absolute Error:51\n",
      "Max leaf nodes: 500  \t\t Mean Absolute Error:49\n"
     ]
    }
   ],
   "source": [
    "for max_leaf_nodes in [5, 50, 250, 350, 500]:\n",
    "    my_mae = get_mae(max_leaf_nodes, X_train, X_valid,y_train, y_valid)\n",
    "    print(\"Max leaf nodes: %d  \\t\\t Mean Absolute Error:%d\" %(max_leaf_nodes, my_mae))"
   ]
  },
  {
   "cell_type": "markdown",
   "metadata": {},
   "source": [
    "DecisionTreeRegressor model and score."
   ]
  },
  {
   "cell_type": "code",
   "execution_count": 43,
   "metadata": {},
   "outputs": [
    {
     "name": "stdout",
     "output_type": "stream",
     "text": [
      "[26.982386584730357, 154.0328896630475, 0.9959178684547304, 0.8707808432052841]\n"
     ]
    }
   ],
   "source": [
    "model = DecisionTreeRegressor(max_leaf_nodes=350, random_state=158, max_features=0.5)\n",
    "model.fit(X_train, y_train)\n",
    "print_score(model)"
   ]
  },
  {
   "cell_type": "markdown",
   "metadata": {},
   "source": [
    "### K-Nearest Neighbors model"
   ]
  },
  {
   "cell_type": "markdown",
   "metadata": {},
   "source": [
    "Loop to find K value for the model comparing error rate."
   ]
  },
  {
   "cell_type": "code",
   "execution_count": 44,
   "metadata": {},
   "outputs": [
    {
     "name": "stdout",
     "output_type": "stream",
     "text": [
      "Minimum error:- 0.9310104529616725 at K = 95\n"
     ]
    },
    {
     "data": {
      "image/png": "[encoded data removed]",
      "text/plain": [
       "<Figure size 720x432 with 1 Axes>"
      ]
     },
     "metadata": {
      "needs_background": "light"
     },
     "output_type": "display_data"
    }
   ],
   "source": [
    "error_rate = []          ## from https://towardsdatascience.com/how-to-find-the-optimal-value-of-k-in-knn-35d936e554eb\n",
    "for i in range(1,100):\n",
    "    knn = KNeighborsClassifier(n_neighbors=i)\n",
    "    knn.fit(X_train,y_train)\n",
    "    pred_i = knn.predict(X_valid)\n",
    "    error_rate.append(np.mean(pred_i != y_valid))\n",
    "\n",
    "plt.figure(figsize=(10,6))\n",
    "plt.plot(range(1,100),error_rate,color='green', linestyle='dashed', \n",
    "         marker='o',markerfacecolor='yellow', markersize=10)\n",
    "plt.title('Error Rate vs. K Value')\n",
    "plt.xlabel('K')\n",
    "plt.ylabel('Error Rate')\n",
    "print(\"Minimum error:-\",min(error_rate),\"at K =\",error_rate.index(min(error_rate)))"
   ]
  },
  {
   "cell_type": "markdown",
   "metadata": {},
   "source": [
    "Loop to find K value for the model comparing accuracy."
   ]
  },
  {
   "cell_type": "code",
   "execution_count": 45,
   "metadata": {},
   "outputs": [
    {
     "name": "stdout",
     "output_type": "stream",
     "text": [
      "Maximum accuracy:- 0.06898954703832752 at K = 95\n"
     ]
    },
    {
     "data": {
      "image/png": "[encoded data removed]",
      "text/plain": [
       "<Figure size 720x432 with 1 Axes>"
      ]
     },
     "metadata": {
      "needs_background": "light"
     },
     "output_type": "display_data"
    }
   ],
   "source": [
    "acc_list = []                    ## from https://towardsdatascience.com/how-to-find-the-optimal-value-of-k-in-knn-35d936e554eb\n",
    "from sklearn import metrics\n",
    "for i in range(1,100):\n",
    "    neigh = KNeighborsClassifier(n_neighbors = i).fit(X_train,y_train)\n",
    "    yhat = neigh.predict(X_valid)\n",
    "    acc_list.append(metrics.accuracy_score(y_valid, yhat))\n",
    "    \n",
    "plt.figure(figsize=(10,6))\n",
    "plt.plot(range(1,100),acc_list,color = 'green',linestyle='dashed', \n",
    "         marker='o',markerfacecolor='yellow', markersize=10)\n",
    "plt.title('accuracy vs. K Value')\n",
    "plt.xlabel('K')\n",
    "plt.ylabel('Accuracy')\n",
    "print(\"Maximum accuracy:-\",max(acc_list),\"at K =\",acc_list.index(max(acc_list)))"
   ]
  },
  {
   "cell_type": "markdown",
   "metadata": {},
   "source": [
    "K-Nearest Neighbors model and score."
   ]
  },
  {
   "cell_type": "code",
   "execution_count": 77,
   "metadata": {},
   "outputs": [
    {
     "name": "stdout",
     "output_type": "stream",
     "text": [
      "[474.0869955204017, 473.09522433564956, 0.07272304832713755, 0.06759581881533101]\n"
     ]
    }
   ],
   "source": [
    "k=95\n",
    "neigh = KNeighborsClassifier(n_neighbors = k,n_jobs=-1)\n",
    "neigh.fit(X_train,y_train)\n",
    "print_score(neigh)"
   ]
  },
  {
   "cell_type": "markdown",
   "metadata": {},
   "source": [
    "#### Scaling for Logistic Regression model and Support Vector Regression model"
   ]
  },
  {
   "cell_type": "markdown",
   "metadata": {},
   "source": [
    "Scale data to \\[-1,1\\] and increase model speed."
   ]
  },
  {
   "cell_type": "code",
   "execution_count": 47,
   "metadata": {},
   "outputs": [],
   "source": [
    "scaling = MinMaxScaler(feature_range=(-1,1)).fit(X_train)\n",
    "X_train_scaler = scaling.transform(X_train)\n",
    "X_valid_scaler = scaling.transform(X_valid)"
   ]
  },
  {
   "cell_type": "markdown",
   "metadata": {},
   "source": [
    "### Logistic Regression model"
   ]
  },
  {
   "cell_type": "markdown",
   "metadata": {},
   "source": [
    "Function for model scoring after scaling."
   ]
  },
  {
   "cell_type": "code",
   "execution_count": 48,
   "metadata": {},
   "outputs": [],
   "source": [
    "def print_score_scaler(m):\n",
    "    '''Function takes a model and calculates and prints its RMSE values and r² \n",
    "    scores for train and validation sets, but both sets should be scaled.\n",
    "    Parameters:\n",
    "    -----------\n",
    "    (1) m --> given model;\n",
    "    -----------\n",
    "    Returns scoring values in the following order: [training rmse, validation -\n",
    "    rmse, r² for training set, r² for validation set] \n",
    "    '''\n",
    "    res = [rmse(m.predict(X_train_scaler), y_train),\n",
    "           rmse(m.predict(X_valid_scaler), y_valid),\n",
    "           m.score(X_train_scaler, y_train), m.score(X_valid_scaler, y_valid)]\n",
    "    if hasattr(m, 'oob_score_'): res.append(m.oob_score_)\n",
    "    print(res) "
   ]
  },
  {
   "cell_type": "markdown",
   "metadata": {},
   "source": [
    "Loop through 4 models to evaluate accuracy and choose the best performed solver model."
   ]
  },
  {
   "cell_type": "code",
   "execution_count": 59,
   "metadata": {},
   "outputs": [
    {
     "name": "stdout",
     "output_type": "stream",
     "text": [
      "\"newton-cg\" kernel model accuracy score: 0.087805\n",
      "\"liblinear\" kernel model accuracy score: 0.08223\n",
      "\"sag\" kernel model accuracy score: 0.087805\n"
     ]
    }
   ],
   "source": [
    "list_lr = ['newton-cg', 'liblinear', 'sag']\n",
    "for solver in list_lr:\n",
    "    lr = linear_model.LogisticRegression(C=0.9, solver=solver).fit(X_train_scaler,y_train)\n",
    "    y_hat = lr.predict(X_valid_scaler)\n",
    "    mean_acc = accuracy_score(y_valid,y_hat)\n",
    "    print(f'\"{solver}\" kernel model accuracy score: {mean_acc.round(6)}')"
   ]
  },
  {
   "cell_type": "markdown",
   "metadata": {},
   "source": [
    "Logistic Regression model with solver as \"newton-cg\" and model's score."
   ]
  },
  {
   "cell_type": "code",
   "execution_count": 55,
   "metadata": {},
   "outputs": [
    {
     "name": "stdout",
     "output_type": "stream",
     "text": [
      "[310.8124326053927, 296.169798976506, 0.1171003717472119, 0.08780487804878048]\n"
     ]
    }
   ],
   "source": [
    "logreg = linear_model.LogisticRegression(C=0.9, solver='newton-cg')\n",
    "logreg.fit(X_train_scaler,y_train)\n",
    "print_score_scaler(logreg) "
   ]
  },
  {
   "cell_type": "markdown",
   "metadata": {},
   "source": [
    "### Support Vector Regression model"
   ]
  },
  {
   "cell_type": "markdown",
   "metadata": {},
   "source": [
    "Loop through 4 models to evaluate accuracy and choose the best performed kernel model."
   ]
  },
  {
   "cell_type": "code",
   "execution_count": 51,
   "metadata": {},
   "outputs": [
    {
     "name": "stdout",
     "output_type": "stream",
     "text": [
      "linear kernel model accuracy score: 0.088502\n",
      "rbf kernel model accuracy score: 0.081533\n",
      "sigmoid kernel model accuracy score: 0.067596\n",
      "poly kernel model accuracy score: 0.092683\n"
     ]
    }
   ],
   "source": [
    "list_svm = ['linear', 'rbf', 'sigmoid','poly']\n",
    "for model in list_svm:\n",
    "    svm = SVC(kernel=model).fit(X_train_scaler,y_train)\n",
    "    y_hat = svm.predict(X_valid_scaler)\n",
    "    mean_acc = accuracy_score(y_valid,y_hat)\n",
    "    print(f'{model} kernel model accuracy score: {mean_acc.round(6)}')"
   ]
  },
  {
   "cell_type": "markdown",
   "metadata": {},
   "source": [
    "**Support Vector Regression** model with kernel as \"poly\" and model's score."
   ]
  },
  {
   "cell_type": "code",
   "execution_count": 52,
   "metadata": {},
   "outputs": [
    {
     "name": "stdout",
     "output_type": "stream",
     "text": [
      "[323.34176727812746, 313.79960315584617, 0.16984200743494424, 0.09268292682926829]\n"
     ]
    }
   ],
   "source": [
    "svm = SVC(kernel='poly')\n",
    "svm.fit(X_train_scaler,y_train)\n",
    "print_score_scaler(svm) "
   ]
  },
  {
   "cell_type": "markdown",
   "metadata": {},
   "source": [
    "#  Final scores"
   ]
  },
  {
   "cell_type": "markdown",
   "metadata": {},
   "source": [
    "| Algorithm            |  RMSE    |    r²    |\n",
    "| -------------------- | -------- | -------- |\n",
    "| Random Forest        | 104.0874 | 0.9410   |\n",
    "| DecisionTreeRegressor| 154.0329 | 0.8708   |\n",
    "| LinearRegression     | 271.8005 | 0.5977   | \n",
    "| SVM                  | 313.7996 | 0.0927   |\n",
    "| LogisticRegression   | 296.1698 | 0.0878   |\n",
    "| K-Nearest Neighbors  | 473.0952 | 0.0676   |"
   ]
  },
  {
   "cell_type": "markdown",
   "metadata": {},
   "source": [
    "### Next model TBC.."
   ]
  },
  {
   "cell_type": "code",
   "execution_count": 53,
   "metadata": {},
   "outputs": [],
   "source": [
    "### To-Do list:\n",
    "# * Catboost for countries; // RobustScaler\n",
    "# * SGD model;\n",
    "# * XGboost model;"
   ]
  }
 ],
 "metadata": {
  "kernelspec": {
   "display_name": "Python 3",
   "language": "python",
   "name": "python3"
  },
  "language_info": {
   "codemirror_mode": {
    "name": "ipython",
    "version": 3
   },
   "file_extension": ".py",
   "mimetype": "text/x-python",
   "name": "python",
   "nbconvert_exporter": "python",
   "pygments_lexer": "ipython3",
   "version": "3.7.6"
  }
 },
 "nbformat": 4,
 "nbformat_minor": 4
}
