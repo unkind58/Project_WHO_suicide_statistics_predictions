{
 "cells": [
  {
   "cell_type": "markdown",
   "metadata": {},
   "source": [
    "# Project 'WHO suicide statistics predictions'"
   ]
  },
  {
   "cell_type": "markdown",
   "metadata": {},
   "source": [
    "WHO suicide statistics predictions for European Union country-members. \n",
    "WHO Suicide Statistics data (WHO Mortality Database) for each EU member country, year, age groups and sex. \n",
    "Temporal dependencies in some cases (for Portugal and Slovenia) do not cover all periods of membering in the EU."
   ]
  },
  {
   "cell_type": "markdown",
   "metadata": {},
   "source": [
    "Additional metrics/features for primary WHO Mortality Database :\n",
    "* GDP per capita(from World Bank Open Data);\n",
    "* GINI index(from World Bank Open Data);\n",
    "* Foreign Exchange Reserves (from World Bank Open Data);\n",
    "* Unemployment (from World Bank Open Data);\n",
    "* Inflation Rate (from World Bank Open Data);\n",
    "* ARMS export (from World Bank Open Data);\n",
    "* ARMS import (from World Bank Open Data);\n",
    "* Life length (from World Bank Open Data);\n",
    "* Corruption perception index (from Transparency);\n",
    "* Average January weather temperature (from Climate Change Knowledge Portal);\n",
    "* Average July weather temperature (from Climate Change Knowledge Portal)."
   ]
  },
  {
   "cell_type": "markdown",
   "metadata": {},
   "source": [
    "## Loading data set and choosing random seed"
   ]
  },
  {
   "cell_type": "code",
   "execution_count": 1,
   "metadata": {},
   "outputs": [],
   "source": [
    "from ml_functions import *"
   ]
  },
  {
   "cell_type": "markdown",
   "metadata": {},
   "source": [
    "Make results reproducible by emphasizing random seed."
   ]
  },
  {
   "cell_type": "code",
   "execution_count": 2,
   "metadata": {},
   "outputs": [],
   "source": [
    "np.random.seed(seed=158)"
   ]
  },
  {
   "cell_type": "markdown",
   "metadata": {},
   "source": [
    "## Loading data set"
   ]
  },
  {
   "cell_type": "code",
   "execution_count": 3,
   "metadata": {},
   "outputs": [],
   "source": [
    "path_material = pathlib.Path('data\\\\raw_data.csv')"
   ]
  },
  {
   "cell_type": "code",
   "execution_count": 4,
   "metadata": {},
   "outputs": [],
   "source": [
    "df_raw = pd.read_csv(path_material, low_memory=False)"
   ]
  },
  {
   "cell_type": "markdown",
   "metadata": {},
   "source": [
    "## Data pre-processing"
   ]
  },
  {
   "cell_type": "markdown",
   "metadata": {},
   "source": [
    "Brief overall data set description."
   ]
  },
  {
   "cell_type": "code",
   "execution_count": 5,
   "metadata": {},
   "outputs": [
    {
     "data": {
      "text/html": [
       "<div>\n",
       "<style scoped>\n",
       "    .dataframe tbody tr th:only-of-type {\n",
       "        vertical-align: middle;\n",
       "    }\n",
       "\n",
       "    .dataframe tbody tr th {\n",
       "        vertical-align: top;\n",
       "    }\n",
       "\n",
       "    .dataframe thead th {\n",
       "        text-align: right;\n",
       "    }\n",
       "</style>\n",
       "<table border=\"1\" class=\"dataframe\">\n",
       "  <thead>\n",
       "    <tr style=\"text-align: right;\">\n",
       "      <th></th>\n",
       "      <th>year</th>\n",
       "      <th>population</th>\n",
       "      <th>foreign_exch_reserve</th>\n",
       "      <th>GPD_per_cap</th>\n",
       "      <th>Unemployment</th>\n",
       "      <th>Inflation_rate</th>\n",
       "      <th>Life_length_expectancy</th>\n",
       "      <th>GINI</th>\n",
       "      <th>ARMS_export</th>\n",
       "      <th>ARMS_import</th>\n",
       "      <th>Corruption_perception</th>\n",
       "      <th>Temperature_JAN</th>\n",
       "      <th>Temperature_JUL</th>\n",
       "      <th>suicides_no</th>\n",
       "    </tr>\n",
       "  </thead>\n",
       "  <tbody>\n",
       "    <tr>\n",
       "      <th>count</th>\n",
       "      <td>7248.000000</td>\n",
       "      <td>7.248000e+03</td>\n",
       "      <td>7.176000e+03</td>\n",
       "      <td>7248.000000</td>\n",
       "      <td>7092.000000</td>\n",
       "      <td>7248.000000</td>\n",
       "      <td>7248.000000</td>\n",
       "      <td>4656.000000</td>\n",
       "      <td>4.872000e+03</td>\n",
       "      <td>6.384000e+03</td>\n",
       "      <td>4764.000000</td>\n",
       "      <td>7248.000000</td>\n",
       "      <td>7248.000000</td>\n",
       "      <td>7248.000000</td>\n",
       "    </tr>\n",
       "    <tr>\n",
       "      <th>mean</th>\n",
       "      <td>2001.774834</td>\n",
       "      <td>1.743408e+06</td>\n",
       "      <td>3.469842e+10</td>\n",
       "      <td>26893.020251</td>\n",
       "      <td>8.820021</td>\n",
       "      <td>3.470996</td>\n",
       "      <td>77.562979</td>\n",
       "      <td>31.333763</td>\n",
       "      <td>6.209064e+08</td>\n",
       "      <td>2.277538e+08</td>\n",
       "      <td>21.985516</td>\n",
       "      <td>1.868540</td>\n",
       "      <td>19.271537</td>\n",
       "      <td>217.996551</td>\n",
       "    </tr>\n",
       "    <tr>\n",
       "      <th>std</th>\n",
       "      <td>10.055130</td>\n",
       "      <td>2.235278e+06</td>\n",
       "      <td>3.911449e+10</td>\n",
       "      <td>18015.963059</td>\n",
       "      <td>4.311936</td>\n",
       "      <td>3.911775</td>\n",
       "      <td>2.718098</td>\n",
       "      <td>3.608685</td>\n",
       "      <td>8.498247e+08</td>\n",
       "      <td>3.152652e+08</td>\n",
       "      <td>26.615663</td>\n",
       "      <td>5.127656</td>\n",
       "      <td>3.454063</td>\n",
       "      <td>425.938170</td>\n",
       "    </tr>\n",
       "    <tr>\n",
       "      <th>min</th>\n",
       "      <td>1979.000000</td>\n",
       "      <td>5.900000e+03</td>\n",
       "      <td>9.746575e+07</td>\n",
       "      <td>3861.948500</td>\n",
       "      <td>1.482400</td>\n",
       "      <td>-4.478103</td>\n",
       "      <td>70.865854</td>\n",
       "      <td>23.000000</td>\n",
       "      <td>0.000000e+00</td>\n",
       "      <td>0.000000e+00</td>\n",
       "      <td>3.330000</td>\n",
       "      <td>-16.194000</td>\n",
       "      <td>12.571100</td>\n",
       "      <td>0.000000</td>\n",
       "    </tr>\n",
       "    <tr>\n",
       "      <th>25%</th>\n",
       "      <td>1995.000000</td>\n",
       "      <td>3.024238e+05</td>\n",
       "      <td>6.400005e+09</td>\n",
       "      <td>13585.207562</td>\n",
       "      <td>5.856900</td>\n",
       "      <td>1.417741</td>\n",
       "      <td>75.475287</td>\n",
       "      <td>28.200000</td>\n",
       "      <td>2.500000e+07</td>\n",
       "      <td>2.400000e+07</td>\n",
       "      <td>6.100000</td>\n",
       "      <td>-1.093000</td>\n",
       "      <td>16.649850</td>\n",
       "      <td>9.000000</td>\n",
       "    </tr>\n",
       "    <tr>\n",
       "      <th>50%</th>\n",
       "      <td>2004.000000</td>\n",
       "      <td>7.447485e+05</td>\n",
       "      <td>2.160458e+10</td>\n",
       "      <td>23102.007735</td>\n",
       "      <td>7.865600</td>\n",
       "      <td>2.452733</td>\n",
       "      <td>77.636585</td>\n",
       "      <td>31.350000</td>\n",
       "      <td>2.080000e+08</td>\n",
       "      <td>1.045000e+08</td>\n",
       "      <td>8.000000</td>\n",
       "      <td>2.732625</td>\n",
       "      <td>18.887950</td>\n",
       "      <td>63.000000</td>\n",
       "    </tr>\n",
       "    <tr>\n",
       "      <th>75%</th>\n",
       "      <td>2010.000000</td>\n",
       "      <td>2.538383e+06</td>\n",
       "      <td>4.807903e+10</td>\n",
       "      <td>35575.159547</td>\n",
       "      <td>10.554500</td>\n",
       "      <td>4.053958</td>\n",
       "      <td>79.793293</td>\n",
       "      <td>34.300000</td>\n",
       "      <td>9.510000e+08</td>\n",
       "      <td>2.865000e+08</td>\n",
       "      <td>42.000000</td>\n",
       "      <td>5.044645</td>\n",
       "      <td>21.743575</td>\n",
       "      <td>214.000000</td>\n",
       "    </tr>\n",
       "    <tr>\n",
       "      <th>max</th>\n",
       "      <td>2016.000000</td>\n",
       "      <td>1.314881e+07</td>\n",
       "      <td>2.490000e+11</td>\n",
       "      <td>118823.648400</td>\n",
       "      <td>27.466200</td>\n",
       "      <td>24.506067</td>\n",
       "      <td>83.229268</td>\n",
       "      <td>39.000000</td>\n",
       "      <td>4.037000e+09</td>\n",
       "      <td>2.167000e+09</td>\n",
       "      <td>92.000000</td>\n",
       "      <td>22.723500</td>\n",
       "      <td>29.786000</td>\n",
       "      <td>3427.000000</td>\n",
       "    </tr>\n",
       "  </tbody>\n",
       "</table>\n",
       "</div>"
      ],
      "text/plain": [
       "              year    population  foreign_exch_reserve    GPD_per_cap  \\\n",
       "count  7248.000000  7.248000e+03          7.176000e+03    7248.000000   \n",
       "mean   2001.774834  1.743408e+06          3.469842e+10   26893.020251   \n",
       "std      10.055130  2.235278e+06          3.911449e+10   18015.963059   \n",
       "min    1979.000000  5.900000e+03          9.746575e+07    3861.948500   \n",
       "25%    1995.000000  3.024238e+05          6.400005e+09   13585.207562   \n",
       "50%    2004.000000  7.447485e+05          2.160458e+10   23102.007735   \n",
       "75%    2010.000000  2.538383e+06          4.807903e+10   35575.159547   \n",
       "max    2016.000000  1.314881e+07          2.490000e+11  118823.648400   \n",
       "\n",
       "       Unemployment  Inflation_rate  Life_length_expectancy         GINI  \\\n",
       "count   7092.000000     7248.000000             7248.000000  4656.000000   \n",
       "mean       8.820021        3.470996               77.562979    31.333763   \n",
       "std        4.311936        3.911775                2.718098     3.608685   \n",
       "min        1.482400       -4.478103               70.865854    23.000000   \n",
       "25%        5.856900        1.417741               75.475287    28.200000   \n",
       "50%        7.865600        2.452733               77.636585    31.350000   \n",
       "75%       10.554500        4.053958               79.793293    34.300000   \n",
       "max       27.466200       24.506067               83.229268    39.000000   \n",
       "\n",
       "        ARMS_export   ARMS_import  Corruption_perception  Temperature_JAN  \\\n",
       "count  4.872000e+03  6.384000e+03            4764.000000      7248.000000   \n",
       "mean   6.209064e+08  2.277538e+08              21.985516         1.868540   \n",
       "std    8.498247e+08  3.152652e+08              26.615663         5.127656   \n",
       "min    0.000000e+00  0.000000e+00               3.330000       -16.194000   \n",
       "25%    2.500000e+07  2.400000e+07               6.100000        -1.093000   \n",
       "50%    2.080000e+08  1.045000e+08               8.000000         2.732625   \n",
       "75%    9.510000e+08  2.865000e+08              42.000000         5.044645   \n",
       "max    4.037000e+09  2.167000e+09              92.000000        22.723500   \n",
       "\n",
       "       Temperature_JUL  suicides_no  \n",
       "count      7248.000000  7248.000000  \n",
       "mean         19.271537   217.996551  \n",
       "std           3.454063   425.938170  \n",
       "min          12.571100     0.000000  \n",
       "25%          16.649850     9.000000  \n",
       "50%          18.887950    63.000000  \n",
       "75%          21.743575   214.000000  \n",
       "max          29.786000  3427.000000  "
      ]
     },
     "execution_count": 5,
     "metadata": {},
     "output_type": "execute_result"
    }
   ],
   "source": [
    "df_raw.describe()"
   ]
  },
  {
   "cell_type": "markdown",
   "metadata": {},
   "source": [
    "### Refactor columns titles"
   ]
  },
  {
   "cell_type": "markdown",
   "metadata": {},
   "source": [
    "Initialize **refactor_titles()** function (it changes all titles to lower cases along with substituting and dropping several uncommon characters) on the DataFrame's columns."
   ]
  },
  {
   "cell_type": "code",
   "execution_count": 6,
   "metadata": {},
   "outputs": [
    {
     "name": "stdout",
     "output_type": "stream",
     "text": [
      "Substituotion of \" \" occured 0 times.\n",
      "Substituotion of \"-\" occured 0 times.\n",
      "Substituotion of \":\" occured 0 times.\n"
     ]
    }
   ],
   "source": [
    "df_raw.columns = refactor_titles(df_raw)"
   ]
  },
  {
   "cell_type": "markdown",
   "metadata": {},
   "source": [
    "### Update 'corruption perception' feature as evaluation changed from 2012"
   ]
  },
  {
   "cell_type": "markdown",
   "metadata": {},
   "source": [
    "After 2012 Corruption perception evaluation changes from range 10 to range 100.\n",
    "In order to generalize column, all values after 2012 will be divided by 10."
   ]
  },
  {
   "cell_type": "code",
   "execution_count": 7,
   "metadata": {
    "scrolled": false
   },
   "outputs": [],
   "source": [
    "df_raw['corruption_perception'] = df_raw['corruption_perception'].apply(lambda x: x/10 if x > 10 else x)"
   ]
  },
  {
   "cell_type": "markdown",
   "metadata": {},
   "source": [
    "### NaN values | part 1/2"
   ]
  },
  {
   "cell_type": "markdown",
   "metadata": {},
   "source": [
    "Check the DataFrame for null-values."
   ]
  },
  {
   "cell_type": "code",
   "execution_count": 8,
   "metadata": {},
   "outputs": [
    {
     "name": "stdout",
     "output_type": "stream",
     "text": [
      "<class 'pandas.core.frame.DataFrame'>\n",
      "RangeIndex: 7248 entries, 0 to 7247\n",
      "Data columns (total 17 columns):\n",
      " #   Column                  Non-Null Count  Dtype  \n",
      "---  ------                  --------------  -----  \n",
      " 0   country                 7248 non-null   object \n",
      " 1   year                    7248 non-null   int64  \n",
      " 2   sex                     7248 non-null   object \n",
      " 3   age                     7248 non-null   object \n",
      " 4   population              7248 non-null   int64  \n",
      " 5   foreign_exch_reserve    7176 non-null   float64\n",
      " 6   gpd_per_cap             7248 non-null   float64\n",
      " 7   unemployment            7092 non-null   float64\n",
      " 8   inflation_rate          7248 non-null   float64\n",
      " 9   life_length_expectancy  7248 non-null   float64\n",
      " 10  gini                    4656 non-null   float64\n",
      " 11  arms_export             4872 non-null   float64\n",
      " 12  arms_import             6384 non-null   float64\n",
      " 13  corruption_perception   4764 non-null   float64\n",
      " 14  temperature_jan         7248 non-null   float64\n",
      " 15  temperature_jul         7248 non-null   float64\n",
      " 16  suicides_no             7248 non-null   int64  \n",
      "dtypes: float64(11), int64(3), object(3)\n",
      "memory usage: 962.8+ KB\n"
     ]
    }
   ],
   "source": [
    "df_raw.info()"
   ]
  },
  {
   "cell_type": "markdown",
   "metadata": {},
   "source": [
    "####  *ARMS import* and *ARMS export* features"
   ]
  },
  {
   "cell_type": "markdown",
   "metadata": {},
   "source": [
    "All empty values in both ARMS import and ARMS export columns will be filled with '0', as these countries didn't participate neither in ARMS import nor in ARMS export activities."
   ]
  },
  {
   "cell_type": "code",
   "execution_count": 9,
   "metadata": {},
   "outputs": [],
   "source": [
    "df_raw['arms_import'].fillna(0, inplace=True)\n",
    "df_raw['arms_export'].fillna(0, inplace=True)"
   ]
  },
  {
   "cell_type": "markdown",
   "metadata": {},
   "source": [
    "#### *Foreign exchange* reserve and *Unemployment* features"
   ]
  },
  {
   "cell_type": "markdown",
   "metadata": {},
   "source": [
    "**nan_columns_by_country()** function derives column names containing at least one NaN value, puts them into a list, assigns it to a variable, attaches country names where NaN appeared and returns a dictionary with countries."
   ]
  },
  {
   "cell_type": "code",
   "execution_count": 10,
   "metadata": {},
   "outputs": [
    {
     "name": "stdout",
     "output_type": "stream",
     "text": [
      "* 22 categories in column \"country\" with at least one NaN in \"corruption_perception\".\n",
      "* 1 categories in column \"country\" with at least one NaN in \"foreign_exch_reserve\".\n",
      "* 16 categories in column \"country\" with at least one NaN in \"gini\".\n",
      "* 4 categories in column \"country\" with at least one NaN in \"unemployment\".\n"
     ]
    }
   ],
   "source": [
    "columns_nan_dict = nan_columns_by_country(df_raw,'country')"
   ]
  },
  {
   "cell_type": "markdown",
   "metadata": {},
   "source": [
    "Function returned 4 columns: \n",
    "* foreign_exch_reserve;\n",
    "* unemployment;\n",
    "* gini;\n",
    "* corruption_perception;"
   ]
  },
  {
   "cell_type": "markdown",
   "metadata": {},
   "source": [
    "Fill NaN values in 'unemployment' column using **fillna()** function as only 4 countries have missing values."
   ]
  },
  {
   "cell_type": "code",
   "execution_count": 11,
   "metadata": {},
   "outputs": [
    {
     "data": {
      "text/plain": [
       "'NaN values were filled in \"unemployment\"\" column'"
      ]
     },
     "execution_count": 11,
     "metadata": {},
     "output_type": "execute_result"
    }
   ],
   "source": [
    "backfilling_nan_by_country(df=df_raw, columns_nan_dict=columns_nan_dict,\n",
    "                           target_column='unemployment', category_column = 'country')"
   ]
  },
  {
   "cell_type": "markdown",
   "metadata": {},
   "source": [
    "Fill NaN values in 'foreign_exch_reserve' column using **fillna()** function as only one country have missing values."
   ]
  },
  {
   "cell_type": "code",
   "execution_count": 12,
   "metadata": {},
   "outputs": [
    {
     "data": {
      "text/plain": [
       "'NaN values were filled in \"foreign_exch_reserve\"\" column'"
      ]
     },
     "execution_count": 12,
     "metadata": {},
     "output_type": "execute_result"
    }
   ],
   "source": [
    "backfilling_nan_by_country(df=df_raw,columns_nan_dict=columns_nan_dict,\n",
    "                           target_column='foreign_exch_reserve', category_column = 'country')"
   ]
  },
  {
   "cell_type": "markdown",
   "metadata": {},
   "source": [
    "#### Remaining NaN columns"
   ]
  },
  {
   "cell_type": "markdown",
   "metadata": {},
   "source": [
    "Observe using **missing_values()** remaining NaN columns."
   ]
  },
  {
   "cell_type": "code",
   "execution_count": 13,
   "metadata": {},
   "outputs": [
    {
     "name": "stdout",
     "output_type": "stream",
     "text": [
      "Column \"gini\" has 2592 missing values.\n",
      "Column \"corruption_perception\" has 2484 missing values.\n"
     ]
    },
    {
     "data": {
      "text/plain": [
       "<AxesSubplot:>"
      ]
     },
     "execution_count": 13,
     "metadata": {},
     "output_type": "execute_result"
    },
    {
     "data": {
      "image/png": "[encoded data removed]",
      "text/plain": [
       "<Figure size 1728x720 with 3 Axes>"
      ]
     },
     "metadata": {
      "needs_background": "light"
     },
     "output_type": "display_data"
    }
   ],
   "source": [
    "missing_values(df_raw)"
   ]
  },
  {
   "cell_type": "markdown",
   "metadata": {},
   "source": [
    "***'gini'*** and ***'corruption_perception'*** columns still remain with NaN values."
   ]
  },
  {
   "cell_type": "markdown",
   "metadata": {},
   "source": [
    "### Label Encoding"
   ]
  },
  {
   "cell_type": "markdown",
   "metadata": {},
   "source": [
    "Define binary cardinality columns."
   ]
  },
  {
   "cell_type": "code",
   "execution_count": 14,
   "metadata": {},
   "outputs": [
    {
     "name": "stdout",
     "output_type": "stream",
     "text": [
      " Binary cardinality columns: ['sex']\n"
     ]
    }
   ],
   "source": [
    "binary_cardinality_cols = [col_name for col_name in df_raw.columns if df_raw[col_name].nunique() < 3 and \n",
    "                                                                   df_raw[col_name].dtype == 'object']; \n",
    "print(f' Binary cardinality columns: {binary_cardinality_cols}')"
   ]
  },
  {
   "cell_type": "markdown",
   "metadata": {},
   "source": [
    "Next action is Label Encoding for binary cardinality columns."
   ]
  },
  {
   "cell_type": "code",
   "execution_count": 15,
   "metadata": {},
   "outputs": [],
   "source": [
    "label_df_raw = df_raw.copy()\n",
    "label_encoder = LabelEncoder()\n",
    "\n",
    "for col in binary_cardinality_cols:\n",
    "    label_df_raw[col] = label_encoder.fit_transform(df_raw[col])"
   ]
  },
  {
   "cell_type": "markdown",
   "metadata": {},
   "source": [
    "DataFrame first 12 rows overview after Label Encoding."
   ]
  },
  {
   "cell_type": "code",
   "execution_count": 16,
   "metadata": {},
   "outputs": [
    {
     "data": {
      "text/html": [
       "<div>\n",
       "<style scoped>\n",
       "    .dataframe tbody tr th:only-of-type {\n",
       "        vertical-align: middle;\n",
       "    }\n",
       "\n",
       "    .dataframe tbody tr th {\n",
       "        vertical-align: top;\n",
       "    }\n",
       "\n",
       "    .dataframe thead th {\n",
       "        text-align: right;\n",
       "    }\n",
       "</style>\n",
       "<table border=\"1\" class=\"dataframe\">\n",
       "  <thead>\n",
       "    <tr style=\"text-align: right;\">\n",
       "      <th></th>\n",
       "      <th>country</th>\n",
       "      <th>year</th>\n",
       "      <th>sex</th>\n",
       "      <th>age</th>\n",
       "      <th>population</th>\n",
       "      <th>foreign_exch_reserve</th>\n",
       "      <th>gpd_per_cap</th>\n",
       "      <th>unemployment</th>\n",
       "      <th>inflation_rate</th>\n",
       "      <th>life_length_expectancy</th>\n",
       "      <th>gini</th>\n",
       "      <th>arms_export</th>\n",
       "      <th>arms_import</th>\n",
       "      <th>corruption_perception</th>\n",
       "      <th>temperature_jan</th>\n",
       "      <th>temperature_jul</th>\n",
       "      <th>suicides_no</th>\n",
       "    </tr>\n",
       "  </thead>\n",
       "  <tbody>\n",
       "    <tr>\n",
       "      <th>0</th>\n",
       "      <td>Austria</td>\n",
       "      <td>1995</td>\n",
       "      <td>0</td>\n",
       "      <td>15-24 years</td>\n",
       "      <td>495368</td>\n",
       "      <td>2.336874e+10</td>\n",
       "      <td>30325.84958</td>\n",
       "      <td>4.3473</td>\n",
       "      <td>2.243367</td>\n",
       "      <td>76.668293</td>\n",
       "      <td>31.1</td>\n",
       "      <td>0.0</td>\n",
       "      <td>24000000.0</td>\n",
       "      <td>NaN</td>\n",
       "      <td>-3.3684</td>\n",
       "      <td>18.3665</td>\n",
       "      <td>19</td>\n",
       "    </tr>\n",
       "    <tr>\n",
       "      <th>1</th>\n",
       "      <td>Austria</td>\n",
       "      <td>1995</td>\n",
       "      <td>0</td>\n",
       "      <td>25-34 years</td>\n",
       "      <td>678262</td>\n",
       "      <td>2.336874e+10</td>\n",
       "      <td>30325.84958</td>\n",
       "      <td>4.3473</td>\n",
       "      <td>2.243367</td>\n",
       "      <td>76.668293</td>\n",
       "      <td>31.1</td>\n",
       "      <td>0.0</td>\n",
       "      <td>24000000.0</td>\n",
       "      <td>NaN</td>\n",
       "      <td>-3.3684</td>\n",
       "      <td>18.3665</td>\n",
       "      <td>59</td>\n",
       "    </tr>\n",
       "    <tr>\n",
       "      <th>2</th>\n",
       "      <td>Austria</td>\n",
       "      <td>1995</td>\n",
       "      <td>0</td>\n",
       "      <td>35-54 years</td>\n",
       "      <td>1065630</td>\n",
       "      <td>2.336874e+10</td>\n",
       "      <td>30325.84958</td>\n",
       "      <td>4.3473</td>\n",
       "      <td>2.243367</td>\n",
       "      <td>76.668293</td>\n",
       "      <td>31.1</td>\n",
       "      <td>0.0</td>\n",
       "      <td>24000000.0</td>\n",
       "      <td>NaN</td>\n",
       "      <td>-3.3684</td>\n",
       "      <td>18.3665</td>\n",
       "      <td>136</td>\n",
       "    </tr>\n",
       "    <tr>\n",
       "      <th>3</th>\n",
       "      <td>Austria</td>\n",
       "      <td>1995</td>\n",
       "      <td>0</td>\n",
       "      <td>5-14 years</td>\n",
       "      <td>460945</td>\n",
       "      <td>2.336874e+10</td>\n",
       "      <td>30325.84958</td>\n",
       "      <td>4.3473</td>\n",
       "      <td>2.243367</td>\n",
       "      <td>76.668293</td>\n",
       "      <td>31.1</td>\n",
       "      <td>0.0</td>\n",
       "      <td>24000000.0</td>\n",
       "      <td>NaN</td>\n",
       "      <td>-3.3684</td>\n",
       "      <td>18.3665</td>\n",
       "      <td>0</td>\n",
       "    </tr>\n",
       "    <tr>\n",
       "      <th>4</th>\n",
       "      <td>Austria</td>\n",
       "      <td>1995</td>\n",
       "      <td>0</td>\n",
       "      <td>55-74 years</td>\n",
       "      <td>843210</td>\n",
       "      <td>2.336874e+10</td>\n",
       "      <td>30325.84958</td>\n",
       "      <td>4.3473</td>\n",
       "      <td>2.243367</td>\n",
       "      <td>76.668293</td>\n",
       "      <td>31.1</td>\n",
       "      <td>0.0</td>\n",
       "      <td>24000000.0</td>\n",
       "      <td>NaN</td>\n",
       "      <td>-3.3684</td>\n",
       "      <td>18.3665</td>\n",
       "      <td>141</td>\n",
       "    </tr>\n",
       "    <tr>\n",
       "      <th>5</th>\n",
       "      <td>Austria</td>\n",
       "      <td>1995</td>\n",
       "      <td>0</td>\n",
       "      <td>75+ years</td>\n",
       "      <td>341098</td>\n",
       "      <td>2.336874e+10</td>\n",
       "      <td>30325.84958</td>\n",
       "      <td>4.3473</td>\n",
       "      <td>2.243367</td>\n",
       "      <td>76.668293</td>\n",
       "      <td>31.1</td>\n",
       "      <td>0.0</td>\n",
       "      <td>24000000.0</td>\n",
       "      <td>NaN</td>\n",
       "      <td>-3.3684</td>\n",
       "      <td>18.3665</td>\n",
       "      <td>100</td>\n",
       "    </tr>\n",
       "    <tr>\n",
       "      <th>6</th>\n",
       "      <td>Austria</td>\n",
       "      <td>1995</td>\n",
       "      <td>1</td>\n",
       "      <td>15-24 years</td>\n",
       "      <td>509262</td>\n",
       "      <td>2.336874e+10</td>\n",
       "      <td>30325.84958</td>\n",
       "      <td>4.3473</td>\n",
       "      <td>2.243367</td>\n",
       "      <td>76.668293</td>\n",
       "      <td>31.1</td>\n",
       "      <td>0.0</td>\n",
       "      <td>24000000.0</td>\n",
       "      <td>NaN</td>\n",
       "      <td>-3.3684</td>\n",
       "      <td>18.3665</td>\n",
       "      <td>134</td>\n",
       "    </tr>\n",
       "    <tr>\n",
       "      <th>7</th>\n",
       "      <td>Austria</td>\n",
       "      <td>1995</td>\n",
       "      <td>1</td>\n",
       "      <td>25-34 years</td>\n",
       "      <td>707468</td>\n",
       "      <td>2.336874e+10</td>\n",
       "      <td>30325.84958</td>\n",
       "      <td>4.3473</td>\n",
       "      <td>2.243367</td>\n",
       "      <td>76.668293</td>\n",
       "      <td>31.1</td>\n",
       "      <td>0.0</td>\n",
       "      <td>24000000.0</td>\n",
       "      <td>NaN</td>\n",
       "      <td>-3.3684</td>\n",
       "      <td>18.3665</td>\n",
       "      <td>237</td>\n",
       "    </tr>\n",
       "    <tr>\n",
       "      <th>8</th>\n",
       "      <td>Austria</td>\n",
       "      <td>1995</td>\n",
       "      <td>1</td>\n",
       "      <td>35-54 years</td>\n",
       "      <td>1074328</td>\n",
       "      <td>2.336874e+10</td>\n",
       "      <td>30325.84958</td>\n",
       "      <td>4.3473</td>\n",
       "      <td>2.243367</td>\n",
       "      <td>76.668293</td>\n",
       "      <td>31.1</td>\n",
       "      <td>0.0</td>\n",
       "      <td>24000000.0</td>\n",
       "      <td>NaN</td>\n",
       "      <td>-3.3684</td>\n",
       "      <td>18.3665</td>\n",
       "      <td>437</td>\n",
       "    </tr>\n",
       "    <tr>\n",
       "      <th>9</th>\n",
       "      <td>Austria</td>\n",
       "      <td>1995</td>\n",
       "      <td>1</td>\n",
       "      <td>5-14 years</td>\n",
       "      <td>483644</td>\n",
       "      <td>2.336874e+10</td>\n",
       "      <td>30325.84958</td>\n",
       "      <td>4.3473</td>\n",
       "      <td>2.243367</td>\n",
       "      <td>76.668293</td>\n",
       "      <td>31.1</td>\n",
       "      <td>0.0</td>\n",
       "      <td>24000000.0</td>\n",
       "      <td>NaN</td>\n",
       "      <td>-3.3684</td>\n",
       "      <td>18.3665</td>\n",
       "      <td>8</td>\n",
       "    </tr>\n",
       "    <tr>\n",
       "      <th>10</th>\n",
       "      <td>Austria</td>\n",
       "      <td>1995</td>\n",
       "      <td>1</td>\n",
       "      <td>55-74 years</td>\n",
       "      <td>670553</td>\n",
       "      <td>2.336874e+10</td>\n",
       "      <td>30325.84958</td>\n",
       "      <td>4.3473</td>\n",
       "      <td>2.243367</td>\n",
       "      <td>76.668293</td>\n",
       "      <td>31.1</td>\n",
       "      <td>0.0</td>\n",
       "      <td>24000000.0</td>\n",
       "      <td>NaN</td>\n",
       "      <td>-3.3684</td>\n",
       "      <td>18.3665</td>\n",
       "      <td>333</td>\n",
       "    </tr>\n",
       "    <tr>\n",
       "      <th>11</th>\n",
       "      <td>Austria</td>\n",
       "      <td>1995</td>\n",
       "      <td>1</td>\n",
       "      <td>75+ years</td>\n",
       "      <td>147262</td>\n",
       "      <td>2.336874e+10</td>\n",
       "      <td>30325.84958</td>\n",
       "      <td>4.3473</td>\n",
       "      <td>2.243367</td>\n",
       "      <td>76.668293</td>\n",
       "      <td>31.1</td>\n",
       "      <td>0.0</td>\n",
       "      <td>24000000.0</td>\n",
       "      <td>NaN</td>\n",
       "      <td>-3.3684</td>\n",
       "      <td>18.3665</td>\n",
       "      <td>184</td>\n",
       "    </tr>\n",
       "  </tbody>\n",
       "</table>\n",
       "</div>"
      ],
      "text/plain": [
       "    country  year  sex          age  population  foreign_exch_reserve  \\\n",
       "0   Austria  1995    0  15-24 years      495368          2.336874e+10   \n",
       "1   Austria  1995    0  25-34 years      678262          2.336874e+10   \n",
       "2   Austria  1995    0  35-54 years     1065630          2.336874e+10   \n",
       "3   Austria  1995    0   5-14 years      460945          2.336874e+10   \n",
       "4   Austria  1995    0  55-74 years      843210          2.336874e+10   \n",
       "5   Austria  1995    0    75+ years      341098          2.336874e+10   \n",
       "6   Austria  1995    1  15-24 years      509262          2.336874e+10   \n",
       "7   Austria  1995    1  25-34 years      707468          2.336874e+10   \n",
       "8   Austria  1995    1  35-54 years     1074328          2.336874e+10   \n",
       "9   Austria  1995    1   5-14 years      483644          2.336874e+10   \n",
       "10  Austria  1995    1  55-74 years      670553          2.336874e+10   \n",
       "11  Austria  1995    1    75+ years      147262          2.336874e+10   \n",
       "\n",
       "    gpd_per_cap  unemployment  inflation_rate  life_length_expectancy  gini  \\\n",
       "0   30325.84958        4.3473        2.243367               76.668293  31.1   \n",
       "1   30325.84958        4.3473        2.243367               76.668293  31.1   \n",
       "2   30325.84958        4.3473        2.243367               76.668293  31.1   \n",
       "3   30325.84958        4.3473        2.243367               76.668293  31.1   \n",
       "4   30325.84958        4.3473        2.243367               76.668293  31.1   \n",
       "5   30325.84958        4.3473        2.243367               76.668293  31.1   \n",
       "6   30325.84958        4.3473        2.243367               76.668293  31.1   \n",
       "7   30325.84958        4.3473        2.243367               76.668293  31.1   \n",
       "8   30325.84958        4.3473        2.243367               76.668293  31.1   \n",
       "9   30325.84958        4.3473        2.243367               76.668293  31.1   \n",
       "10  30325.84958        4.3473        2.243367               76.668293  31.1   \n",
       "11  30325.84958        4.3473        2.243367               76.668293  31.1   \n",
       "\n",
       "    arms_export  arms_import  corruption_perception  temperature_jan  \\\n",
       "0           0.0   24000000.0                    NaN          -3.3684   \n",
       "1           0.0   24000000.0                    NaN          -3.3684   \n",
       "2           0.0   24000000.0                    NaN          -3.3684   \n",
       "3           0.0   24000000.0                    NaN          -3.3684   \n",
       "4           0.0   24000000.0                    NaN          -3.3684   \n",
       "5           0.0   24000000.0                    NaN          -3.3684   \n",
       "6           0.0   24000000.0                    NaN          -3.3684   \n",
       "7           0.0   24000000.0                    NaN          -3.3684   \n",
       "8           0.0   24000000.0                    NaN          -3.3684   \n",
       "9           0.0   24000000.0                    NaN          -3.3684   \n",
       "10          0.0   24000000.0                    NaN          -3.3684   \n",
       "11          0.0   24000000.0                    NaN          -3.3684   \n",
       "\n",
       "    temperature_jul  suicides_no  \n",
       "0           18.3665           19  \n",
       "1           18.3665           59  \n",
       "2           18.3665          136  \n",
       "3           18.3665            0  \n",
       "4           18.3665          141  \n",
       "5           18.3665          100  \n",
       "6           18.3665          134  \n",
       "7           18.3665          237  \n",
       "8           18.3665          437  \n",
       "9           18.3665            8  \n",
       "10          18.3665          333  \n",
       "11          18.3665          184  "
      ]
     },
     "execution_count": 16,
     "metadata": {},
     "output_type": "execute_result"
    }
   ],
   "source": [
    "label_df_raw.head(12)"
   ]
  },
  {
   "cell_type": "markdown",
   "metadata": {},
   "source": [
    "### One-Hot-Encoder"
   ]
  },
  {
   "cell_type": "markdown",
   "metadata": {},
   "source": [
    "After committing label encoding for binary cardinality columns next mvpe is to check low cardinality columns.\n",
    "Maximum number of unique values for low cardinality columns is higher than 2 but less than 16."
   ]
  },
  {
   "cell_type": "code",
   "execution_count": 17,
   "metadata": {},
   "outputs": [
    {
     "name": "stdout",
     "output_type": "stream",
     "text": [
      " Low cardinality columns: ['age']\n"
     ]
    }
   ],
   "source": [
    "low_cardinality_cols = [col_name for col_name in df_raw.columns if 2 < df_raw[col_name].nunique() < 16 and \n",
    "                                                                   df_raw[col_name].dtype == 'object']; \n",
    "print(f' Low cardinality columns: {low_cardinality_cols}')"
   ]
  },
  {
   "cell_type": "markdown",
   "metadata": {},
   "source": [
    "Adjust One-Hot-Encoding and reform low cardinality columns."
   ]
  },
  {
   "cell_type": "code",
   "execution_count": 18,
   "metadata": {},
   "outputs": [],
   "source": [
    "OH_encoder = OneHotEncoder(handle_unknown='ignore', sparse=False) \n",
    "OH_cols_df = pd.DataFrame(OH_encoder.fit_transform(df_raw[low_cardinality_cols]))\n",
    "\n",
    "OH_cols_df.index = df_raw.index \n",
    "OH_cols_df.rename(columns = {0: '15-24 years',\n",
    "                             1: '25-34 years',\n",
    "                             2: '35-54 years',\n",
    "                             3: '5-14 years',\n",
    "                             4: '55-74 years',\n",
    "                             5: '75+ years'}, inplace=True)\n",
    "\n",
    "num_df = label_df_raw.drop(low_cardinality_cols, axis=1) \n",
    "OH_df = pd.concat([num_df,OH_cols_df], axis=1)"
   ]
  },
  {
   "cell_type": "markdown",
   "metadata": {},
   "source": [
    "DataFrame overview after One-Hot-Encoding."
   ]
  },
  {
   "cell_type": "code",
   "execution_count": 19,
   "metadata": {},
   "outputs": [
    {
     "data": {
      "text/html": [
       "<div>\n",
       "<style scoped>\n",
       "    .dataframe tbody tr th:only-of-type {\n",
       "        vertical-align: middle;\n",
       "    }\n",
       "\n",
       "    .dataframe tbody tr th {\n",
       "        vertical-align: top;\n",
       "    }\n",
       "\n",
       "    .dataframe thead th {\n",
       "        text-align: right;\n",
       "    }\n",
       "</style>\n",
       "<table border=\"1\" class=\"dataframe\">\n",
       "  <thead>\n",
       "    <tr style=\"text-align: right;\">\n",
       "      <th></th>\n",
       "      <th>country</th>\n",
       "      <th>year</th>\n",
       "      <th>sex</th>\n",
       "      <th>population</th>\n",
       "      <th>foreign_exch_reserve</th>\n",
       "      <th>gpd_per_cap</th>\n",
       "      <th>unemployment</th>\n",
       "      <th>inflation_rate</th>\n",
       "      <th>life_length_expectancy</th>\n",
       "      <th>gini</th>\n",
       "      <th>...</th>\n",
       "      <th>corruption_perception</th>\n",
       "      <th>temperature_jan</th>\n",
       "      <th>temperature_jul</th>\n",
       "      <th>suicides_no</th>\n",
       "      <th>15-24 years</th>\n",
       "      <th>25-34 years</th>\n",
       "      <th>35-54 years</th>\n",
       "      <th>5-14 years</th>\n",
       "      <th>55-74 years</th>\n",
       "      <th>75+ years</th>\n",
       "    </tr>\n",
       "  </thead>\n",
       "  <tbody>\n",
       "    <tr>\n",
       "      <th>0</th>\n",
       "      <td>Austria</td>\n",
       "      <td>1995</td>\n",
       "      <td>0</td>\n",
       "      <td>495368</td>\n",
       "      <td>2.336874e+10</td>\n",
       "      <td>30325.84958</td>\n",
       "      <td>4.3473</td>\n",
       "      <td>2.243367</td>\n",
       "      <td>76.668293</td>\n",
       "      <td>31.1</td>\n",
       "      <td>...</td>\n",
       "      <td>NaN</td>\n",
       "      <td>-3.36840</td>\n",
       "      <td>18.3665</td>\n",
       "      <td>19</td>\n",
       "      <td>1.0</td>\n",
       "      <td>0.0</td>\n",
       "      <td>0.0</td>\n",
       "      <td>0.0</td>\n",
       "      <td>0.0</td>\n",
       "      <td>0.0</td>\n",
       "    </tr>\n",
       "    <tr>\n",
       "      <th>1</th>\n",
       "      <td>Austria</td>\n",
       "      <td>1995</td>\n",
       "      <td>0</td>\n",
       "      <td>678262</td>\n",
       "      <td>2.336874e+10</td>\n",
       "      <td>30325.84958</td>\n",
       "      <td>4.3473</td>\n",
       "      <td>2.243367</td>\n",
       "      <td>76.668293</td>\n",
       "      <td>31.1</td>\n",
       "      <td>...</td>\n",
       "      <td>NaN</td>\n",
       "      <td>-3.36840</td>\n",
       "      <td>18.3665</td>\n",
       "      <td>59</td>\n",
       "      <td>0.0</td>\n",
       "      <td>1.0</td>\n",
       "      <td>0.0</td>\n",
       "      <td>0.0</td>\n",
       "      <td>0.0</td>\n",
       "      <td>0.0</td>\n",
       "    </tr>\n",
       "    <tr>\n",
       "      <th>2</th>\n",
       "      <td>Austria</td>\n",
       "      <td>1995</td>\n",
       "      <td>0</td>\n",
       "      <td>1065630</td>\n",
       "      <td>2.336874e+10</td>\n",
       "      <td>30325.84958</td>\n",
       "      <td>4.3473</td>\n",
       "      <td>2.243367</td>\n",
       "      <td>76.668293</td>\n",
       "      <td>31.1</td>\n",
       "      <td>...</td>\n",
       "      <td>NaN</td>\n",
       "      <td>-3.36840</td>\n",
       "      <td>18.3665</td>\n",
       "      <td>136</td>\n",
       "      <td>0.0</td>\n",
       "      <td>0.0</td>\n",
       "      <td>1.0</td>\n",
       "      <td>0.0</td>\n",
       "      <td>0.0</td>\n",
       "      <td>0.0</td>\n",
       "    </tr>\n",
       "    <tr>\n",
       "      <th>3</th>\n",
       "      <td>Austria</td>\n",
       "      <td>1995</td>\n",
       "      <td>0</td>\n",
       "      <td>460945</td>\n",
       "      <td>2.336874e+10</td>\n",
       "      <td>30325.84958</td>\n",
       "      <td>4.3473</td>\n",
       "      <td>2.243367</td>\n",
       "      <td>76.668293</td>\n",
       "      <td>31.1</td>\n",
       "      <td>...</td>\n",
       "      <td>NaN</td>\n",
       "      <td>-3.36840</td>\n",
       "      <td>18.3665</td>\n",
       "      <td>0</td>\n",
       "      <td>0.0</td>\n",
       "      <td>0.0</td>\n",
       "      <td>0.0</td>\n",
       "      <td>1.0</td>\n",
       "      <td>0.0</td>\n",
       "      <td>0.0</td>\n",
       "    </tr>\n",
       "    <tr>\n",
       "      <th>4</th>\n",
       "      <td>Austria</td>\n",
       "      <td>1995</td>\n",
       "      <td>0</td>\n",
       "      <td>843210</td>\n",
       "      <td>2.336874e+10</td>\n",
       "      <td>30325.84958</td>\n",
       "      <td>4.3473</td>\n",
       "      <td>2.243367</td>\n",
       "      <td>76.668293</td>\n",
       "      <td>31.1</td>\n",
       "      <td>...</td>\n",
       "      <td>NaN</td>\n",
       "      <td>-3.36840</td>\n",
       "      <td>18.3665</td>\n",
       "      <td>141</td>\n",
       "      <td>0.0</td>\n",
       "      <td>0.0</td>\n",
       "      <td>0.0</td>\n",
       "      <td>0.0</td>\n",
       "      <td>1.0</td>\n",
       "      <td>0.0</td>\n",
       "    </tr>\n",
       "    <tr>\n",
       "      <th>...</th>\n",
       "      <td>...</td>\n",
       "      <td>...</td>\n",
       "      <td>...</td>\n",
       "      <td>...</td>\n",
       "      <td>...</td>\n",
       "      <td>...</td>\n",
       "      <td>...</td>\n",
       "      <td>...</td>\n",
       "      <td>...</td>\n",
       "      <td>...</td>\n",
       "      <td>...</td>\n",
       "      <td>...</td>\n",
       "      <td>...</td>\n",
       "      <td>...</td>\n",
       "      <td>...</td>\n",
       "      <td>...</td>\n",
       "      <td>...</td>\n",
       "      <td>...</td>\n",
       "      <td>...</td>\n",
       "      <td>...</td>\n",
       "      <td>...</td>\n",
       "    </tr>\n",
       "    <tr>\n",
       "      <th>7243</th>\n",
       "      <td>United Kingdom</td>\n",
       "      <td>2015</td>\n",
       "      <td>1</td>\n",
       "      <td>4408293</td>\n",
       "      <td>1.480000e+11</td>\n",
       "      <td>44974.83188</td>\n",
       "      <td>5.3003</td>\n",
       "      <td>0.368047</td>\n",
       "      <td>80.956098</td>\n",
       "      <td>33.2</td>\n",
       "      <td>...</td>\n",
       "      <td>8.1</td>\n",
       "      <td>3.87941</td>\n",
       "      <td>14.5338</td>\n",
       "      <td>596</td>\n",
       "      <td>0.0</td>\n",
       "      <td>1.0</td>\n",
       "      <td>0.0</td>\n",
       "      <td>0.0</td>\n",
       "      <td>0.0</td>\n",
       "      <td>0.0</td>\n",
       "    </tr>\n",
       "    <tr>\n",
       "      <th>7244</th>\n",
       "      <td>United Kingdom</td>\n",
       "      <td>2015</td>\n",
       "      <td>1</td>\n",
       "      <td>8692440</td>\n",
       "      <td>1.480000e+11</td>\n",
       "      <td>44974.83188</td>\n",
       "      <td>5.3003</td>\n",
       "      <td>0.368047</td>\n",
       "      <td>80.956098</td>\n",
       "      <td>33.2</td>\n",
       "      <td>...</td>\n",
       "      <td>8.1</td>\n",
       "      <td>3.87941</td>\n",
       "      <td>14.5338</td>\n",
       "      <td>1579</td>\n",
       "      <td>0.0</td>\n",
       "      <td>0.0</td>\n",
       "      <td>1.0</td>\n",
       "      <td>0.0</td>\n",
       "      <td>0.0</td>\n",
       "      <td>0.0</td>\n",
       "    </tr>\n",
       "    <tr>\n",
       "      <th>7245</th>\n",
       "      <td>United Kingdom</td>\n",
       "      <td>2015</td>\n",
       "      <td>1</td>\n",
       "      <td>3840476</td>\n",
       "      <td>1.480000e+11</td>\n",
       "      <td>44974.83188</td>\n",
       "      <td>5.3003</td>\n",
       "      <td>0.368047</td>\n",
       "      <td>80.956098</td>\n",
       "      <td>33.2</td>\n",
       "      <td>...</td>\n",
       "      <td>8.1</td>\n",
       "      <td>3.87941</td>\n",
       "      <td>14.5338</td>\n",
       "      <td>4</td>\n",
       "      <td>0.0</td>\n",
       "      <td>0.0</td>\n",
       "      <td>0.0</td>\n",
       "      <td>1.0</td>\n",
       "      <td>0.0</td>\n",
       "      <td>0.0</td>\n",
       "    </tr>\n",
       "    <tr>\n",
       "      <th>7246</th>\n",
       "      <td>United Kingdom</td>\n",
       "      <td>2015</td>\n",
       "      <td>1</td>\n",
       "      <td>6716557</td>\n",
       "      <td>1.480000e+11</td>\n",
       "      <td>44974.83188</td>\n",
       "      <td>5.3003</td>\n",
       "      <td>0.368047</td>\n",
       "      <td>80.956098</td>\n",
       "      <td>33.2</td>\n",
       "      <td>...</td>\n",
       "      <td>8.1</td>\n",
       "      <td>3.87941</td>\n",
       "      <td>14.5338</td>\n",
       "      <td>906</td>\n",
       "      <td>0.0</td>\n",
       "      <td>0.0</td>\n",
       "      <td>0.0</td>\n",
       "      <td>0.0</td>\n",
       "      <td>1.0</td>\n",
       "      <td>0.0</td>\n",
       "    </tr>\n",
       "    <tr>\n",
       "      <th>7247</th>\n",
       "      <td>United Kingdom</td>\n",
       "      <td>2015</td>\n",
       "      <td>1</td>\n",
       "      <td>2200958</td>\n",
       "      <td>1.480000e+11</td>\n",
       "      <td>44974.83188</td>\n",
       "      <td>5.3003</td>\n",
       "      <td>0.368047</td>\n",
       "      <td>80.956098</td>\n",
       "      <td>33.2</td>\n",
       "      <td>...</td>\n",
       "      <td>8.1</td>\n",
       "      <td>3.87941</td>\n",
       "      <td>14.5338</td>\n",
       "      <td>273</td>\n",
       "      <td>0.0</td>\n",
       "      <td>0.0</td>\n",
       "      <td>0.0</td>\n",
       "      <td>0.0</td>\n",
       "      <td>0.0</td>\n",
       "      <td>1.0</td>\n",
       "    </tr>\n",
       "  </tbody>\n",
       "</table>\n",
       "<p>7248 rows × 22 columns</p>\n",
       "</div>"
      ],
      "text/plain": [
       "             country  year  sex  population  foreign_exch_reserve  \\\n",
       "0            Austria  1995    0      495368          2.336874e+10   \n",
       "1            Austria  1995    0      678262          2.336874e+10   \n",
       "2            Austria  1995    0     1065630          2.336874e+10   \n",
       "3            Austria  1995    0      460945          2.336874e+10   \n",
       "4            Austria  1995    0      843210          2.336874e+10   \n",
       "...              ...   ...  ...         ...                   ...   \n",
       "7243  United Kingdom  2015    1     4408293          1.480000e+11   \n",
       "7244  United Kingdom  2015    1     8692440          1.480000e+11   \n",
       "7245  United Kingdom  2015    1     3840476          1.480000e+11   \n",
       "7246  United Kingdom  2015    1     6716557          1.480000e+11   \n",
       "7247  United Kingdom  2015    1     2200958          1.480000e+11   \n",
       "\n",
       "      gpd_per_cap  unemployment  inflation_rate  life_length_expectancy  gini  \\\n",
       "0     30325.84958        4.3473        2.243367               76.668293  31.1   \n",
       "1     30325.84958        4.3473        2.243367               76.668293  31.1   \n",
       "2     30325.84958        4.3473        2.243367               76.668293  31.1   \n",
       "3     30325.84958        4.3473        2.243367               76.668293  31.1   \n",
       "4     30325.84958        4.3473        2.243367               76.668293  31.1   \n",
       "...           ...           ...             ...                     ...   ...   \n",
       "7243  44974.83188        5.3003        0.368047               80.956098  33.2   \n",
       "7244  44974.83188        5.3003        0.368047               80.956098  33.2   \n",
       "7245  44974.83188        5.3003        0.368047               80.956098  33.2   \n",
       "7246  44974.83188        5.3003        0.368047               80.956098  33.2   \n",
       "7247  44974.83188        5.3003        0.368047               80.956098  33.2   \n",
       "\n",
       "      ...  corruption_perception  temperature_jan  temperature_jul  \\\n",
       "0     ...                    NaN         -3.36840          18.3665   \n",
       "1     ...                    NaN         -3.36840          18.3665   \n",
       "2     ...                    NaN         -3.36840          18.3665   \n",
       "3     ...                    NaN         -3.36840          18.3665   \n",
       "4     ...                    NaN         -3.36840          18.3665   \n",
       "...   ...                    ...              ...              ...   \n",
       "7243  ...                    8.1          3.87941          14.5338   \n",
       "7244  ...                    8.1          3.87941          14.5338   \n",
       "7245  ...                    8.1          3.87941          14.5338   \n",
       "7246  ...                    8.1          3.87941          14.5338   \n",
       "7247  ...                    8.1          3.87941          14.5338   \n",
       "\n",
       "      suicides_no  15-24 years  25-34 years  35-54 years  5-14 years  \\\n",
       "0              19          1.0          0.0          0.0         0.0   \n",
       "1              59          0.0          1.0          0.0         0.0   \n",
       "2             136          0.0          0.0          1.0         0.0   \n",
       "3               0          0.0          0.0          0.0         1.0   \n",
       "4             141          0.0          0.0          0.0         0.0   \n",
       "...           ...          ...          ...          ...         ...   \n",
       "7243          596          0.0          1.0          0.0         0.0   \n",
       "7244         1579          0.0          0.0          1.0         0.0   \n",
       "7245            4          0.0          0.0          0.0         1.0   \n",
       "7246          906          0.0          0.0          0.0         0.0   \n",
       "7247          273          0.0          0.0          0.0         0.0   \n",
       "\n",
       "      55-74 years  75+ years  \n",
       "0             0.0        0.0  \n",
       "1             0.0        0.0  \n",
       "2             0.0        0.0  \n",
       "3             0.0        0.0  \n",
       "4             1.0        0.0  \n",
       "...           ...        ...  \n",
       "7243          0.0        0.0  \n",
       "7244          0.0        0.0  \n",
       "7245          0.0        0.0  \n",
       "7246          1.0        0.0  \n",
       "7247          0.0        1.0  \n",
       "\n",
       "[7248 rows x 22 columns]"
      ]
     },
     "execution_count": 19,
     "metadata": {},
     "output_type": "execute_result"
    }
   ],
   "source": [
    "OH_df"
   ]
  },
  {
   "cell_type": "markdown",
   "metadata": {},
   "source": [
    "### Train and Test set split"
   ]
  },
  {
   "cell_type": "markdown",
   "metadata": {},
   "source": [
    "Divide all data into ***test*** as 20% and ***train*** as 80% of the data set.  "
   ]
  },
  {
   "cell_type": "code",
   "execution_count": 20,
   "metadata": {},
   "outputs": [],
   "source": [
    "msk = np.random.rand(len(df_raw)) < 0.8"
   ]
  },
  {
   "cell_type": "markdown",
   "metadata": {},
   "source": [
    "Initialize two DataFrames according to previous separation."
   ]
  },
  {
   "cell_type": "code",
   "execution_count": 21,
   "metadata": {},
   "outputs": [],
   "source": [
    "train = OH_df[msk]\n",
    "test = OH_df[~msk]"
   ]
  },
  {
   "cell_type": "markdown",
   "metadata": {},
   "source": [
    "Split train data set into ***X*** and ***y*** and test data set into ***X_test*** and ***y_test***."
   ]
  },
  {
   "cell_type": "code",
   "execution_count": 22,
   "metadata": {},
   "outputs": [],
   "source": [
    "X,y = train.drop(columns=['suicides_no']), train['suicides_no']\n",
    "X_test,y_test = test.drop(columns=['suicides_no']), test['suicides_no']"
   ]
  },
  {
   "cell_type": "markdown",
   "metadata": {},
   "source": [
    "### Train and Validation set split"
   ]
  },
  {
   "cell_type": "markdown",
   "metadata": {},
   "source": [
    "Split into ***train*** as 75% and ***validation*** as 25% of the both ***X*** and ***y*** set parts and print their shapes."
   ]
  },
  {
   "cell_type": "code",
   "execution_count": 23,
   "metadata": {},
   "outputs": [
    {
     "name": "stdout",
     "output_type": "stream",
     "text": [
      "Train set: (4304, 21) (4304,)\n",
      "Validation set: (1435, 21) (1435,)\n"
     ]
    }
   ],
   "source": [
    "X_train, X_valid, y_train, y_valid = train_test_split(X,y,test_size=0.25, random_state=158)\n",
    "print ('Train set:', X_train.shape,  y_train.shape)\n",
    "print ('Validation set:', X_valid.shape,  y_valid.shape)"
   ]
  },
  {
   "cell_type": "markdown",
   "metadata": {},
   "source": [
    "### NaN values | part 2/2"
   ]
  },
  {
   "cell_type": "markdown",
   "metadata": {},
   "source": [
    "#### Drop 'country' column and  use Simple Imputer"
   ]
  },
  {
   "cell_type": "markdown",
   "metadata": {},
   "source": [
    "Impute the remaining two columns: ***'gini'*** and ***'corruption_perception'***.\n",
    "Restore columns names and indexes. Drop *country* column.\n",
    "Imputing the mean value should be after splitting the data set into train/validation/test in order not to leak data."
   ]
  },
  {
   "cell_type": "code",
   "execution_count": 24,
   "metadata": {},
   "outputs": [],
   "source": [
    "features = X_train.columns[1:]\n",
    "\n",
    "my_imputer = SimpleImputer(strategy='mean')\n",
    "imputed_X_train = pd.DataFrame(my_imputer.fit_transform(X_train[features]))\n",
    "imputed_X_valid = pd.DataFrame(my_imputer.transform(X_valid[features]))\n",
    "imputed_X_test = pd.DataFrame(my_imputer.transform(X_test[features]))\n",
    "\n",
    "imputed_X_train.columns = X_train[features].columns\n",
    "imputed_X_valid.columns = X_valid[features].columns\n",
    "imputed_X_test.columns = X_test[features].columns\n",
    "\n",
    "imputed_X_train.index = X_train[features].index\n",
    "imputed_X_valid.index = X_valid[features].index\n",
    "imputed_X_test.index = X_test[features].index"
   ]
  },
  {
   "cell_type": "markdown",
   "metadata": {},
   "source": [
    "#### Changing several formats"
   ]
  },
  {
   "cell_type": "markdown",
   "metadata": {},
   "source": [
    "Form a dictionary for a DataFrame columns with less PC memory consuming data types."
   ]
  },
  {
   "cell_type": "code",
   "execution_count": 25,
   "metadata": {},
   "outputs": [],
   "source": [
    "formats = {'sex': 'int8','15-24 years': 'int8',\n",
    "           '25-34 years': 'int8','35-54 years': 'int8',\n",
    "           '5-14 years': 'int8','55-74 years': 'int8',\n",
    "           '75+ years': 'int8', 'year': 'int32'}"
   ]
  },
  {
   "cell_type": "markdown",
   "metadata": {},
   "source": [
    "BEFORE PRE-PROCESSING"
   ]
  },
  {
   "cell_type": "code",
   "execution_count": 26,
   "metadata": {},
   "outputs": [
    {
     "data": {
      "text/html": [
       "<div>\n",
       "<style scoped>\n",
       "    .dataframe tbody tr th:only-of-type {\n",
       "        vertical-align: middle;\n",
       "    }\n",
       "\n",
       "    .dataframe tbody tr th {\n",
       "        vertical-align: top;\n",
       "    }\n",
       "\n",
       "    .dataframe thead th {\n",
       "        text-align: right;\n",
       "    }\n",
       "</style>\n",
       "<table border=\"1\" class=\"dataframe\">\n",
       "  <thead>\n",
       "    <tr style=\"text-align: right;\">\n",
       "      <th></th>\n",
       "      <th>country</th>\n",
       "      <th>year</th>\n",
       "      <th>sex</th>\n",
       "      <th>population</th>\n",
       "      <th>foreign_exch_reserve</th>\n",
       "      <th>gpd_per_cap</th>\n",
       "      <th>unemployment</th>\n",
       "      <th>inflation_rate</th>\n",
       "      <th>life_length_expectancy</th>\n",
       "      <th>gini</th>\n",
       "      <th>...</th>\n",
       "      <th>arms_import</th>\n",
       "      <th>corruption_perception</th>\n",
       "      <th>temperature_jan</th>\n",
       "      <th>temperature_jul</th>\n",
       "      <th>15-24 years</th>\n",
       "      <th>25-34 years</th>\n",
       "      <th>35-54 years</th>\n",
       "      <th>5-14 years</th>\n",
       "      <th>55-74 years</th>\n",
       "      <th>75+ years</th>\n",
       "    </tr>\n",
       "  </thead>\n",
       "  <tbody>\n",
       "    <tr>\n",
       "      <th>2828</th>\n",
       "      <td>France</td>\n",
       "      <td>2010</td>\n",
       "      <td>1</td>\n",
       "      <td>8518205</td>\n",
       "      <td>1.660000e+11</td>\n",
       "      <td>40638.334000</td>\n",
       "      <td>8.8713</td>\n",
       "      <td>1.531123</td>\n",
       "      <td>81.663415</td>\n",
       "      <td>33.7</td>\n",
       "      <td>...</td>\n",
       "      <td>103000000.0</td>\n",
       "      <td>6.8</td>\n",
       "      <td>1.06260</td>\n",
       "      <td>20.9197</td>\n",
       "      <td>0.0</td>\n",
       "      <td>0.0</td>\n",
       "      <td>1.0</td>\n",
       "      <td>0.0</td>\n",
       "      <td>0.0</td>\n",
       "      <td>0.0</td>\n",
       "    </tr>\n",
       "    <tr>\n",
       "      <th>4011</th>\n",
       "      <td>Italy</td>\n",
       "      <td>1985</td>\n",
       "      <td>0</td>\n",
       "      <td>3898700</td>\n",
       "      <td>3.739657e+10</td>\n",
       "      <td>7990.686562</td>\n",
       "      <td>9.4065</td>\n",
       "      <td>9.205991</td>\n",
       "      <td>75.470732</td>\n",
       "      <td>NaN</td>\n",
       "      <td>...</td>\n",
       "      <td>206000000.0</td>\n",
       "      <td>NaN</td>\n",
       "      <td>0.89887</td>\n",
       "      <td>21.7534</td>\n",
       "      <td>0.0</td>\n",
       "      <td>0.0</td>\n",
       "      <td>0.0</td>\n",
       "      <td>1.0</td>\n",
       "      <td>0.0</td>\n",
       "      <td>0.0</td>\n",
       "    </tr>\n",
       "  </tbody>\n",
       "</table>\n",
       "<p>2 rows × 21 columns</p>\n",
       "</div>"
      ],
      "text/plain": [
       "     country  year  sex  population  foreign_exch_reserve   gpd_per_cap  \\\n",
       "2828  France  2010    1     8518205          1.660000e+11  40638.334000   \n",
       "4011   Italy  1985    0     3898700          3.739657e+10   7990.686562   \n",
       "\n",
       "      unemployment  inflation_rate  life_length_expectancy  gini  ...  \\\n",
       "2828        8.8713        1.531123               81.663415  33.7  ...   \n",
       "4011        9.4065        9.205991               75.470732   NaN  ...   \n",
       "\n",
       "      arms_import  corruption_perception  temperature_jan  temperature_jul  \\\n",
       "2828  103000000.0                    6.8          1.06260          20.9197   \n",
       "4011  206000000.0                    NaN          0.89887          21.7534   \n",
       "\n",
       "      15-24 years  25-34 years  35-54 years  5-14 years  55-74 years  \\\n",
       "2828          0.0          0.0          1.0         0.0          0.0   \n",
       "4011          0.0          0.0          0.0         1.0          0.0   \n",
       "\n",
       "      75+ years  \n",
       "2828        0.0  \n",
       "4011        0.0  \n",
       "\n",
       "[2 rows x 21 columns]"
      ]
     },
     "execution_count": 26,
     "metadata": {},
     "output_type": "execute_result"
    }
   ],
   "source": [
    "X_train[:2] "
   ]
  },
  {
   "cell_type": "markdown",
   "metadata": {},
   "source": [
    "#### Final train/validation/test"
   ]
  },
  {
   "cell_type": "markdown",
   "metadata": {},
   "source": [
    "Construct final train/validation/test DataFrames."
   ]
  },
  {
   "cell_type": "code",
   "execution_count": 27,
   "metadata": {},
   "outputs": [],
   "source": [
    "X_train = imputed_X_train.copy().astype(formats)\n",
    "X_valid = imputed_X_valid.copy().astype(formats)\n",
    "X_test = imputed_X_test.copy().astype(formats)"
   ]
  },
  {
   "cell_type": "markdown",
   "metadata": {},
   "source": [
    "AFTER PRE-PROCESSING"
   ]
  },
  {
   "cell_type": "code",
   "execution_count": 28,
   "metadata": {},
   "outputs": [
    {
     "data": {
      "text/html": [
       "<div>\n",
       "<style scoped>\n",
       "    .dataframe tbody tr th:only-of-type {\n",
       "        vertical-align: middle;\n",
       "    }\n",
       "\n",
       "    .dataframe tbody tr th {\n",
       "        vertical-align: top;\n",
       "    }\n",
       "\n",
       "    .dataframe thead th {\n",
       "        text-align: right;\n",
       "    }\n",
       "</style>\n",
       "<table border=\"1\" class=\"dataframe\">\n",
       "  <thead>\n",
       "    <tr style=\"text-align: right;\">\n",
       "      <th></th>\n",
       "      <th>year</th>\n",
       "      <th>sex</th>\n",
       "      <th>population</th>\n",
       "      <th>foreign_exch_reserve</th>\n",
       "      <th>gpd_per_cap</th>\n",
       "      <th>unemployment</th>\n",
       "      <th>inflation_rate</th>\n",
       "      <th>life_length_expectancy</th>\n",
       "      <th>gini</th>\n",
       "      <th>arms_export</th>\n",
       "      <th>arms_import</th>\n",
       "      <th>corruption_perception</th>\n",
       "      <th>temperature_jan</th>\n",
       "      <th>temperature_jul</th>\n",
       "      <th>15-24 years</th>\n",
       "      <th>25-34 years</th>\n",
       "      <th>35-54 years</th>\n",
       "      <th>5-14 years</th>\n",
       "      <th>55-74 years</th>\n",
       "      <th>75+ years</th>\n",
       "    </tr>\n",
       "  </thead>\n",
       "  <tbody>\n",
       "    <tr>\n",
       "      <th>2828</th>\n",
       "      <td>2010</td>\n",
       "      <td>1</td>\n",
       "      <td>8518205.0</td>\n",
       "      <td>1.660000e+11</td>\n",
       "      <td>40638.334000</td>\n",
       "      <td>8.8713</td>\n",
       "      <td>1.531123</td>\n",
       "      <td>81.663415</td>\n",
       "      <td>33.700000</td>\n",
       "      <td>866000000.0</td>\n",
       "      <td>103000000.0</td>\n",
       "      <td>6.800000</td>\n",
       "      <td>1.06260</td>\n",
       "      <td>20.9197</td>\n",
       "      <td>0</td>\n",
       "      <td>0</td>\n",
       "      <td>1</td>\n",
       "      <td>0</td>\n",
       "      <td>0</td>\n",
       "      <td>0</td>\n",
       "    </tr>\n",
       "    <tr>\n",
       "      <th>4011</th>\n",
       "      <td>1985</td>\n",
       "      <td>0</td>\n",
       "      <td>3898700.0</td>\n",
       "      <td>3.739657e+10</td>\n",
       "      <td>7990.686562</td>\n",
       "      <td>9.4065</td>\n",
       "      <td>9.205991</td>\n",
       "      <td>75.470732</td>\n",
       "      <td>31.346157</td>\n",
       "      <td>920000000.0</td>\n",
       "      <td>206000000.0</td>\n",
       "      <td>6.768767</td>\n",
       "      <td>0.89887</td>\n",
       "      <td>21.7534</td>\n",
       "      <td>0</td>\n",
       "      <td>0</td>\n",
       "      <td>0</td>\n",
       "      <td>1</td>\n",
       "      <td>0</td>\n",
       "      <td>0</td>\n",
       "    </tr>\n",
       "  </tbody>\n",
       "</table>\n",
       "</div>"
      ],
      "text/plain": [
       "      year  sex  population  foreign_exch_reserve   gpd_per_cap  unemployment  \\\n",
       "2828  2010    1   8518205.0          1.660000e+11  40638.334000        8.8713   \n",
       "4011  1985    0   3898700.0          3.739657e+10   7990.686562        9.4065   \n",
       "\n",
       "      inflation_rate  life_length_expectancy       gini  arms_export  \\\n",
       "2828        1.531123               81.663415  33.700000  866000000.0   \n",
       "4011        9.205991               75.470732  31.346157  920000000.0   \n",
       "\n",
       "      arms_import  corruption_perception  temperature_jan  temperature_jul  \\\n",
       "2828  103000000.0               6.800000          1.06260          20.9197   \n",
       "4011  206000000.0               6.768767          0.89887          21.7534   \n",
       "\n",
       "      15-24 years  25-34 years  35-54 years  5-14 years  55-74 years  \\\n",
       "2828            0            0            1           0            0   \n",
       "4011            0            0            0           1            0   \n",
       "\n",
       "      75+ years  \n",
       "2828          0  \n",
       "4011          0  "
      ]
     },
     "execution_count": 28,
     "metadata": {},
     "output_type": "execute_result"
    }
   ],
   "source": [
    "X_train[:2]"
   ]
  },
  {
   "cell_type": "markdown",
   "metadata": {},
   "source": [
    "Final check for train/validation/test set shapes."
   ]
  },
  {
   "cell_type": "code",
   "execution_count": 29,
   "metadata": {},
   "outputs": [
    {
     "name": "stdout",
     "output_type": "stream",
     "text": [
      "Train set: (4304, 20) (4304,)\n",
      "Validation set: (1435, 20) (1435,)\n",
      "Test set: (1509, 20) (1509,)\n"
     ]
    }
   ],
   "source": [
    "print ('Train set:', X_train.shape,  y_train.shape)\n",
    "print ('Validation set:', X_valid.shape,  y_valid.shape)\n",
    "print ('Test set:', X_test.shape,  y_test.shape)"
   ]
  },
  {
   "cell_type": "markdown",
   "metadata": {},
   "source": [
    "### Random Forest model"
   ]
  },
  {
   "cell_type": "markdown",
   "metadata": {},
   "source": [
    "Initialize Random Forest model and print all scores."
   ]
  },
  {
   "cell_type": "code",
   "execution_count": 30,
   "metadata": {},
   "outputs": [
    {
     "name": "stdout",
     "output_type": "stream",
     "text": [
      "('RMSE Train set: 40.46307338, RMSE Validation set: 104.08743444, '\n",
      " 'r² Train set: 0.99081997, r² Validation set:0.94099394,         '\n",
      " 'MAE Train set: 14.96038801, MAE Validation set: 38.88105226')\n"
     ]
    }
   ],
   "source": [
    "forest_model = RandomForestRegressor(n_jobs=-1, random_state=158,oob_score=True)\n",
    "forest_model.fit(X_train, y_train)  \n",
    "print_score(forest_model, X_train, X_valid,y_train, y_valid)"
   ]
  },
  {
   "cell_type": "markdown",
   "metadata": {},
   "source": [
    "### Linear Regression model"
   ]
  },
  {
   "cell_type": "markdown",
   "metadata": {},
   "source": [
    "Initialize Linear Regression baseline model and print all scores."
   ]
  },
  {
   "cell_type": "code",
   "execution_count": 31,
   "metadata": {},
   "outputs": [
    {
     "name": "stdout",
     "output_type": "stream",
     "text": [
      "('RMSE Train set: 260.86301673, RMSE Validation set: 271.80050038, '\n",
      " 'r² Train set: 0.61845014, r² Validation set:0.59765327,         '\n",
      " 'MAE Train set: 159.38991589, MAE Validation set: 164.793297')\n"
     ]
    }
   ],
   "source": [
    "regr = linear_model.LinearRegression()\n",
    "regr.fit(X_train, y_train)\n",
    "print_score(regr,X_train, X_valid,y_train, y_valid)"
   ]
  },
  {
   "cell_type": "markdown",
   "metadata": {},
   "source": [
    "Linear Regression Coefficients and Intercept value along with column names."
   ]
  },
  {
   "cell_type": "code",
   "execution_count": 32,
   "metadata": {},
   "outputs": [
    {
     "name": "stdout",
     "output_type": "stream",
     "text": [
      "('year', -0.7897392493634116)\n",
      "('sex', 215.3742093794777)\n",
      "('population', 0.00011511300141388205)\n",
      "('foreign_exch_reserve', 5.050452346601324e-10)\n",
      "('gpd_per_cap', 0.0006340483893966887)\n",
      "('unemployment', 0.2877693543616852)\n",
      "('inflation_rate', -7.924095389724259)\n",
      "('life_length_expectancy', -18.301630583978934)\n",
      "('gini', -8.661009978887858)\n",
      "('arms_export', 5.703109439015665e-08)\n",
      "('arms_import', -9.055167198724951e-08)\n",
      "('corruption_perception', 4.116805003670106)\n",
      "('temperature_jan', -3.5280112291505543)\n",
      "('temperature_jul', 7.963009777002055)\n",
      "('15-24 years', -83.52023365665859)\n",
      "('25-34 years', -24.337837939974307)\n",
      "('35-54 years', 88.14604294531544)\n",
      "('5-14 years', -169.9008140282418)\n",
      "('55-74 years', 108.87013385043984)\n",
      "('75+ years', 80.74270882911955)\n",
      "\n",
      "Intercept:  2990.6269708235673\n"
     ]
    }
   ],
   "source": [
    "coefs = list(regr.coef_)\n",
    "col_names = list(X_train.columns)\n",
    "val = zip(col_names,coefs)\n",
    "for coef_ in val:\n",
    "    print(coef_)\n",
    "print()\n",
    "print ('Intercept: ',regr.intercept_)"
   ]
  },
  {
   "cell_type": "markdown",
   "metadata": {},
   "source": [
    "####  Robust Scaler on Linear Regression model"
   ]
  },
  {
   "cell_type": "markdown",
   "metadata": {},
   "source": [
    "Use RobustScaler() for scaling ***X_train*** and ***X_valid***"
   ]
  },
  {
   "cell_type": "code",
   "execution_count": 33,
   "metadata": {},
   "outputs": [
    {
     "name": "stdout",
     "output_type": "stream",
     "text": [
      "('RMSE Train set: 260.86301673, RMSE Validation set: 271.8004372, '\n",
      " 'r² Train set: 0.61845014, r² Validation set:0.59765345,         '\n",
      " 'MAE Train set: 159.38977354, MAE Validation set: 164.79312944')\n"
     ]
    }
   ],
   "source": [
    "scaler = RobustScaler()\n",
    "X_train_robust_scaler = scaler.fit_transform(X_train.copy())\n",
    "X_valid_robust_scaler = scaler.transform(X_valid.copy())\n",
    "\n",
    "regr_vol_2 = linear_model.LinearRegression()\n",
    "regr_vol_2.fit(X_train_robust_scaler, y_train)\n",
    "\n",
    "print_score(regr_vol_2,X_train_robust_scaler, X_valid_robust_scaler,y_train, y_valid)"
   ]
  },
  {
   "cell_type": "markdown",
   "metadata": {},
   "source": [
    "#### MinMax Scaler on Linear Regression model"
   ]
  },
  {
   "cell_type": "markdown",
   "metadata": {},
   "source": [
    "Use MinMaxScaler() for scaling ***X_train*** and ***X_valid***"
   ]
  },
  {
   "cell_type": "code",
   "execution_count": 34,
   "metadata": {},
   "outputs": [
    {
     "name": "stdout",
     "output_type": "stream",
     "text": [
      "('RMSE Train set: 260.88942496, RMSE Validation set: 271.66029976, '\n",
      " 'r² Train set: 0.61837288, r² Validation set:0.59806824,         '\n",
      " 'MAE Train set: 159.62523234, MAE Validation set: 164.74425087')\n"
     ]
    }
   ],
   "source": [
    "norm = MinMaxScaler().fit(X_train)\n",
    "X_train_norm = norm.transform(X_train.copy())\n",
    "X_valid_norm = norm.transform(X_valid.copy())\n",
    "\n",
    "regr_vol_3 = linear_model.LinearRegression()\n",
    "regr_vol_3.fit(X_train_norm, y_train)\n",
    "\n",
    "print_score(regr_vol_3,X_train_norm, X_valid_norm,y_train, y_valid)"
   ]
  },
  {
   "cell_type": "markdown",
   "metadata": {},
   "source": [
    "#### Standard Scaler on Linear Regression model"
   ]
  },
  {
   "cell_type": "markdown",
   "metadata": {},
   "source": [
    "Use StandardScaler() for scaling ***X_train*** and ***X_valid***"
   ]
  },
  {
   "cell_type": "code",
   "execution_count": 35,
   "metadata": {},
   "outputs": [
    {
     "name": "stdout",
     "output_type": "stream",
     "text": [
      "('RMSE Train set: 260.86299656, RMSE Validation set: 271.79908062, '\n",
      " 'r² Train set: 0.6184502, r² Validation set:0.59765747,         '\n",
      " 'MAE Train set: 159.38857959, MAE Validation set: 164.79080653')\n"
     ]
    }
   ],
   "source": [
    "standard_scaler = StandardScaler()\n",
    "X_train_standard_scaler = standard_scaler.fit_transform(X_train.copy())\n",
    "X_valid_standard_scaler = standard_scaler.transform(X_valid.copy())\n",
    "\n",
    "regr_vol_4 = linear_model.LinearRegression()\n",
    "regr_vol_4.fit(X_train_standard_scaler, y_train)\n",
    "\n",
    "print_score(regr_vol_4,X_train_standard_scaler, X_valid_standard_scaler,y_train, y_valid)"
   ]
  },
  {
   "cell_type": "markdown",
   "metadata": {},
   "source": [
    "None of above used scaling methods did not improve results much. As I was told on https://stackoverflow.com/ (by user ***Ben Reiniger***): Scaling does not affect an unpenalized regression. It can improve convergence of the solver, but if the model is converging satisfactorily on the raw data, the results will be the same."
   ]
  },
  {
   "cell_type": "markdown",
   "metadata": {},
   "source": [
    "####  Linear Regression model's Heatmap"
   ]
  },
  {
   "cell_type": "markdown",
   "metadata": {},
   "source": [
    "Heatmap shows correlation between independent variables. \n",
    "According to result some vairables can be dropped others can be merged."
   ]
  },
  {
   "cell_type": "code",
   "execution_count": 36,
   "metadata": {},
   "outputs": [
    {
     "data": {
      "image/png": "[encoded data removed]",
      "text/plain": [
       "<Figure size 1080x432 with 2 Axes>"
      ]
     },
     "metadata": {
      "needs_background": "light"
     },
     "output_type": "display_data"
    }
   ],
   "source": [
    "f, ax = plt.subplots(figsize=(15, 6))\n",
    "mask_corr = np.triu(np.ones_like(X_train.corr(method='pearson'), dtype=bool))\n",
    "sns.heatmap(X_train.corr(method='pearson'), annot=True, mask=mask_corr, robust=False,cmap='YlGn', \n",
    "                                                                linewidths=.6, ax=ax, vmin=0, vmax=1)\n",
    "plt.title('Correlation matrix for \"X_train\" set', y=1.04)\n",
    "plt.show()"
   ]
  },
  {
   "cell_type": "markdown",
   "metadata": {},
   "source": [
    "#### Linear Regression model's Validation set predictions scatter plot"
   ]
  },
  {
   "cell_type": "markdown",
   "metadata": {},
   "source": [
    "Compare predictions and real values using scatter plot and figure out how many negative predictions occurred."
   ]
  },
  {
   "cell_type": "code",
   "execution_count": 37,
   "metadata": {},
   "outputs": [
    {
     "name": "stdout",
     "output_type": "stream",
     "text": [
      "Positive \"y\" predicitons: 1084\n",
      "Negative \"y\" predictions: 351\n"
     ]
    },
    {
     "data": {
      "image/png": "[encoded data removed]",
      "text/plain": [
       "<Figure size 432x288 with 1 Axes>"
      ]
     },
     "metadata": {
      "needs_background": "light"
     },
     "output_type": "display_data"
    }
   ],
   "source": [
    "plt.scatter(regr.predict(X_valid),y_valid.to_numpy(),color='greenyellow', marker='8',facecolor='yellowgreen')\n",
    "plt.xticks(list(range(-500,2200,500)))\n",
    "preds_lin = regr.predict(X_valid)\n",
    "print(f'Positive \"y\" predicitons: {preds_lin[preds_lin>=0].size}')\n",
    "print(f'Negative \"y\" predictions: {preds_lin[preds_lin<0].size}')"
   ]
  },
  {
   "cell_type": "markdown",
   "metadata": {},
   "source": [
    "<br>Inferring very terrible predictions for Linear Regression model, even negative ones for low dependent variable's values.</br> <br>Use a zip() iterator and take the first ten values from *'X_valid' predictions and first ten values from *'y_valid'* and print them out.</br>"
   ]
  },
  {
   "cell_type": "code",
   "execution_count": 38,
   "metadata": {},
   "outputs": [
    {
     "name": "stdout",
     "output_type": "stream",
     "text": [
      "((-230.21485151366778, 0),\n",
      " (87.89627323287323, 53),\n",
      " (-223.64576155183386, 3),\n",
      " (128.01080020063455, 17),\n",
      " (-332.05814228307963, 1),\n",
      " (-44.65449690454261, 16),\n",
      " (99.59318735159422, 71),\n",
      " (246.63179185090712, 132),\n",
      " (-86.56552419252739, 15),\n",
      " (226.63119149226577, 111))\n"
     ]
    }
   ],
   "source": [
    "pprint(tuple(zip(list(regr.predict(X_valid)[:10]),(list(y_valid.to_numpy()[:10])))))"
   ]
  },
  {
   "cell_type": "markdown",
   "metadata": {},
   "source": [
    "Take the log of the value plus 1 of the ***y_train*** and ***y_valid***, as data set *y* has *zero* values and initialize final Linear Regression model. "
   ]
  },
  {
   "cell_type": "code",
   "execution_count": 39,
   "metadata": {},
   "outputs": [
    {
     "name": "stdout",
     "output_type": "stream",
     "text": [
      "('RMSE_Train_set: 865.59686638, RMSE_Validation_set: 877.38524479, '\n",
      " 'r²_Train_set: 0.81941684, r²_Validation_set:0.81432779,          '\n",
      " 'MAE_Train_set: 167.06285298, MAE_Validation_set: 156.33280553')\n"
     ]
    }
   ],
   "source": [
    "y_train_log = np.log1p(np.clip(y_train.copy(), 0, None))\n",
    "y_valid_log = np.log1p(np.clip(y_valid.copy(), 0, None))\n",
    "\n",
    "regr_vol_5 = linear_model.LinearRegression()\n",
    "regr_vol_5.fit(X_train, y_train_log)\n",
    "print_score_log(regr_vol_5,X_train, X_valid,y_train_log, y_valid_log)"
   ]
  },
  {
   "cell_type": "markdown",
   "metadata": {},
   "source": [
    "<br>Getting better r² and MAE but quite lower RMSE value.</br>\n",
    "<br>Need to compare predictions after logarithmic actions and real values using scatter plot and figure out if any outliers appear.</br>"
   ]
  },
  {
   "cell_type": "code",
   "execution_count": 41,
   "metadata": {},
   "outputs": [
    {
     "name": "stdout",
     "output_type": "stream",
     "text": [
      "Positive \"y\" predicitons: 1397\n",
      "Negative \"y\" predictions: 38\n"
     ]
    },
    {
     "data": {
      "image/png": "[encoded data removed]",
      "text/plain": [
       "<Figure size 432x288 with 1 Axes>"
      ]
     },
     "metadata": {
      "needs_background": "light"
     },
     "output_type": "display_data"
    }
   ],
   "source": [
    "plt.scatter(np.expm1(regr_vol_5.predict(X_valid)),np.expm1(y_valid_log),color='greenyellow', marker='8',facecolor='yellowgreen')\n",
    "plt.xticks(list(range(0,28000,3000)))\n",
    "preds_lin = np.expm1(regr_vol_5.predict(X_valid))\n",
    "print(f'Positive \"y\" predicitons: {preds_lin[preds_lin>=0].size}')\n",
    "print(f'Negative \"y\" predictions: {preds_lin[preds_lin<0].size}')"
   ]
  },
  {
   "cell_type": "markdown",
   "metadata": {},
   "source": [
    "One outlier of value about 27,328 occurs. (exact value is 27,327.513086656043, index 856) "
   ]
  },
  {
   "cell_type": "markdown",
   "metadata": {},
   "source": [
    "### DecisionTreeRegressor model"
   ]
  },
  {
   "cell_type": "markdown",
   "metadata": {},
   "source": [
    "Loop in order to find best 'max_leaf_nodes' parameter's argument."
   ]
  },
  {
   "cell_type": "code",
   "execution_count": 42,
   "metadata": {},
   "outputs": [
    {
     "name": "stdout",
     "output_type": "stream",
     "text": [
      "Max leaf nodes: 5  \t\t Mean Absolute Error:144\n",
      "Max leaf nodes: 50  \t\t Mean Absolute Error:81\n",
      "Max leaf nodes: 250  \t\t Mean Absolute Error:53\n",
      "Max leaf nodes: 350  \t\t Mean Absolute Error:51\n",
      "Max leaf nodes: 500  \t\t Mean Absolute Error:49\n"
     ]
    }
   ],
   "source": [
    "for max_leaf_nodes in [5, 50, 250, 350, 500]:\n",
    "    my_mae = get_mae(max_leaf_nodes, X_train, X_valid,y_train, y_valid)\n",
    "    print(\"Max leaf nodes: %d  \\t\\t Mean Absolute Error:%d\" %(max_leaf_nodes, my_mae))"
   ]
  },
  {
   "cell_type": "markdown",
   "metadata": {},
   "source": [
    "Initialize DecisionTreeRegressor model with 'max_leaf_nodes' as *350* and print all scores."
   ]
  },
  {
   "cell_type": "code",
   "execution_count": 43,
   "metadata": {},
   "outputs": [
    {
     "name": "stdout",
     "output_type": "stream",
     "text": [
      "('RMSE Train set: 26.98238658, RMSE Validation set: 154.03288966, '\n",
      " 'r² Train set: 0.99591787, r² Validation set:0.87078084,         '\n",
      " 'MAE Train set: 17.89357047, MAE Validation set: 48.25040933')\n"
     ]
    }
   ],
   "source": [
    "model = DecisionTreeRegressor(max_leaf_nodes=350, random_state=158, max_features=0.5)\n",
    "model.fit(X_train, y_train)\n",
    "print_score(model,X_train, X_valid,y_train, y_valid)"
   ]
  },
  {
   "cell_type": "markdown",
   "metadata": {},
   "source": [
    "### K-Nearest Neighbors model"
   ]
  },
  {
   "cell_type": "markdown",
   "metadata": {},
   "source": [
    "Loop and visualize to find K value for the model comparing accuracy at each K value."
   ]
  },
  {
   "cell_type": "code",
   "execution_count": 44,
   "metadata": {},
   "outputs": [
    {
     "name": "stdout",
     "output_type": "stream",
     "text": [
      "Maximum accuracy: 0.06898954703832752 at K Value = 95\n"
     ]
    },
    {
     "data": {
      "image/png": "[encoded data removed]",
      "text/plain": [
       "<Figure size 1152x576 with 1 Axes>"
      ]
     },
     "metadata": {
      "needs_background": "light"
     },
     "output_type": "display_data"
    }
   ],
   "source": [
    "acuracy_list = []  \n",
    "\n",
    "for i in range(1,100):\n",
    "    neigh = KNeighborsClassifier(n_neighbors = i).fit(X_train,y_train)\n",
    "    preds = neigh.predict(X_valid)\n",
    "    acuracy_list.append(metrics.accuracy_score(y_valid, preds))\n",
    "    \n",
    "plt.figure(figsize=(16,8))\n",
    "plt.plot(range(1,100),acuracy_list,color = 'green',linestyle='dashed', \n",
    "         marker='8',markerfacecolor='yellow', markersize=10)\n",
    "[plt.gca().spines[loc].set_visible(False) for loc in ['top', 'right']]\n",
    "plt.title('Accuracy vs. K Value', fontsize=16, y=1.03)\n",
    "plt.xlabel('K Value')\n",
    "plt.ylabel('Accuracy')\n",
    "plt.tight_layout()\n",
    "print(\"Maximum accuracy:\",max(acuracy_list),\"at K Value =\",acuracy_list.index(max(acuracy_list)))"
   ]
  },
  {
   "cell_type": "markdown",
   "metadata": {},
   "source": [
    "Initialize K-Nearest Neighbors model with K value *95* and print all scores."
   ]
  },
  {
   "cell_type": "code",
   "execution_count": 45,
   "metadata": {},
   "outputs": [
    {
     "name": "stdout",
     "output_type": "stream",
     "text": [
      "('RMSE Train set: 474.08699552, RMSE Validation set: 473.09522434, '\n",
      " 'r² Train set: 0.07272305, r² Validation set:0.06759582,         '\n",
      " 'MAE Train set: 219.46026952, MAE Validation set: 203.37979094')\n"
     ]
    }
   ],
   "source": [
    "neigh = KNeighborsClassifier(n_neighbors = 95,n_jobs=-1)\n",
    "neigh.fit(X_train,y_train)\n",
    "print_score(neigh, X_train, X_valid,y_train, y_valid)"
   ]
  },
  {
   "cell_type": "markdown",
   "metadata": {},
   "source": [
    "#### Scaling for Logistic Regression model and Support Vector Regression model"
   ]
  },
  {
   "cell_type": "markdown",
   "metadata": {},
   "source": [
    "Scale ***train*** and ***validation*** data to \\[-1,1\\] in order to increase model speed."
   ]
  },
  {
   "cell_type": "code",
   "execution_count": 46,
   "metadata": {},
   "outputs": [],
   "source": [
    "scaling = MinMaxScaler(feature_range=(-1,1)).fit(X_train)\n",
    "X_train_scaler = scaling.transform(X_train)\n",
    "X_valid_scaler = scaling.transform(X_valid)"
   ]
  },
  {
   "cell_type": "markdown",
   "metadata": {},
   "source": [
    "### Logistic Regression model"
   ]
  },
  {
   "cell_type": "markdown",
   "metadata": {},
   "source": [
    "Loop through 3 solvers to evaluate accuracy and choose the best performed for the Logistic Regression model."
   ]
  },
  {
   "cell_type": "code",
   "execution_count": 47,
   "metadata": {},
   "outputs": [],
   "source": [
    "# list_lr = ['newton-cg', 'liblinear', 'sag']\n",
    "\n",
    "# for solver in list_lr:\n",
    "#     lr = linear_model.LogisticRegression(C=0.9, solver=solver).fit(X_train_scaler,y_train)\n",
    "#     y_hat = lr.predict(X_valid_scaler)\n",
    "#     mean_acc = accuracy_score(y_valid,y_hat)\n",
    "#     print(f'\"{solver}\" kernel model accuracy score: {mean_acc.round(6)}')"
   ]
  },
  {
   "cell_type": "markdown",
   "metadata": {},
   "source": [
    "Logistic Regression model with solver as \"*newton-cg*\" and model's score."
   ]
  },
  {
   "cell_type": "code",
   "execution_count": 48,
   "metadata": {},
   "outputs": [],
   "source": [
    "# logreg = linear_model.LogisticRegression(C=0.9, solver='newton-cg')\n",
    "# logreg.fit(X_train_scaler,y_train)\n",
    "# print_score_scaler(logreg, X_train_scaler, X_valid_scaler,y_train, y_valid) "
   ]
  },
  {
   "cell_type": "markdown",
   "metadata": {},
   "source": [
    "### Support Vector Regression model"
   ]
  },
  {
   "cell_type": "markdown",
   "metadata": {},
   "source": [
    "Loop through 4 kernels to evaluate accuracy and choose the best performed for Support Vector Regression model."
   ]
  },
  {
   "cell_type": "code",
   "execution_count": 49,
   "metadata": {},
   "outputs": [],
   "source": [
    "# list_svr = ['linear', 'rbf', 'sigmoid','poly']\n",
    "\n",
    "# for model in list_svr:\n",
    "#     svm = SVC(kernel=model).fit(X_train_scaler,y_train)\n",
    "#     y_hat = svm.predict(X_valid_scaler)\n",
    "#     mean_acc = accuracy_score(y_valid,y_hat)\n",
    "#     print(f'{model} kernel model accuracy score: {mean_acc.round(6)}')"
   ]
  },
  {
   "cell_type": "markdown",
   "metadata": {},
   "source": [
    "Support Vector Regression model with kernel as \"*poly*\" and model's score."
   ]
  },
  {
   "cell_type": "code",
   "execution_count": 50,
   "metadata": {},
   "outputs": [],
   "source": [
    "# svm = SVC(kernel='poly')\n",
    "# svm.fit(X_train_scaler,y_train)\n",
    "# print_score_scaler(svm, X_train_scaler, X_valid_scaler,y_train, y_valid) "
   ]
  },
  {
   "cell_type": "markdown",
   "metadata": {},
   "source": [
    "## Scoreboard"
   ]
  },
  {
   "cell_type": "markdown",
   "metadata": {},
   "source": [
    "####  <center> -=- Validation Set Scoreboard -=-</center>"
   ]
  },
  {
   "cell_type": "markdown",
   "metadata": {},
   "source": [
    "| Model algorithm               |  RMSE    |    r²    |    MAE   |\n",
    "| ----------------------------- | -------- | -------- | -------- |\n",
    "| Random Forest                 | 104.0874 | 0.9410   |  38.8811 |\n",
    "| DecisionTreeRegressor         | 154.0329 | 0.8708   |  48.2504 |\n",
    "| LinearRegression              | 271.7991 | 0.5977   | 164.7908 |\n",
    "| LinearRegression (with y log) | 877.3852 | 0.8143   | 156.3328 | \n",
    "| SVM                           | 313.7996 | 0.0927   | 122.8836 |\n",
    "| LogisticRegression            | 296.1698 | 0.0878   | 124.3979 |\n",
    "| K-Nearest Neighbors           | 473.0952 | 0.0676   | 203.3798 |"
   ]
  },
  {
   "cell_type": "markdown",
   "metadata": {},
   "source": [
    "### To-Do list:"
   ]
  },
  {
   "cell_type": "markdown",
   "metadata": {},
   "source": [
    "1. Tune Random Forest hyperparametres with fast.ai functions; [till 2021-01-16]\n",
    "2. XGboost model ; [till 2021-01-16]\n",
    "3. Catboost for countries (?) [till 2021-01-23]\n",
    "4. SGD/LightGBM  model (?) [till 2021-01-23]"
   ]
  },
  {
   "cell_type": "markdown",
   "metadata": {},
   "source": [
    "## <span style=\"color:teal\"> Case 856 aka outlier from Linear Regression</span>"
   ]
  },
  {
   "cell_type": "code",
   "execution_count": 51,
   "metadata": {},
   "outputs": [],
   "source": [
    "preds = np.expm1(regr_vol_5.predict(X_valid))"
   ]
  },
  {
   "cell_type": "code",
   "execution_count": 52,
   "metadata": {},
   "outputs": [
    {
     "data": {
      "text/plain": [
       "856"
      ]
     },
     "execution_count": 52,
     "metadata": {},
     "output_type": "execute_result"
    }
   ],
   "source": [
    "x = list(preds) \n",
    "x.index(27327.513086656043) # 856"
   ]
  },
  {
   "cell_type": "code",
   "execution_count": 53,
   "metadata": {},
   "outputs": [],
   "source": [
    "x_856_case = X_valid.copy()"
   ]
  },
  {
   "cell_type": "code",
   "execution_count": 54,
   "metadata": {},
   "outputs": [],
   "source": [
    "x_856_case['num'] = list(range(1,1436,1))"
   ]
  },
  {
   "cell_type": "code",
   "execution_count": 55,
   "metadata": {},
   "outputs": [
    {
     "data": {
      "text/html": [
       "<div>\n",
       "<style scoped>\n",
       "    .dataframe tbody tr th:only-of-type {\n",
       "        vertical-align: middle;\n",
       "    }\n",
       "\n",
       "    .dataframe tbody tr th {\n",
       "        vertical-align: top;\n",
       "    }\n",
       "\n",
       "    .dataframe thead th {\n",
       "        text-align: right;\n",
       "    }\n",
       "</style>\n",
       "<table border=\"1\" class=\"dataframe\">\n",
       "  <thead>\n",
       "    <tr style=\"text-align: right;\">\n",
       "      <th></th>\n",
       "      <th>year</th>\n",
       "      <th>sex</th>\n",
       "      <th>population</th>\n",
       "      <th>foreign_exch_reserve</th>\n",
       "      <th>gpd_per_cap</th>\n",
       "      <th>unemployment</th>\n",
       "      <th>inflation_rate</th>\n",
       "      <th>life_length_expectancy</th>\n",
       "      <th>gini</th>\n",
       "      <th>arms_export</th>\n",
       "      <th>...</th>\n",
       "      <th>corruption_perception</th>\n",
       "      <th>temperature_jan</th>\n",
       "      <th>temperature_jul</th>\n",
       "      <th>15-24 years</th>\n",
       "      <th>25-34 years</th>\n",
       "      <th>35-54 years</th>\n",
       "      <th>5-14 years</th>\n",
       "      <th>55-74 years</th>\n",
       "      <th>75+ years</th>\n",
       "      <th>num</th>\n",
       "    </tr>\n",
       "  </thead>\n",
       "  <tbody>\n",
       "    <tr>\n",
       "      <th>4032</th>\n",
       "      <td>1987</td>\n",
       "      <td>0</td>\n",
       "      <td>4637300.0</td>\n",
       "      <td>6.248896e+10</td>\n",
       "      <td>14234.72865</td>\n",
       "      <td>10.7225</td>\n",
       "      <td>4.747285</td>\n",
       "      <td>76.219512</td>\n",
       "      <td>34.5</td>\n",
       "      <td>617000000.0</td>\n",
       "      <td>...</td>\n",
       "      <td>6.768767</td>\n",
       "      <td>2.45167</td>\n",
       "      <td>21.6348</td>\n",
       "      <td>1</td>\n",
       "      <td>0</td>\n",
       "      <td>0</td>\n",
       "      <td>0</td>\n",
       "      <td>0</td>\n",
       "      <td>0</td>\n",
       "      <td>856</td>\n",
       "    </tr>\n",
       "  </tbody>\n",
       "</table>\n",
       "<p>1 rows × 21 columns</p>\n",
       "</div>"
      ],
      "text/plain": [
       "      year  sex  population  foreign_exch_reserve  gpd_per_cap  unemployment  \\\n",
       "4032  1987    0   4637300.0          6.248896e+10  14234.72865       10.7225   \n",
       "\n",
       "      inflation_rate  life_length_expectancy  gini  arms_export  ...  \\\n",
       "4032        4.747285               76.219512  34.5  617000000.0  ...   \n",
       "\n",
       "      corruption_perception  temperature_jan  temperature_jul  15-24 years  \\\n",
       "4032               6.768767          2.45167          21.6348            1   \n",
       "\n",
       "      25-34 years  35-54 years  5-14 years  55-74 years  75+ years  num  \n",
       "4032            0            0           0            0          0  856  \n",
       "\n",
       "[1 rows x 21 columns]"
      ]
     },
     "execution_count": 55,
     "metadata": {},
     "output_type": "execute_result"
    }
   ],
   "source": [
    "x_856_case[x_856_case['num'] == 856 ]"
   ]
  },
  {
   "cell_type": "code",
   "execution_count": 56,
   "metadata": {},
   "outputs": [
    {
     "data": {
      "text/html": [
       "<div>\n",
       "<style scoped>\n",
       "    .dataframe tbody tr th:only-of-type {\n",
       "        vertical-align: middle;\n",
       "    }\n",
       "\n",
       "    .dataframe tbody tr th {\n",
       "        vertical-align: top;\n",
       "    }\n",
       "\n",
       "    .dataframe thead th {\n",
       "        text-align: right;\n",
       "    }\n",
       "</style>\n",
       "<table border=\"1\" class=\"dataframe\">\n",
       "  <thead>\n",
       "    <tr style=\"text-align: right;\">\n",
       "      <th></th>\n",
       "      <th>country</th>\n",
       "      <th>year</th>\n",
       "      <th>sex</th>\n",
       "      <th>age</th>\n",
       "      <th>population</th>\n",
       "      <th>foreign_exch_reserve</th>\n",
       "      <th>gpd_per_cap</th>\n",
       "      <th>unemployment</th>\n",
       "      <th>inflation_rate</th>\n",
       "      <th>life_length_expectancy</th>\n",
       "      <th>gini</th>\n",
       "      <th>arms_export</th>\n",
       "      <th>arms_import</th>\n",
       "      <th>corruption_perception</th>\n",
       "      <th>temperature_jan</th>\n",
       "      <th>temperature_jul</th>\n",
       "      <th>suicides_no</th>\n",
       "    </tr>\n",
       "  </thead>\n",
       "  <tbody>\n",
       "    <tr>\n",
       "      <th>4032</th>\n",
       "      <td>Italy</td>\n",
       "      <td>1987</td>\n",
       "      <td>female</td>\n",
       "      <td>15-24 years</td>\n",
       "      <td>4637300</td>\n",
       "      <td>6.248896e+10</td>\n",
       "      <td>14234.72865</td>\n",
       "      <td>10.7225</td>\n",
       "      <td>4.747285</td>\n",
       "      <td>76.219512</td>\n",
       "      <td>34.5</td>\n",
       "      <td>617000000.0</td>\n",
       "      <td>183000000.0</td>\n",
       "      <td>NaN</td>\n",
       "      <td>2.45167</td>\n",
       "      <td>21.6348</td>\n",
       "      <td>63</td>\n",
       "    </tr>\n",
       "    <tr>\n",
       "      <th>4044</th>\n",
       "      <td>Italy</td>\n",
       "      <td>1988</td>\n",
       "      <td>female</td>\n",
       "      <td>15-24 years</td>\n",
       "      <td>4613100</td>\n",
       "      <td>6.206705e+10</td>\n",
       "      <td>15744.66127</td>\n",
       "      <td>10.9745</td>\n",
       "      <td>5.058247</td>\n",
       "      <td>76.370732</td>\n",
       "      <td>NaN</td>\n",
       "      <td>386000000.0</td>\n",
       "      <td>179000000.0</td>\n",
       "      <td>NaN</td>\n",
       "      <td>6.25722</td>\n",
       "      <td>21.9994</td>\n",
       "      <td>65</td>\n",
       "    </tr>\n",
       "  </tbody>\n",
       "</table>\n",
       "</div>"
      ],
      "text/plain": [
       "     country  year     sex          age  population  foreign_exch_reserve  \\\n",
       "4032   Italy  1987  female  15-24 years     4637300          6.248896e+10   \n",
       "4044   Italy  1988  female  15-24 years     4613100          6.206705e+10   \n",
       "\n",
       "      gpd_per_cap  unemployment  inflation_rate  life_length_expectancy  gini  \\\n",
       "4032  14234.72865       10.7225        4.747285               76.219512  34.5   \n",
       "4044  15744.66127       10.9745        5.058247               76.370732   NaN   \n",
       "\n",
       "      arms_export  arms_import  corruption_perception  temperature_jan  \\\n",
       "4032  617000000.0  183000000.0                    NaN          2.45167   \n",
       "4044  386000000.0  179000000.0                    NaN          6.25722   \n",
       "\n",
       "      temperature_jul  suicides_no  \n",
       "4032          21.6348           63  \n",
       "4044          21.9994           65  "
      ]
     },
     "execution_count": 56,
     "metadata": {},
     "output_type": "execute_result"
    }
   ],
   "source": [
    "df_raw.iloc[[4032,4044]]"
   ]
  },
  {
   "cell_type": "code",
   "execution_count": 57,
   "metadata": {},
   "outputs": [],
   "source": [
    "case_4032 = df_raw[(df_raw['age'] == '15-24 years') & (df_raw['country'] == 'Italy') & (df_raw['sex'] == 'female')]"
   ]
  },
  {
   "cell_type": "code",
   "execution_count": 58,
   "metadata": {
    "scrolled": false
   },
   "outputs": [
    {
     "data": {
      "text/html": [
       "<div>\n",
       "<style scoped>\n",
       "    .dataframe tbody tr th:only-of-type {\n",
       "        vertical-align: middle;\n",
       "    }\n",
       "\n",
       "    .dataframe tbody tr th {\n",
       "        vertical-align: top;\n",
       "    }\n",
       "\n",
       "    .dataframe thead th {\n",
       "        text-align: right;\n",
       "    }\n",
       "</style>\n",
       "<table border=\"1\" class=\"dataframe\">\n",
       "  <thead>\n",
       "    <tr style=\"text-align: right;\">\n",
       "      <th></th>\n",
       "      <th>country</th>\n",
       "      <th>year</th>\n",
       "      <th>sex</th>\n",
       "      <th>age</th>\n",
       "      <th>population</th>\n",
       "      <th>foreign_exch_reserve</th>\n",
       "      <th>gpd_per_cap</th>\n",
       "      <th>unemployment</th>\n",
       "      <th>inflation_rate</th>\n",
       "      <th>life_length_expectancy</th>\n",
       "      <th>gini</th>\n",
       "      <th>arms_export</th>\n",
       "      <th>arms_import</th>\n",
       "      <th>corruption_perception</th>\n",
       "      <th>temperature_jan</th>\n",
       "      <th>temperature_jul</th>\n",
       "      <th>suicides_no</th>\n",
       "    </tr>\n",
       "  </thead>\n",
       "  <tbody>\n",
       "    <tr>\n",
       "      <th>3936</th>\n",
       "      <td>Italy</td>\n",
       "      <td>1979</td>\n",
       "      <td>female</td>\n",
       "      <td>15-24 years</td>\n",
       "      <td>4178700</td>\n",
       "      <td>5.235400e+10</td>\n",
       "      <td>6990.285794</td>\n",
       "      <td>7.64</td>\n",
       "      <td>14.798574</td>\n",
       "      <td>74.002683</td>\n",
       "      <td>NaN</td>\n",
       "      <td>1.303000e+09</td>\n",
       "      <td>605000000.0</td>\n",
       "      <td>NaN</td>\n",
       "      <td>2.47147</td>\n",
       "      <td>20.1819</td>\n",
       "      <td>70</td>\n",
       "    </tr>\n",
       "    <tr>\n",
       "      <th>3948</th>\n",
       "      <td>Italy</td>\n",
       "      <td>1980</td>\n",
       "      <td>female</td>\n",
       "      <td>15-24 years</td>\n",
       "      <td>4257400</td>\n",
       "      <td>6.242784e+10</td>\n",
       "      <td>8456.918982</td>\n",
       "      <td>7.53</td>\n",
       "      <td>21.064168</td>\n",
       "      <td>73.943171</td>\n",
       "      <td>NaN</td>\n",
       "      <td>1.168000e+09</td>\n",
       "      <td>479000000.0</td>\n",
       "      <td>NaN</td>\n",
       "      <td>3.18231</td>\n",
       "      <td>18.8625</td>\n",
       "      <td>101</td>\n",
       "    </tr>\n",
       "    <tr>\n",
       "      <th>3960</th>\n",
       "      <td>Italy</td>\n",
       "      <td>1981</td>\n",
       "      <td>female</td>\n",
       "      <td>15-24 years</td>\n",
       "      <td>4328200</td>\n",
       "      <td>4.663544e+10</td>\n",
       "      <td>7622.833328</td>\n",
       "      <td>9.03</td>\n",
       "      <td>17.969299</td>\n",
       "      <td>74.353902</td>\n",
       "      <td>NaN</td>\n",
       "      <td>1.715000e+09</td>\n",
       "      <td>133000000.0</td>\n",
       "      <td>NaN</td>\n",
       "      <td>1.70726</td>\n",
       "      <td>19.4005</td>\n",
       "      <td>72</td>\n",
       "    </tr>\n",
       "    <tr>\n",
       "      <th>3972</th>\n",
       "      <td>Italy</td>\n",
       "      <td>1982</td>\n",
       "      <td>female</td>\n",
       "      <td>15-24 years</td>\n",
       "      <td>4405200</td>\n",
       "      <td>4.455289e+10</td>\n",
       "      <td>7556.523429</td>\n",
       "      <td>9.03</td>\n",
       "      <td>16.480415</td>\n",
       "      <td>74.814634</td>\n",
       "      <td>NaN</td>\n",
       "      <td>1.689000e+09</td>\n",
       "      <td>251000000.0</td>\n",
       "      <td>NaN</td>\n",
       "      <td>4.42538</td>\n",
       "      <td>21.8611</td>\n",
       "      <td>73</td>\n",
       "    </tr>\n",
       "    <tr>\n",
       "      <th>3984</th>\n",
       "      <td>Italy</td>\n",
       "      <td>1983</td>\n",
       "      <td>female</td>\n",
       "      <td>15-24 years</td>\n",
       "      <td>4492000</td>\n",
       "      <td>4.554004e+10</td>\n",
       "      <td>7832.575389</td>\n",
       "      <td>8.57</td>\n",
       "      <td>14.646577</td>\n",
       "      <td>74.640244</td>\n",
       "      <td>NaN</td>\n",
       "      <td>1.183000e+09</td>\n",
       "      <td>307000000.0</td>\n",
       "      <td>NaN</td>\n",
       "      <td>4.18856</td>\n",
       "      <td>22.8564</td>\n",
       "      <td>58</td>\n",
       "    </tr>\n",
       "  </tbody>\n",
       "</table>\n",
       "</div>"
      ],
      "text/plain": [
       "     country  year     sex          age  population  foreign_exch_reserve  \\\n",
       "3936   Italy  1979  female  15-24 years     4178700          5.235400e+10   \n",
       "3948   Italy  1980  female  15-24 years     4257400          6.242784e+10   \n",
       "3960   Italy  1981  female  15-24 years     4328200          4.663544e+10   \n",
       "3972   Italy  1982  female  15-24 years     4405200          4.455289e+10   \n",
       "3984   Italy  1983  female  15-24 years     4492000          4.554004e+10   \n",
       "\n",
       "      gpd_per_cap  unemployment  inflation_rate  life_length_expectancy  gini  \\\n",
       "3936  6990.285794          7.64       14.798574               74.002683   NaN   \n",
       "3948  8456.918982          7.53       21.064168               73.943171   NaN   \n",
       "3960  7622.833328          9.03       17.969299               74.353902   NaN   \n",
       "3972  7556.523429          9.03       16.480415               74.814634   NaN   \n",
       "3984  7832.575389          8.57       14.646577               74.640244   NaN   \n",
       "\n",
       "       arms_export  arms_import  corruption_perception  temperature_jan  \\\n",
       "3936  1.303000e+09  605000000.0                    NaN          2.47147   \n",
       "3948  1.168000e+09  479000000.0                    NaN          3.18231   \n",
       "3960  1.715000e+09  133000000.0                    NaN          1.70726   \n",
       "3972  1.689000e+09  251000000.0                    NaN          4.42538   \n",
       "3984  1.183000e+09  307000000.0                    NaN          4.18856   \n",
       "\n",
       "      temperature_jul  suicides_no  \n",
       "3936          20.1819           70  \n",
       "3948          18.8625          101  \n",
       "3960          19.4005           72  \n",
       "3972          21.8611           73  \n",
       "3984          22.8564           58  "
      ]
     },
     "execution_count": 58,
     "metadata": {},
     "output_type": "execute_result"
    }
   ],
   "source": [
    "case_4032.head()"
   ]
  },
  {
   "cell_type": "code",
   "execution_count": 59,
   "metadata": {},
   "outputs": [
    {
     "data": {
      "image/png": "[encoded data removed]",
      "text/plain": [
       "<Figure size 432x288 with 1 Axes>"
      ]
     },
     "metadata": {
      "needs_background": "light"
     },
     "output_type": "display_data"
    }
   ],
   "source": [
    "plt.scatter(case_4032['year'],case_4032['suicides_no'] ,color='greenyellow', marker='8',facecolor='yellowgreen')\n",
    "plt.xticks(list(range(1979,2017,4)))\n",
    "plt.axvline(1987,color='red')\n",
    "preds_lin = np.expm1(regr_vol_5.predict(X_valid))"
   ]
  },
  {
   "cell_type": "code",
   "execution_count": 60,
   "metadata": {},
   "outputs": [
    {
     "data": {
      "image/png": "[encoded data removed]",
      "text/plain": [
       "<Figure size 432x288 with 1 Axes>"
      ]
     },
     "metadata": {
      "needs_background": "light"
     },
     "output_type": "display_data"
    }
   ],
   "source": [
    "plt.scatter(case_4032['year'],case_4032['population'] ,color='greenyellow', marker='8',facecolor='yellowgreen')\n",
    "plt.xticks(list(range(1979,2017,4)))\n",
    "plt.axvline(1987,color='red')\n",
    "preds_lin = np.expm1(regr_vol_5.predict(X_valid))"
   ]
  },
  {
   "cell_type": "code",
   "execution_count": 61,
   "metadata": {},
   "outputs": [
    {
     "data": {
      "image/png": "[encoded data removed]",
      "text/plain": [
       "<Figure size 432x288 with 1 Axes>"
      ]
     },
     "metadata": {
      "needs_background": "light"
     },
     "output_type": "display_data"
    }
   ],
   "source": [
    "plt.scatter(case_4032['year'],case_4032['foreign_exch_reserve'] ,color='greenyellow', marker='8',facecolor='yellowgreen')\n",
    "plt.xticks(list(range(1979,2017,4)))\n",
    "plt.axvline(1987,color='red')\n",
    "preds_lin = np.expm1(regr_vol_5.predict(X_valid))"
   ]
  },
  {
   "cell_type": "code",
   "execution_count": 62,
   "metadata": {},
   "outputs": [],
   "source": [
    "case_3503 = df_raw[(df_raw['age'] == '75+ years') & (df_raw['country'] == 'Hungary') & (df_raw['sex'] == 'male')]"
   ]
  },
  {
   "cell_type": "code",
   "execution_count": 63,
   "metadata": {},
   "outputs": [
    {
     "data": {
      "text/html": [
       "<div>\n",
       "<style scoped>\n",
       "    .dataframe tbody tr th:only-of-type {\n",
       "        vertical-align: middle;\n",
       "    }\n",
       "\n",
       "    .dataframe tbody tr th {\n",
       "        vertical-align: top;\n",
       "    }\n",
       "\n",
       "    .dataframe thead th {\n",
       "        text-align: right;\n",
       "    }\n",
       "</style>\n",
       "<table border=\"1\" class=\"dataframe\">\n",
       "  <thead>\n",
       "    <tr style=\"text-align: right;\">\n",
       "      <th></th>\n",
       "      <th>country</th>\n",
       "      <th>year</th>\n",
       "      <th>sex</th>\n",
       "      <th>age</th>\n",
       "      <th>population</th>\n",
       "      <th>foreign_exch_reserve</th>\n",
       "      <th>gpd_per_cap</th>\n",
       "      <th>unemployment</th>\n",
       "      <th>inflation_rate</th>\n",
       "      <th>life_length_expectancy</th>\n",
       "      <th>gini</th>\n",
       "      <th>arms_export</th>\n",
       "      <th>arms_import</th>\n",
       "      <th>corruption_perception</th>\n",
       "      <th>temperature_jan</th>\n",
       "      <th>temperature_jul</th>\n",
       "      <th>suicides_no</th>\n",
       "    </tr>\n",
       "  </thead>\n",
       "  <tbody>\n",
       "    <tr>\n",
       "      <th>3359</th>\n",
       "      <td>Hungary</td>\n",
       "      <td>2004</td>\n",
       "      <td>male</td>\n",
       "      <td>75+ years</td>\n",
       "      <td>218145</td>\n",
       "      <td>1.596539e+10</td>\n",
       "      <td>10285.79363</td>\n",
       "      <td>5.8321</td>\n",
       "      <td>6.744347</td>\n",
       "      <td>72.648780</td>\n",
       "      <td>29.9</td>\n",
       "      <td>0.0</td>\n",
       "      <td>72000000.0</td>\n",
       "      <td>4.80</td>\n",
       "      <td>-2.64430</td>\n",
       "      <td>20.6158</td>\n",
       "      <td>262</td>\n",
       "    </tr>\n",
       "    <tr>\n",
       "      <th>3371</th>\n",
       "      <td>Hungary</td>\n",
       "      <td>2005</td>\n",
       "      <td>male</td>\n",
       "      <td>75+ years</td>\n",
       "      <td>222774</td>\n",
       "      <td>1.860283e+10</td>\n",
       "      <td>11200.57695</td>\n",
       "      <td>7.1885</td>\n",
       "      <td>3.561517</td>\n",
       "      <td>72.648780</td>\n",
       "      <td>34.7</td>\n",
       "      <td>82000000.0</td>\n",
       "      <td>13000000.0</td>\n",
       "      <td>5.00</td>\n",
       "      <td>-0.34010</td>\n",
       "      <td>20.7935</td>\n",
       "      <td>269</td>\n",
       "    </tr>\n",
       "    <tr>\n",
       "      <th>3383</th>\n",
       "      <td>Hungary</td>\n",
       "      <td>2006</td>\n",
       "      <td>male</td>\n",
       "      <td>75+ years</td>\n",
       "      <td>227029</td>\n",
       "      <td>2.158990e+10</td>\n",
       "      <td>11475.82271</td>\n",
       "      <td>7.4939</td>\n",
       "      <td>3.930326</td>\n",
       "      <td>73.097561</td>\n",
       "      <td>28.3</td>\n",
       "      <td>0.0</td>\n",
       "      <td>253000000.0</td>\n",
       "      <td>5.20</td>\n",
       "      <td>-3.62290</td>\n",
       "      <td>23.0103</td>\n",
       "      <td>204</td>\n",
       "    </tr>\n",
       "    <tr>\n",
       "      <th>3395</th>\n",
       "      <td>Hungary</td>\n",
       "      <td>2007</td>\n",
       "      <td>male</td>\n",
       "      <td>75+ years</td>\n",
       "      <td>230464</td>\n",
       "      <td>2.405221e+10</td>\n",
       "      <td>13918.96019</td>\n",
       "      <td>7.4059</td>\n",
       "      <td>7.958745</td>\n",
       "      <td>73.151220</td>\n",
       "      <td>27.9</td>\n",
       "      <td>9000000.0</td>\n",
       "      <td>196000000.0</td>\n",
       "      <td>5.30</td>\n",
       "      <td>4.31832</td>\n",
       "      <td>22.6641</td>\n",
       "      <td>252</td>\n",
       "    </tr>\n",
       "    <tr>\n",
       "      <th>3407</th>\n",
       "      <td>Hungary</td>\n",
       "      <td>2008</td>\n",
       "      <td>male</td>\n",
       "      <td>75+ years</td>\n",
       "      <td>233660</td>\n",
       "      <td>3.387390e+10</td>\n",
       "      <td>15753.47328</td>\n",
       "      <td>7.8170</td>\n",
       "      <td>6.042513</td>\n",
       "      <td>73.702439</td>\n",
       "      <td>27.5</td>\n",
       "      <td>0.0</td>\n",
       "      <td>5000000.0</td>\n",
       "      <td>5.10</td>\n",
       "      <td>1.13771</td>\n",
       "      <td>20.8987</td>\n",
       "      <td>263</td>\n",
       "    </tr>\n",
       "    <tr>\n",
       "      <th>3419</th>\n",
       "      <td>Hungary</td>\n",
       "      <td>2009</td>\n",
       "      <td>male</td>\n",
       "      <td>75+ years</td>\n",
       "      <td>236367</td>\n",
       "      <td>4.418129e+10</td>\n",
       "      <td>13046.48101</td>\n",
       "      <td>10.0304</td>\n",
       "      <td>4.211712</td>\n",
       "      <td>73.904878</td>\n",
       "      <td>27.0</td>\n",
       "      <td>0.0</td>\n",
       "      <td>4000000.0</td>\n",
       "      <td>5.10</td>\n",
       "      <td>-1.82180</td>\n",
       "      <td>22.1221</td>\n",
       "      <td>214</td>\n",
       "    </tr>\n",
       "    <tr>\n",
       "      <th>3431</th>\n",
       "      <td>Hungary</td>\n",
       "      <td>2010</td>\n",
       "      <td>male</td>\n",
       "      <td>75+ years</td>\n",
       "      <td>238269</td>\n",
       "      <td>4.498818e+10</td>\n",
       "      <td>13113.52596</td>\n",
       "      <td>11.1719</td>\n",
       "      <td>4.855558</td>\n",
       "      <td>74.207317</td>\n",
       "      <td>29.4</td>\n",
       "      <td>0.0</td>\n",
       "      <td>18000000.0</td>\n",
       "      <td>4.70</td>\n",
       "      <td>-1.99470</td>\n",
       "      <td>22.5314</td>\n",
       "      <td>242</td>\n",
       "    </tr>\n",
       "    <tr>\n",
       "      <th>3443</th>\n",
       "      <td>Hungary</td>\n",
       "      <td>2011</td>\n",
       "      <td>male</td>\n",
       "      <td>75+ years</td>\n",
       "      <td>239506</td>\n",
       "      <td>4.883192e+10</td>\n",
       "      <td>14150.96673</td>\n",
       "      <td>11.0291</td>\n",
       "      <td>3.929921</td>\n",
       "      <td>74.858537</td>\n",
       "      <td>29.2</td>\n",
       "      <td>0.0</td>\n",
       "      <td>9000000.0</td>\n",
       "      <td>4.56</td>\n",
       "      <td>-0.52970</td>\n",
       "      <td>20.6215</td>\n",
       "      <td>200</td>\n",
       "    </tr>\n",
       "    <tr>\n",
       "      <th>3455</th>\n",
       "      <td>Hungary</td>\n",
       "      <td>2012</td>\n",
       "      <td>male</td>\n",
       "      <td>75+ years</td>\n",
       "      <td>232766</td>\n",
       "      <td>4.467062e+10</td>\n",
       "      <td>12918.24752</td>\n",
       "      <td>11.0030</td>\n",
       "      <td>5.652145</td>\n",
       "      <td>75.063415</td>\n",
       "      <td>30.8</td>\n",
       "      <td>0.0</td>\n",
       "      <td>0.0</td>\n",
       "      <td>5.50</td>\n",
       "      <td>0.35506</td>\n",
       "      <td>23.0977</td>\n",
       "      <td>233</td>\n",
       "    </tr>\n",
       "    <tr>\n",
       "      <th>3467</th>\n",
       "      <td>Hungary</td>\n",
       "      <td>2013</td>\n",
       "      <td>male</td>\n",
       "      <td>75+ years</td>\n",
       "      <td>234783</td>\n",
       "      <td>4.650801e+10</td>\n",
       "      <td>13687.24610</td>\n",
       "      <td>10.1765</td>\n",
       "      <td>1.733200</td>\n",
       "      <td>75.565854</td>\n",
       "      <td>31.5</td>\n",
       "      <td>41000000.0</td>\n",
       "      <td>2000000.0</td>\n",
       "      <td>5.40</td>\n",
       "      <td>-0.14050</td>\n",
       "      <td>22.3515</td>\n",
       "      <td>201</td>\n",
       "    </tr>\n",
       "    <tr>\n",
       "      <th>3479</th>\n",
       "      <td>Hungary</td>\n",
       "      <td>2014</td>\n",
       "      <td>male</td>\n",
       "      <td>75+ years</td>\n",
       "      <td>237767</td>\n",
       "      <td>4.201988e+10</td>\n",
       "      <td>14246.10980</td>\n",
       "      <td>7.7253</td>\n",
       "      <td>-0.227566</td>\n",
       "      <td>75.763415</td>\n",
       "      <td>30.9</td>\n",
       "      <td>0.0</td>\n",
       "      <td>7000000.0</td>\n",
       "      <td>5.40</td>\n",
       "      <td>2.49679</td>\n",
       "      <td>21.5702</td>\n",
       "      <td>179</td>\n",
       "    </tr>\n",
       "    <tr>\n",
       "      <th>3491</th>\n",
       "      <td>Hungary</td>\n",
       "      <td>2015</td>\n",
       "      <td>male</td>\n",
       "      <td>75+ years</td>\n",
       "      <td>241730</td>\n",
       "      <td>3.312429e+10</td>\n",
       "      <td>12651.56834</td>\n",
       "      <td>6.8132</td>\n",
       "      <td>-0.061645</td>\n",
       "      <td>75.568293</td>\n",
       "      <td>30.4</td>\n",
       "      <td>0.0</td>\n",
       "      <td>0.0</td>\n",
       "      <td>5.10</td>\n",
       "      <td>1.69768</td>\n",
       "      <td>23.3558</td>\n",
       "      <td>221</td>\n",
       "    </tr>\n",
       "    <tr>\n",
       "      <th>3503</th>\n",
       "      <td>Hungary</td>\n",
       "      <td>2016</td>\n",
       "      <td>male</td>\n",
       "      <td>75+ years</td>\n",
       "      <td>246437</td>\n",
       "      <td>2.582425e+10</td>\n",
       "      <td>12992.37567</td>\n",
       "      <td>5.1149</td>\n",
       "      <td>0.394769</td>\n",
       "      <td>76.063415</td>\n",
       "      <td>30.3</td>\n",
       "      <td>0.0</td>\n",
       "      <td>14000000.0</td>\n",
       "      <td>NaN</td>\n",
       "      <td>-0.91110</td>\n",
       "      <td>21.9599</td>\n",
       "      <td>214</td>\n",
       "    </tr>\n",
       "  </tbody>\n",
       "</table>\n",
       "</div>"
      ],
      "text/plain": [
       "      country  year   sex        age  population  foreign_exch_reserve  \\\n",
       "3359  Hungary  2004  male  75+ years      218145          1.596539e+10   \n",
       "3371  Hungary  2005  male  75+ years      222774          1.860283e+10   \n",
       "3383  Hungary  2006  male  75+ years      227029          2.158990e+10   \n",
       "3395  Hungary  2007  male  75+ years      230464          2.405221e+10   \n",
       "3407  Hungary  2008  male  75+ years      233660          3.387390e+10   \n",
       "3419  Hungary  2009  male  75+ years      236367          4.418129e+10   \n",
       "3431  Hungary  2010  male  75+ years      238269          4.498818e+10   \n",
       "3443  Hungary  2011  male  75+ years      239506          4.883192e+10   \n",
       "3455  Hungary  2012  male  75+ years      232766          4.467062e+10   \n",
       "3467  Hungary  2013  male  75+ years      234783          4.650801e+10   \n",
       "3479  Hungary  2014  male  75+ years      237767          4.201988e+10   \n",
       "3491  Hungary  2015  male  75+ years      241730          3.312429e+10   \n",
       "3503  Hungary  2016  male  75+ years      246437          2.582425e+10   \n",
       "\n",
       "      gpd_per_cap  unemployment  inflation_rate  life_length_expectancy  gini  \\\n",
       "3359  10285.79363        5.8321        6.744347               72.648780  29.9   \n",
       "3371  11200.57695        7.1885        3.561517               72.648780  34.7   \n",
       "3383  11475.82271        7.4939        3.930326               73.097561  28.3   \n",
       "3395  13918.96019        7.4059        7.958745               73.151220  27.9   \n",
       "3407  15753.47328        7.8170        6.042513               73.702439  27.5   \n",
       "3419  13046.48101       10.0304        4.211712               73.904878  27.0   \n",
       "3431  13113.52596       11.1719        4.855558               74.207317  29.4   \n",
       "3443  14150.96673       11.0291        3.929921               74.858537  29.2   \n",
       "3455  12918.24752       11.0030        5.652145               75.063415  30.8   \n",
       "3467  13687.24610       10.1765        1.733200               75.565854  31.5   \n",
       "3479  14246.10980        7.7253       -0.227566               75.763415  30.9   \n",
       "3491  12651.56834        6.8132       -0.061645               75.568293  30.4   \n",
       "3503  12992.37567        5.1149        0.394769               76.063415  30.3   \n",
       "\n",
       "      arms_export  arms_import  corruption_perception  temperature_jan  \\\n",
       "3359          0.0   72000000.0                   4.80         -2.64430   \n",
       "3371   82000000.0   13000000.0                   5.00         -0.34010   \n",
       "3383          0.0  253000000.0                   5.20         -3.62290   \n",
       "3395    9000000.0  196000000.0                   5.30          4.31832   \n",
       "3407          0.0    5000000.0                   5.10          1.13771   \n",
       "3419          0.0    4000000.0                   5.10         -1.82180   \n",
       "3431          0.0   18000000.0                   4.70         -1.99470   \n",
       "3443          0.0    9000000.0                   4.56         -0.52970   \n",
       "3455          0.0          0.0                   5.50          0.35506   \n",
       "3467   41000000.0    2000000.0                   5.40         -0.14050   \n",
       "3479          0.0    7000000.0                   5.40          2.49679   \n",
       "3491          0.0          0.0                   5.10          1.69768   \n",
       "3503          0.0   14000000.0                    NaN         -0.91110   \n",
       "\n",
       "      temperature_jul  suicides_no  \n",
       "3359          20.6158          262  \n",
       "3371          20.7935          269  \n",
       "3383          23.0103          204  \n",
       "3395          22.6641          252  \n",
       "3407          20.8987          263  \n",
       "3419          22.1221          214  \n",
       "3431          22.5314          242  \n",
       "3443          20.6215          200  \n",
       "3455          23.0977          233  \n",
       "3467          22.3515          201  \n",
       "3479          21.5702          179  \n",
       "3491          23.3558          221  \n",
       "3503          21.9599          214  "
      ]
     },
     "execution_count": 63,
     "metadata": {},
     "output_type": "execute_result"
    }
   ],
   "source": [
    "case_3503"
   ]
  },
  {
   "cell_type": "code",
   "execution_count": 64,
   "metadata": {},
   "outputs": [
    {
     "data": {
      "image/png": "[encoded data removed]",
      "text/plain": [
       "<Figure size 432x288 with 1 Axes>"
      ]
     },
     "metadata": {
      "needs_background": "light"
     },
     "output_type": "display_data"
    }
   ],
   "source": [
    "plt.scatter(case_3503['year'],case_3503['population'] ,color='greenyellow', marker='8',facecolor='yellowgreen')\n",
    "plt.xticks(list(range(2000,2017,2)))\n",
    "plt.axvline(2016,color='red')\n",
    "preds_lin = np.expm1(regr_vol_5.predict(X_valid))"
   ]
  },
  {
   "cell_type": "code",
   "execution_count": 71,
   "metadata": {},
   "outputs": [],
   "source": [
    "## add to scoreboard"
   ]
  },
  {
   "cell_type": "code",
   "execution_count": 67,
   "metadata": {},
   "outputs": [],
   "source": [
    "from sklearn.linear_model import Lasso, ElasticNet"
   ]
  },
  {
   "cell_type": "code",
   "execution_count": 68,
   "metadata": {},
   "outputs": [
    {
     "name": "stdout",
     "output_type": "stream",
     "text": [
      "('RMSE Train set: 260.94823139, RMSE Validation set: 271.85891589, '\n",
      " 'r² Train set: 0.61820082, r² Validation set:0.5974803,         '\n",
      " 'MAE Train set: 158.02820207, MAE Validation set: 163.60415407')\n"
     ]
    }
   ],
   "source": [
    "model_lasso = Lasso()\n",
    "model_lasso.fit(X_train, y_train)\n",
    "print_score(model_lasso,X_train, X_valid,y_train, y_valid)"
   ]
  },
  {
   "cell_type": "code",
   "execution_count": 69,
   "metadata": {},
   "outputs": [
    {
     "name": "stdout",
     "output_type": "stream",
     "text": [
      "('RMSE Train set: 281.42227657, RMSE Validation set: 290.28441233, '\n",
      " 'r² Train set: 0.5559384, r² Validation set:0.54106899,         '\n",
      " 'MAE Train set: 148.08318282, MAE Validation set: 152.96328844')\n"
     ]
    }
   ],
   "source": [
    "model_elastico = ElasticNet()\n",
    "model_elastico.fit(X_train, y_train)\n",
    "print_score(model_elastico,X_train, X_valid,y_train, y_valid)"
   ]
  },
  {
   "cell_type": "code",
   "execution_count": 70,
   "metadata": {},
   "outputs": [],
   "source": [
    "# Data set preparation time: 23 HOURS\n",
    "# Preprocessing and modeling: 29 HOURS"
   ]
  },
  {
   "cell_type": "code",
   "execution_count": null,
   "metadata": {},
   "outputs": [],
   "source": []
  }
 ],
 "metadata": {
  "kernelspec": {
   "display_name": "Python 3",
   "language": "python",
   "name": "python3"
  },
  "language_info": {
   "codemirror_mode": {
    "name": "ipython",
    "version": 3
   },
   "file_extension": ".py",
   "mimetype": "text/x-python",
   "name": "python",
   "nbconvert_exporter": "python",
   "pygments_lexer": "ipython3",
   "version": "3.7.6"
  }
 },
 "nbformat": 4,
 "nbformat_minor": 4
}
