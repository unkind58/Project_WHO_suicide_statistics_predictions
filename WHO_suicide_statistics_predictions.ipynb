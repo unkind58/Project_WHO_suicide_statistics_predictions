{
 "cells": [
  {
   "cell_type": "code",
   "execution_count": 1,
   "metadata": {},
   "outputs": [],
   "source": [
    "### To-Do list:\n",
    "# * Catboost for countries;\n",
    "# *\n",
    "#"
   ]
  },
  {
   "cell_type": "code",
   "execution_count": 2,
   "metadata": {},
   "outputs": [],
   "source": [
    "import math\n",
    "import pathlib\n",
    "import missingno\n",
    "import numpy as np\n",
    "import pandas as pd\n",
    "# import seaborn as sns\n",
    "import matplotlib.pyplot as plt\n",
    "from sklearn import linear_model\n",
    "from sklearn.impute import SimpleImputer\n",
    "from sklearn.tree import DecisionTreeRegressor\n",
    "from sklearn.ensemble import RandomForestRegressor\n",
    "from sklearn.neighbors import KNeighborsClassifier\n",
    "from sklearn.model_selection import train_test_split\n",
    "from sklearn.preprocessing import LabelEncoder, OneHotEncoder\n",
    "from sklearn.metrics import mean_absolute_error, r2_score, accuracy_score"
   ]
  },
  {
   "cell_type": "code",
   "execution_count": 3,
   "metadata": {},
   "outputs": [],
   "source": [
    "path_material = pathlib.Path('data\\\\raw_data.csv')"
   ]
  },
  {
   "cell_type": "code",
   "execution_count": 4,
   "metadata": {},
   "outputs": [],
   "source": [
    "df_raw = pd.read_csv(path_material, low_memory=False)"
   ]
  },
  {
   "cell_type": "code",
   "execution_count": 5,
   "metadata": {},
   "outputs": [
    {
     "data": {
      "text/html": [
       "<div>\n",
       "<style scoped>\n",
       "    .dataframe tbody tr th:only-of-type {\n",
       "        vertical-align: middle;\n",
       "    }\n",
       "\n",
       "    .dataframe tbody tr th {\n",
       "        vertical-align: top;\n",
       "    }\n",
       "\n",
       "    .dataframe thead th {\n",
       "        text-align: right;\n",
       "    }\n",
       "</style>\n",
       "<table border=\"1\" class=\"dataframe\">\n",
       "  <thead>\n",
       "    <tr style=\"text-align: right;\">\n",
       "      <th></th>\n",
       "      <th>year</th>\n",
       "      <th>population</th>\n",
       "      <th>foreign_exch_reserve</th>\n",
       "      <th>GPD_per_cap</th>\n",
       "      <th>Unemployment</th>\n",
       "      <th>Inflation_rate</th>\n",
       "      <th>Life_length_expectancy</th>\n",
       "      <th>GINI</th>\n",
       "      <th>ARMS_export</th>\n",
       "      <th>ARMS_import</th>\n",
       "      <th>Corruption_perception</th>\n",
       "      <th>Temperature_JAN</th>\n",
       "      <th>Temperature_JUL</th>\n",
       "      <th>suicides_no</th>\n",
       "    </tr>\n",
       "  </thead>\n",
       "  <tbody>\n",
       "    <tr>\n",
       "      <th>count</th>\n",
       "      <td>7248.000000</td>\n",
       "      <td>7.248000e+03</td>\n",
       "      <td>7.176000e+03</td>\n",
       "      <td>7248.000000</td>\n",
       "      <td>7092.000000</td>\n",
       "      <td>7248.000000</td>\n",
       "      <td>7248.000000</td>\n",
       "      <td>4656.000000</td>\n",
       "      <td>4.872000e+03</td>\n",
       "      <td>6.384000e+03</td>\n",
       "      <td>4764.000000</td>\n",
       "      <td>7248.000000</td>\n",
       "      <td>7248.000000</td>\n",
       "      <td>7248.000000</td>\n",
       "    </tr>\n",
       "    <tr>\n",
       "      <th>mean</th>\n",
       "      <td>2001.774834</td>\n",
       "      <td>1.743408e+06</td>\n",
       "      <td>3.469842e+10</td>\n",
       "      <td>26893.020251</td>\n",
       "      <td>8.820021</td>\n",
       "      <td>3.470996</td>\n",
       "      <td>77.562979</td>\n",
       "      <td>31.333763</td>\n",
       "      <td>6.209064e+08</td>\n",
       "      <td>2.277538e+08</td>\n",
       "      <td>21.985516</td>\n",
       "      <td>1.868540</td>\n",
       "      <td>19.271537</td>\n",
       "      <td>217.996551</td>\n",
       "    </tr>\n",
       "    <tr>\n",
       "      <th>std</th>\n",
       "      <td>10.055130</td>\n",
       "      <td>2.235278e+06</td>\n",
       "      <td>3.911449e+10</td>\n",
       "      <td>18015.963059</td>\n",
       "      <td>4.311936</td>\n",
       "      <td>3.911775</td>\n",
       "      <td>2.718098</td>\n",
       "      <td>3.608685</td>\n",
       "      <td>8.498247e+08</td>\n",
       "      <td>3.152652e+08</td>\n",
       "      <td>26.615663</td>\n",
       "      <td>5.127656</td>\n",
       "      <td>3.454063</td>\n",
       "      <td>425.938170</td>\n",
       "    </tr>\n",
       "    <tr>\n",
       "      <th>min</th>\n",
       "      <td>1979.000000</td>\n",
       "      <td>5.900000e+03</td>\n",
       "      <td>9.746575e+07</td>\n",
       "      <td>3861.948500</td>\n",
       "      <td>1.482400</td>\n",
       "      <td>-4.478103</td>\n",
       "      <td>70.865854</td>\n",
       "      <td>23.000000</td>\n",
       "      <td>0.000000e+00</td>\n",
       "      <td>0.000000e+00</td>\n",
       "      <td>3.330000</td>\n",
       "      <td>-16.194000</td>\n",
       "      <td>12.571100</td>\n",
       "      <td>0.000000</td>\n",
       "    </tr>\n",
       "    <tr>\n",
       "      <th>25%</th>\n",
       "      <td>1995.000000</td>\n",
       "      <td>3.024238e+05</td>\n",
       "      <td>6.400005e+09</td>\n",
       "      <td>13585.207562</td>\n",
       "      <td>5.856900</td>\n",
       "      <td>1.417741</td>\n",
       "      <td>75.475287</td>\n",
       "      <td>28.200000</td>\n",
       "      <td>2.500000e+07</td>\n",
       "      <td>2.400000e+07</td>\n",
       "      <td>6.100000</td>\n",
       "      <td>-1.093000</td>\n",
       "      <td>16.649850</td>\n",
       "      <td>9.000000</td>\n",
       "    </tr>\n",
       "    <tr>\n",
       "      <th>50%</th>\n",
       "      <td>2004.000000</td>\n",
       "      <td>7.447485e+05</td>\n",
       "      <td>2.160458e+10</td>\n",
       "      <td>23102.007735</td>\n",
       "      <td>7.865600</td>\n",
       "      <td>2.452733</td>\n",
       "      <td>77.636585</td>\n",
       "      <td>31.350000</td>\n",
       "      <td>2.080000e+08</td>\n",
       "      <td>1.045000e+08</td>\n",
       "      <td>8.000000</td>\n",
       "      <td>2.732625</td>\n",
       "      <td>18.887950</td>\n",
       "      <td>63.000000</td>\n",
       "    </tr>\n",
       "    <tr>\n",
       "      <th>75%</th>\n",
       "      <td>2010.000000</td>\n",
       "      <td>2.538383e+06</td>\n",
       "      <td>4.807903e+10</td>\n",
       "      <td>35575.159547</td>\n",
       "      <td>10.554500</td>\n",
       "      <td>4.053958</td>\n",
       "      <td>79.793293</td>\n",
       "      <td>34.300000</td>\n",
       "      <td>9.510000e+08</td>\n",
       "      <td>2.865000e+08</td>\n",
       "      <td>42.000000</td>\n",
       "      <td>5.044645</td>\n",
       "      <td>21.743575</td>\n",
       "      <td>214.000000</td>\n",
       "    </tr>\n",
       "    <tr>\n",
       "      <th>max</th>\n",
       "      <td>2016.000000</td>\n",
       "      <td>1.314881e+07</td>\n",
       "      <td>2.490000e+11</td>\n",
       "      <td>118823.648400</td>\n",
       "      <td>27.466200</td>\n",
       "      <td>24.506067</td>\n",
       "      <td>83.229268</td>\n",
       "      <td>39.000000</td>\n",
       "      <td>4.037000e+09</td>\n",
       "      <td>2.167000e+09</td>\n",
       "      <td>92.000000</td>\n",
       "      <td>22.723500</td>\n",
       "      <td>29.786000</td>\n",
       "      <td>3427.000000</td>\n",
       "    </tr>\n",
       "  </tbody>\n",
       "</table>\n",
       "</div>"
      ],
      "text/plain": [
       "              year    population  foreign_exch_reserve    GPD_per_cap  \\\n",
       "count  7248.000000  7.248000e+03          7.176000e+03    7248.000000   \n",
       "mean   2001.774834  1.743408e+06          3.469842e+10   26893.020251   \n",
       "std      10.055130  2.235278e+06          3.911449e+10   18015.963059   \n",
       "min    1979.000000  5.900000e+03          9.746575e+07    3861.948500   \n",
       "25%    1995.000000  3.024238e+05          6.400005e+09   13585.207562   \n",
       "50%    2004.000000  7.447485e+05          2.160458e+10   23102.007735   \n",
       "75%    2010.000000  2.538383e+06          4.807903e+10   35575.159547   \n",
       "max    2016.000000  1.314881e+07          2.490000e+11  118823.648400   \n",
       "\n",
       "       Unemployment  Inflation_rate  Life_length_expectancy         GINI  \\\n",
       "count   7092.000000     7248.000000             7248.000000  4656.000000   \n",
       "mean       8.820021        3.470996               77.562979    31.333763   \n",
       "std        4.311936        3.911775                2.718098     3.608685   \n",
       "min        1.482400       -4.478103               70.865854    23.000000   \n",
       "25%        5.856900        1.417741               75.475287    28.200000   \n",
       "50%        7.865600        2.452733               77.636585    31.350000   \n",
       "75%       10.554500        4.053958               79.793293    34.300000   \n",
       "max       27.466200       24.506067               83.229268    39.000000   \n",
       "\n",
       "        ARMS_export   ARMS_import  Corruption_perception  Temperature_JAN  \\\n",
       "count  4.872000e+03  6.384000e+03            4764.000000      7248.000000   \n",
       "mean   6.209064e+08  2.277538e+08              21.985516         1.868540   \n",
       "std    8.498247e+08  3.152652e+08              26.615663         5.127656   \n",
       "min    0.000000e+00  0.000000e+00               3.330000       -16.194000   \n",
       "25%    2.500000e+07  2.400000e+07               6.100000        -1.093000   \n",
       "50%    2.080000e+08  1.045000e+08               8.000000         2.732625   \n",
       "75%    9.510000e+08  2.865000e+08              42.000000         5.044645   \n",
       "max    4.037000e+09  2.167000e+09              92.000000        22.723500   \n",
       "\n",
       "       Temperature_JUL  suicides_no  \n",
       "count      7248.000000  7248.000000  \n",
       "mean         19.271537   217.996551  \n",
       "std           3.454063   425.938170  \n",
       "min          12.571100     0.000000  \n",
       "25%          16.649850     9.000000  \n",
       "50%          18.887950    63.000000  \n",
       "75%          21.743575   214.000000  \n",
       "max          29.786000  3427.000000  "
      ]
     },
     "execution_count": 5,
     "metadata": {},
     "output_type": "execute_result"
    }
   ],
   "source": [
    "df_raw.describe()"
   ]
  },
  {
   "cell_type": "markdown",
   "metadata": {},
   "source": [
    "Define function to change all titles to lower cases along with substituting and dropping several uncommon characters."
   ]
  },
  {
   "cell_type": "code",
   "execution_count": 6,
   "metadata": {},
   "outputs": [],
   "source": [
    "def refactor_titles(df: pd.DataFrame, sub_chars=[' ','-',':'], drop_chars=['(',')','[',']']) -> list:\n",
    "    '''\n",
    "    Function generalizes all column titles, i.e. lowers all cases, makes characters \n",
    "    substitution from one input list and drops characters from another input list.\n",
    "    (1) df --> DataFrame which columns function should transform;\n",
    "    (2) sub_chars --> characters to substitute with '_';\n",
    "    (3) drop_chars --> characters to drop;\n",
    "    Returns list with new column titles.\n",
    "    '''\n",
    "    list_columns = [item.lower() for item in (df.columns.tolist())]   \n",
    "    for sub_char in sub_chars:\n",
    "        counter_sub = 0\n",
    "        for i in range(len(list_columns)):\n",
    "            if sub_char in list_columns[i]:\n",
    "                counter_sub += 1\n",
    "                list_columns[i] = list_columns[i].replace(sub_char, '_')\n",
    "            else:\n",
    "                continue\n",
    "        print(f'Substituotion of \"{sub_char}\" occured {counter_sub} times.')\n",
    "    for drop_char in drop_chars:\n",
    "        counter_drop = 0\n",
    "        for i in range(len(list_columns)):\n",
    "            if drop_char in list_columns[i]:\n",
    "                list_columns[i] = list_columns[i].replace(drop_char, '') \n",
    "            else:\n",
    "                continue\n",
    "            print(f'Drop of \"{drop_char}\" occured {counter_drop} times.')              \n",
    "    return list_columns"
   ]
  },
  {
   "cell_type": "markdown",
   "metadata": {},
   "source": [
    "Initialize **refactor_titles()** function on the DataFrame's columns"
   ]
  },
  {
   "cell_type": "code",
   "execution_count": 7,
   "metadata": {},
   "outputs": [
    {
     "name": "stdout",
     "output_type": "stream",
     "text": [
      "Substituotion of \" \" occured 0 times.\n",
      "Substituotion of \"-\" occured 0 times.\n",
      "Substituotion of \":\" occured 0 times.\n"
     ]
    }
   ],
   "source": [
    "df_raw.columns = refactor_titles(df_raw)"
   ]
  },
  {
   "cell_type": "markdown",
   "metadata": {},
   "source": [
    "After 2012 Corruption perception evaluation changes from range 10 to range 100.\n",
    "In order to generalize column, all values after 2012 will be divided by 10."
   ]
  },
  {
   "cell_type": "code",
   "execution_count": 8,
   "metadata": {
    "scrolled": false
   },
   "outputs": [],
   "source": [
    "df_raw['corruption_perception'] = df_raw['corruption_perception'].apply(lambda x: x/10 if x > 10 else x)"
   ]
  },
  {
   "cell_type": "markdown",
   "metadata": {},
   "source": [
    "Check the DataFrame for null-values."
   ]
  },
  {
   "cell_type": "code",
   "execution_count": 9,
   "metadata": {},
   "outputs": [
    {
     "name": "stdout",
     "output_type": "stream",
     "text": [
      "<class 'pandas.core.frame.DataFrame'>\n",
      "RangeIndex: 7248 entries, 0 to 7247\n",
      "Data columns (total 17 columns):\n",
      " #   Column                  Non-Null Count  Dtype  \n",
      "---  ------                  --------------  -----  \n",
      " 0   country                 7248 non-null   object \n",
      " 1   year                    7248 non-null   int64  \n",
      " 2   sex                     7248 non-null   object \n",
      " 3   age                     7248 non-null   object \n",
      " 4   population              7248 non-null   int64  \n",
      " 5   foreign_exch_reserve    7176 non-null   float64\n",
      " 6   gpd_per_cap             7248 non-null   float64\n",
      " 7   unemployment            7092 non-null   float64\n",
      " 8   inflation_rate          7248 non-null   float64\n",
      " 9   life_length_expectancy  7248 non-null   float64\n",
      " 10  gini                    4656 non-null   float64\n",
      " 11  arms_export             4872 non-null   float64\n",
      " 12  arms_import             6384 non-null   float64\n",
      " 13  corruption_perception   4764 non-null   float64\n",
      " 14  temperature_jan         7248 non-null   float64\n",
      " 15  temperature_jul         7248 non-null   float64\n",
      " 16  suicides_no             7248 non-null   int64  \n",
      "dtypes: float64(11), int64(3), object(3)\n",
      "memory usage: 962.8+ KB\n"
     ]
    }
   ],
   "source": [
    "df_raw.info()"
   ]
  },
  {
   "cell_type": "markdown",
   "metadata": {},
   "source": [
    "All empty values in both ARMS import and ARMS export columns will be filled with '0', as these countries didn't participate neither in ARMS import nor in ARMS export."
   ]
  },
  {
   "cell_type": "code",
   "execution_count": 10,
   "metadata": {},
   "outputs": [],
   "source": [
    "df_raw['arms_import'].fillna(0, inplace=True)\n",
    "df_raw['arms_export'].fillna(0, inplace=True)"
   ]
  },
  {
   "cell_type": "markdown",
   "metadata": {},
   "source": [
    "Derive column names containing at least one NaN value, put them into list and assign to variable."
   ]
  },
  {
   "cell_type": "code",
   "execution_count": 11,
   "metadata": {},
   "outputs": [],
   "source": [
    "columns_nan_list = df_raw.columns[df_raw.isna().any()].tolist()"
   ]
  },
  {
   "cell_type": "markdown",
   "metadata": {},
   "source": [
    "Define function to attach country names where NaN appeared and return dictionary with countries."
   ]
  },
  {
   "cell_type": "code",
   "execution_count": 12,
   "metadata": {},
   "outputs": [],
   "source": [
    "def nan_columns_by_country(columns_nan_list: list,) -> dict:\n",
    "    set_of_nan = {}\n",
    "    for column in columns_nan_list:\n",
    "        set_of_nan[column] = list(set(df_raw[df_raw[column].isnull()]['country']))\n",
    "    for key, value in sorted(set_of_nan.items()):\n",
    "        print(f'* {key}: {len([item for item in value if item])} countries with at least one NaN.')\n",
    "    return set_of_nan"
   ]
  },
  {
   "cell_type": "markdown",
   "metadata": {},
   "source": [
    "Initialize function **nan_columns_by_country()**."
   ]
  },
  {
   "cell_type": "code",
   "execution_count": 13,
   "metadata": {},
   "outputs": [
    {
     "name": "stdout",
     "output_type": "stream",
     "text": [
      "* corruption_perception: 22 countries with at least one NaN.\n",
      "* foreign_exch_reserve: 1 countries with at least one NaN.\n",
      "* gini: 16 countries with at least one NaN.\n",
      "* unemployment: 4 countries with at least one NaN.\n"
     ]
    }
   ],
   "source": [
    "columns_nan_list = nan_columns_by_country(columns_nan_list)"
   ]
  },
  {
   "cell_type": "markdown",
   "metadata": {},
   "source": [
    "Function returns 4 columns: foreign_exch_reserve | unemployment | gini | corruption_perception.\n",
    "Let's take 'foreign_exch_reserve' & 'unemployment' as only several countries have missing values."
   ]
  },
  {
   "cell_type": "code",
   "execution_count": 14,
   "metadata": {},
   "outputs": [
    {
     "name": "stdout",
     "output_type": "stream",
     "text": [
      "['Luxembourg']\n",
      "['Luxembourg', 'Ireland', 'Netherlands', 'Italy']\n"
     ]
    }
   ],
   "source": [
    "fer_list = columns_nan_list['foreign_exch_reserve']; print(fer_list)\n",
    "unemployment_list = columns_nan_list['unemployment']; print(unemployment_list)"
   ]
  },
  {
   "cell_type": "markdown",
   "metadata": {},
   "source": [
    "Define function to fill NaN values using .fillna() with 'backfill' method."
   ]
  },
  {
   "cell_type": "code",
   "execution_count": 15,
   "metadata": {},
   "outputs": [],
   "source": [
    "def backfilling_nan_by_country(df: pd.DataFrame,nan_list: list, column_df: str):\n",
    "    for country in nan_list:\n",
    "        mask = df['country'] == country\n",
    "        df.loc[mask,column_df] = df.loc[mask,column_df].fillna(method='backfill')"
   ]
  },
  {
   "cell_type": "markdown",
   "metadata": {},
   "source": [
    "Fill 'unemployment' column."
   ]
  },
  {
   "cell_type": "code",
   "execution_count": 16,
   "metadata": {},
   "outputs": [],
   "source": [
    "backfilling_nan_by_country(df_raw,unemployment_list,'unemployment')"
   ]
  },
  {
   "cell_type": "markdown",
   "metadata": {},
   "source": [
    "Fill 'foreign_exch_reserve' column."
   ]
  },
  {
   "cell_type": "code",
   "execution_count": 17,
   "metadata": {},
   "outputs": [],
   "source": [
    "backfilling_nan_by_country(df_raw,fer_list,'foreign_exch_reserve')"
   ]
  },
  {
   "cell_type": "markdown",
   "metadata": {},
   "source": [
    "Missing values function"
   ]
  },
  {
   "cell_type": "code",
   "execution_count": 18,
   "metadata": {},
   "outputs": [],
   "source": [
    "def missing_values(df: pd.DataFrame):\n",
    "    '''\n",
    "    Prints each DataFrame's column name and count of NaN which were found in it.\n",
    "    Returns a chart bar with each feature non-NaN value count.\n",
    "    '''\n",
    "    for column in df.columns[df.isnull().any(axis=0)]:\n",
    "        print(f'Column \"{column}\" has {df[column].isnull().sum()} missing values.')\n",
    "    return missingno.bar(df)"
   ]
  },
  {
   "cell_type": "code",
   "execution_count": 19,
   "metadata": {},
   "outputs": [
    {
     "name": "stdout",
     "output_type": "stream",
     "text": [
      "Column \"gini\" has 2592 missing values.\n",
      "Column \"corruption_perception\" has 2484 missing values.\n"
     ]
    },
    {
     "data": {
      "text/plain": [
       "<AxesSubplot:>"
      ]
     },
     "execution_count": 19,
     "metadata": {},
     "output_type": "execute_result"
    },
    {
     "data": {
      "image/png": "[encoded data removed]",
      "text/plain": [
       "<Figure size 1728x720 with 3 Axes>"
      ]
     },
     "metadata": {
      "needs_background": "light"
     },
     "output_type": "display_data"
    }
   ],
   "source": [
    "missing_values(df_raw)"
   ]
  },
  {
   "cell_type": "markdown",
   "metadata": {},
   "source": [
    "'gini' and 'corruption_perception' columns still remain with NaN, but next let's deal with binary cordinality columns categorization to implement LabelEncoder()."
   ]
  },
  {
   "cell_type": "code",
   "execution_count": 20,
   "metadata": {},
   "outputs": [
    {
     "data": {
      "text/plain": [
       "['sex']"
      ]
     },
     "execution_count": 20,
     "metadata": {},
     "output_type": "execute_result"
    }
   ],
   "source": [
    "binary_cardinality_cols = [col_name for col_name in df_raw.columns if df_raw[col_name].nunique() < 3 and \n",
    "                                                                   df_raw[col_name].dtype == 'object']\n",
    "binary_cardinality_cols"
   ]
  },
  {
   "cell_type": "markdown",
   "metadata": {},
   "source": [
    "Next action is Label Encoding for binary cardinality rows."
   ]
  },
  {
   "cell_type": "code",
   "execution_count": 21,
   "metadata": {},
   "outputs": [],
   "source": [
    "label_df_raw = df_raw.copy()\n",
    "label_encoder = LabelEncoder()\n",
    "for col in binary_cardinality_cols:\n",
    "    label_df_raw[col] = label_encoder.fit_transform(df_raw[col])"
   ]
  },
  {
   "cell_type": "code",
   "execution_count": 22,
   "metadata": {},
   "outputs": [
    {
     "data": {
      "text/html": [
       "<div>\n",
       "<style scoped>\n",
       "    .dataframe tbody tr th:only-of-type {\n",
       "        vertical-align: middle;\n",
       "    }\n",
       "\n",
       "    .dataframe tbody tr th {\n",
       "        vertical-align: top;\n",
       "    }\n",
       "\n",
       "    .dataframe thead th {\n",
       "        text-align: right;\n",
       "    }\n",
       "</style>\n",
       "<table border=\"1\" class=\"dataframe\">\n",
       "  <thead>\n",
       "    <tr style=\"text-align: right;\">\n",
       "      <th></th>\n",
       "      <th>country</th>\n",
       "      <th>year</th>\n",
       "      <th>sex</th>\n",
       "      <th>age</th>\n",
       "      <th>population</th>\n",
       "      <th>foreign_exch_reserve</th>\n",
       "      <th>gpd_per_cap</th>\n",
       "      <th>unemployment</th>\n",
       "      <th>inflation_rate</th>\n",
       "      <th>life_length_expectancy</th>\n",
       "      <th>gini</th>\n",
       "      <th>arms_export</th>\n",
       "      <th>arms_import</th>\n",
       "      <th>corruption_perception</th>\n",
       "      <th>temperature_jan</th>\n",
       "      <th>temperature_jul</th>\n",
       "      <th>suicides_no</th>\n",
       "    </tr>\n",
       "  </thead>\n",
       "  <tbody>\n",
       "    <tr>\n",
       "      <th>0</th>\n",
       "      <td>Austria</td>\n",
       "      <td>1995</td>\n",
       "      <td>0</td>\n",
       "      <td>15-24 years</td>\n",
       "      <td>495368</td>\n",
       "      <td>2.336874e+10</td>\n",
       "      <td>30325.84958</td>\n",
       "      <td>4.3473</td>\n",
       "      <td>2.243367</td>\n",
       "      <td>76.668293</td>\n",
       "      <td>31.1</td>\n",
       "      <td>0.0</td>\n",
       "      <td>24000000.0</td>\n",
       "      <td>NaN</td>\n",
       "      <td>-3.3684</td>\n",
       "      <td>18.3665</td>\n",
       "      <td>19</td>\n",
       "    </tr>\n",
       "    <tr>\n",
       "      <th>1</th>\n",
       "      <td>Austria</td>\n",
       "      <td>1995</td>\n",
       "      <td>0</td>\n",
       "      <td>25-34 years</td>\n",
       "      <td>678262</td>\n",
       "      <td>2.336874e+10</td>\n",
       "      <td>30325.84958</td>\n",
       "      <td>4.3473</td>\n",
       "      <td>2.243367</td>\n",
       "      <td>76.668293</td>\n",
       "      <td>31.1</td>\n",
       "      <td>0.0</td>\n",
       "      <td>24000000.0</td>\n",
       "      <td>NaN</td>\n",
       "      <td>-3.3684</td>\n",
       "      <td>18.3665</td>\n",
       "      <td>59</td>\n",
       "    </tr>\n",
       "    <tr>\n",
       "      <th>2</th>\n",
       "      <td>Austria</td>\n",
       "      <td>1995</td>\n",
       "      <td>0</td>\n",
       "      <td>35-54 years</td>\n",
       "      <td>1065630</td>\n",
       "      <td>2.336874e+10</td>\n",
       "      <td>30325.84958</td>\n",
       "      <td>4.3473</td>\n",
       "      <td>2.243367</td>\n",
       "      <td>76.668293</td>\n",
       "      <td>31.1</td>\n",
       "      <td>0.0</td>\n",
       "      <td>24000000.0</td>\n",
       "      <td>NaN</td>\n",
       "      <td>-3.3684</td>\n",
       "      <td>18.3665</td>\n",
       "      <td>136</td>\n",
       "    </tr>\n",
       "    <tr>\n",
       "      <th>3</th>\n",
       "      <td>Austria</td>\n",
       "      <td>1995</td>\n",
       "      <td>0</td>\n",
       "      <td>5-14 years</td>\n",
       "      <td>460945</td>\n",
       "      <td>2.336874e+10</td>\n",
       "      <td>30325.84958</td>\n",
       "      <td>4.3473</td>\n",
       "      <td>2.243367</td>\n",
       "      <td>76.668293</td>\n",
       "      <td>31.1</td>\n",
       "      <td>0.0</td>\n",
       "      <td>24000000.0</td>\n",
       "      <td>NaN</td>\n",
       "      <td>-3.3684</td>\n",
       "      <td>18.3665</td>\n",
       "      <td>0</td>\n",
       "    </tr>\n",
       "    <tr>\n",
       "      <th>4</th>\n",
       "      <td>Austria</td>\n",
       "      <td>1995</td>\n",
       "      <td>0</td>\n",
       "      <td>55-74 years</td>\n",
       "      <td>843210</td>\n",
       "      <td>2.336874e+10</td>\n",
       "      <td>30325.84958</td>\n",
       "      <td>4.3473</td>\n",
       "      <td>2.243367</td>\n",
       "      <td>76.668293</td>\n",
       "      <td>31.1</td>\n",
       "      <td>0.0</td>\n",
       "      <td>24000000.0</td>\n",
       "      <td>NaN</td>\n",
       "      <td>-3.3684</td>\n",
       "      <td>18.3665</td>\n",
       "      <td>141</td>\n",
       "    </tr>\n",
       "    <tr>\n",
       "      <th>5</th>\n",
       "      <td>Austria</td>\n",
       "      <td>1995</td>\n",
       "      <td>0</td>\n",
       "      <td>75+ years</td>\n",
       "      <td>341098</td>\n",
       "      <td>2.336874e+10</td>\n",
       "      <td>30325.84958</td>\n",
       "      <td>4.3473</td>\n",
       "      <td>2.243367</td>\n",
       "      <td>76.668293</td>\n",
       "      <td>31.1</td>\n",
       "      <td>0.0</td>\n",
       "      <td>24000000.0</td>\n",
       "      <td>NaN</td>\n",
       "      <td>-3.3684</td>\n",
       "      <td>18.3665</td>\n",
       "      <td>100</td>\n",
       "    </tr>\n",
       "    <tr>\n",
       "      <th>6</th>\n",
       "      <td>Austria</td>\n",
       "      <td>1995</td>\n",
       "      <td>1</td>\n",
       "      <td>15-24 years</td>\n",
       "      <td>509262</td>\n",
       "      <td>2.336874e+10</td>\n",
       "      <td>30325.84958</td>\n",
       "      <td>4.3473</td>\n",
       "      <td>2.243367</td>\n",
       "      <td>76.668293</td>\n",
       "      <td>31.1</td>\n",
       "      <td>0.0</td>\n",
       "      <td>24000000.0</td>\n",
       "      <td>NaN</td>\n",
       "      <td>-3.3684</td>\n",
       "      <td>18.3665</td>\n",
       "      <td>134</td>\n",
       "    </tr>\n",
       "    <tr>\n",
       "      <th>7</th>\n",
       "      <td>Austria</td>\n",
       "      <td>1995</td>\n",
       "      <td>1</td>\n",
       "      <td>25-34 years</td>\n",
       "      <td>707468</td>\n",
       "      <td>2.336874e+10</td>\n",
       "      <td>30325.84958</td>\n",
       "      <td>4.3473</td>\n",
       "      <td>2.243367</td>\n",
       "      <td>76.668293</td>\n",
       "      <td>31.1</td>\n",
       "      <td>0.0</td>\n",
       "      <td>24000000.0</td>\n",
       "      <td>NaN</td>\n",
       "      <td>-3.3684</td>\n",
       "      <td>18.3665</td>\n",
       "      <td>237</td>\n",
       "    </tr>\n",
       "    <tr>\n",
       "      <th>8</th>\n",
       "      <td>Austria</td>\n",
       "      <td>1995</td>\n",
       "      <td>1</td>\n",
       "      <td>35-54 years</td>\n",
       "      <td>1074328</td>\n",
       "      <td>2.336874e+10</td>\n",
       "      <td>30325.84958</td>\n",
       "      <td>4.3473</td>\n",
       "      <td>2.243367</td>\n",
       "      <td>76.668293</td>\n",
       "      <td>31.1</td>\n",
       "      <td>0.0</td>\n",
       "      <td>24000000.0</td>\n",
       "      <td>NaN</td>\n",
       "      <td>-3.3684</td>\n",
       "      <td>18.3665</td>\n",
       "      <td>437</td>\n",
       "    </tr>\n",
       "    <tr>\n",
       "      <th>9</th>\n",
       "      <td>Austria</td>\n",
       "      <td>1995</td>\n",
       "      <td>1</td>\n",
       "      <td>5-14 years</td>\n",
       "      <td>483644</td>\n",
       "      <td>2.336874e+10</td>\n",
       "      <td>30325.84958</td>\n",
       "      <td>4.3473</td>\n",
       "      <td>2.243367</td>\n",
       "      <td>76.668293</td>\n",
       "      <td>31.1</td>\n",
       "      <td>0.0</td>\n",
       "      <td>24000000.0</td>\n",
       "      <td>NaN</td>\n",
       "      <td>-3.3684</td>\n",
       "      <td>18.3665</td>\n",
       "      <td>8</td>\n",
       "    </tr>\n",
       "    <tr>\n",
       "      <th>10</th>\n",
       "      <td>Austria</td>\n",
       "      <td>1995</td>\n",
       "      <td>1</td>\n",
       "      <td>55-74 years</td>\n",
       "      <td>670553</td>\n",
       "      <td>2.336874e+10</td>\n",
       "      <td>30325.84958</td>\n",
       "      <td>4.3473</td>\n",
       "      <td>2.243367</td>\n",
       "      <td>76.668293</td>\n",
       "      <td>31.1</td>\n",
       "      <td>0.0</td>\n",
       "      <td>24000000.0</td>\n",
       "      <td>NaN</td>\n",
       "      <td>-3.3684</td>\n",
       "      <td>18.3665</td>\n",
       "      <td>333</td>\n",
       "    </tr>\n",
       "    <tr>\n",
       "      <th>11</th>\n",
       "      <td>Austria</td>\n",
       "      <td>1995</td>\n",
       "      <td>1</td>\n",
       "      <td>75+ years</td>\n",
       "      <td>147262</td>\n",
       "      <td>2.336874e+10</td>\n",
       "      <td>30325.84958</td>\n",
       "      <td>4.3473</td>\n",
       "      <td>2.243367</td>\n",
       "      <td>76.668293</td>\n",
       "      <td>31.1</td>\n",
       "      <td>0.0</td>\n",
       "      <td>24000000.0</td>\n",
       "      <td>NaN</td>\n",
       "      <td>-3.3684</td>\n",
       "      <td>18.3665</td>\n",
       "      <td>184</td>\n",
       "    </tr>\n",
       "  </tbody>\n",
       "</table>\n",
       "</div>"
      ],
      "text/plain": [
       "    country  year  sex          age  population  foreign_exch_reserve  \\\n",
       "0   Austria  1995    0  15-24 years      495368          2.336874e+10   \n",
       "1   Austria  1995    0  25-34 years      678262          2.336874e+10   \n",
       "2   Austria  1995    0  35-54 years     1065630          2.336874e+10   \n",
       "3   Austria  1995    0   5-14 years      460945          2.336874e+10   \n",
       "4   Austria  1995    0  55-74 years      843210          2.336874e+10   \n",
       "5   Austria  1995    0    75+ years      341098          2.336874e+10   \n",
       "6   Austria  1995    1  15-24 years      509262          2.336874e+10   \n",
       "7   Austria  1995    1  25-34 years      707468          2.336874e+10   \n",
       "8   Austria  1995    1  35-54 years     1074328          2.336874e+10   \n",
       "9   Austria  1995    1   5-14 years      483644          2.336874e+10   \n",
       "10  Austria  1995    1  55-74 years      670553          2.336874e+10   \n",
       "11  Austria  1995    1    75+ years      147262          2.336874e+10   \n",
       "\n",
       "    gpd_per_cap  unemployment  inflation_rate  life_length_expectancy  gini  \\\n",
       "0   30325.84958        4.3473        2.243367               76.668293  31.1   \n",
       "1   30325.84958        4.3473        2.243367               76.668293  31.1   \n",
       "2   30325.84958        4.3473        2.243367               76.668293  31.1   \n",
       "3   30325.84958        4.3473        2.243367               76.668293  31.1   \n",
       "4   30325.84958        4.3473        2.243367               76.668293  31.1   \n",
       "5   30325.84958        4.3473        2.243367               76.668293  31.1   \n",
       "6   30325.84958        4.3473        2.243367               76.668293  31.1   \n",
       "7   30325.84958        4.3473        2.243367               76.668293  31.1   \n",
       "8   30325.84958        4.3473        2.243367               76.668293  31.1   \n",
       "9   30325.84958        4.3473        2.243367               76.668293  31.1   \n",
       "10  30325.84958        4.3473        2.243367               76.668293  31.1   \n",
       "11  30325.84958        4.3473        2.243367               76.668293  31.1   \n",
       "\n",
       "    arms_export  arms_import  corruption_perception  temperature_jan  \\\n",
       "0           0.0   24000000.0                    NaN          -3.3684   \n",
       "1           0.0   24000000.0                    NaN          -3.3684   \n",
       "2           0.0   24000000.0                    NaN          -3.3684   \n",
       "3           0.0   24000000.0                    NaN          -3.3684   \n",
       "4           0.0   24000000.0                    NaN          -3.3684   \n",
       "5           0.0   24000000.0                    NaN          -3.3684   \n",
       "6           0.0   24000000.0                    NaN          -3.3684   \n",
       "7           0.0   24000000.0                    NaN          -3.3684   \n",
       "8           0.0   24000000.0                    NaN          -3.3684   \n",
       "9           0.0   24000000.0                    NaN          -3.3684   \n",
       "10          0.0   24000000.0                    NaN          -3.3684   \n",
       "11          0.0   24000000.0                    NaN          -3.3684   \n",
       "\n",
       "    temperature_jul  suicides_no  \n",
       "0           18.3665           19  \n",
       "1           18.3665           59  \n",
       "2           18.3665          136  \n",
       "3           18.3665            0  \n",
       "4           18.3665          141  \n",
       "5           18.3665          100  \n",
       "6           18.3665          134  \n",
       "7           18.3665          237  \n",
       "8           18.3665          437  \n",
       "9           18.3665            8  \n",
       "10          18.3665          333  \n",
       "11          18.3665          184  "
      ]
     },
     "execution_count": 22,
     "metadata": {},
     "output_type": "execute_result"
    }
   ],
   "source": [
    "label_df_raw.head(12)"
   ]
  },
  {
   "cell_type": "markdown",
   "metadata": {},
   "source": [
    "After binary cardinality will check low cardinality columns.\n",
    "Maximum number of unique values is 15"
   ]
  },
  {
   "cell_type": "code",
   "execution_count": 23,
   "metadata": {},
   "outputs": [
    {
     "data": {
      "text/plain": [
       "['age']"
      ]
     },
     "execution_count": 23,
     "metadata": {},
     "output_type": "execute_result"
    }
   ],
   "source": [
    "low_cardinality_cols = [col_name for col_name in df_raw.columns if 2 < df_raw[col_name].nunique() < 16 and \n",
    "                                                                   df_raw[col_name].dtype == 'object']\n",
    "low_cardinality_cols"
   ]
  },
  {
   "cell_type": "markdown",
   "metadata": {},
   "source": [
    "Import One-Hot-Encoder and reform low cardinality columns."
   ]
  },
  {
   "cell_type": "code",
   "execution_count": 24,
   "metadata": {},
   "outputs": [],
   "source": [
    "\n",
    "\n",
    "OH_encoder = OneHotEncoder(handle_unknown='ignore', sparse=False) # Apply one-hot encoder to each column with categorical data\n",
    "OH_cols_df = pd.DataFrame(OH_encoder.fit_transform(df_raw[low_cardinality_cols]))\n",
    "\n",
    "OH_cols_df.index = df_raw.index # One-hot encoding removed index; put it back\n",
    "OH_cols_df.rename(columns = {0: '15-24 years',\n",
    "                             1: '25-34 years',\n",
    "                             2: '35-54 years',\n",
    "                             3: '5-14 years',\n",
    "                             4: '55-74 years',\n",
    "                             5: '75+ years'}, inplace=True)\n",
    "\n",
    "num_df = label_df_raw.drop(low_cardinality_cols, axis=1) # Remove categorical columns (will replace with one-hot encoding)\n",
    "OH_df = pd.concat([num_df,OH_cols_df], axis=1) # Add one-hot encoded columns to numerical features"
   ]
  },
  {
   "cell_type": "code",
   "execution_count": 25,
   "metadata": {},
   "outputs": [
    {
     "data": {
      "text/html": [
       "<div>\n",
       "<style scoped>\n",
       "    .dataframe tbody tr th:only-of-type {\n",
       "        vertical-align: middle;\n",
       "    }\n",
       "\n",
       "    .dataframe tbody tr th {\n",
       "        vertical-align: top;\n",
       "    }\n",
       "\n",
       "    .dataframe thead th {\n",
       "        text-align: right;\n",
       "    }\n",
       "</style>\n",
       "<table border=\"1\" class=\"dataframe\">\n",
       "  <thead>\n",
       "    <tr style=\"text-align: right;\">\n",
       "      <th></th>\n",
       "      <th>country</th>\n",
       "      <th>year</th>\n",
       "      <th>sex</th>\n",
       "      <th>population</th>\n",
       "      <th>foreign_exch_reserve</th>\n",
       "      <th>gpd_per_cap</th>\n",
       "      <th>unemployment</th>\n",
       "      <th>inflation_rate</th>\n",
       "      <th>life_length_expectancy</th>\n",
       "      <th>gini</th>\n",
       "      <th>...</th>\n",
       "      <th>corruption_perception</th>\n",
       "      <th>temperature_jan</th>\n",
       "      <th>temperature_jul</th>\n",
       "      <th>suicides_no</th>\n",
       "      <th>15-24 years</th>\n",
       "      <th>25-34 years</th>\n",
       "      <th>35-54 years</th>\n",
       "      <th>5-14 years</th>\n",
       "      <th>55-74 years</th>\n",
       "      <th>75+ years</th>\n",
       "    </tr>\n",
       "  </thead>\n",
       "  <tbody>\n",
       "    <tr>\n",
       "      <th>0</th>\n",
       "      <td>Austria</td>\n",
       "      <td>1995</td>\n",
       "      <td>0</td>\n",
       "      <td>495368</td>\n",
       "      <td>2.336874e+10</td>\n",
       "      <td>30325.84958</td>\n",
       "      <td>4.3473</td>\n",
       "      <td>2.243367</td>\n",
       "      <td>76.668293</td>\n",
       "      <td>31.1</td>\n",
       "      <td>...</td>\n",
       "      <td>NaN</td>\n",
       "      <td>-3.36840</td>\n",
       "      <td>18.3665</td>\n",
       "      <td>19</td>\n",
       "      <td>1.0</td>\n",
       "      <td>0.0</td>\n",
       "      <td>0.0</td>\n",
       "      <td>0.0</td>\n",
       "      <td>0.0</td>\n",
       "      <td>0.0</td>\n",
       "    </tr>\n",
       "    <tr>\n",
       "      <th>1</th>\n",
       "      <td>Austria</td>\n",
       "      <td>1995</td>\n",
       "      <td>0</td>\n",
       "      <td>678262</td>\n",
       "      <td>2.336874e+10</td>\n",
       "      <td>30325.84958</td>\n",
       "      <td>4.3473</td>\n",
       "      <td>2.243367</td>\n",
       "      <td>76.668293</td>\n",
       "      <td>31.1</td>\n",
       "      <td>...</td>\n",
       "      <td>NaN</td>\n",
       "      <td>-3.36840</td>\n",
       "      <td>18.3665</td>\n",
       "      <td>59</td>\n",
       "      <td>0.0</td>\n",
       "      <td>1.0</td>\n",
       "      <td>0.0</td>\n",
       "      <td>0.0</td>\n",
       "      <td>0.0</td>\n",
       "      <td>0.0</td>\n",
       "    </tr>\n",
       "    <tr>\n",
       "      <th>2</th>\n",
       "      <td>Austria</td>\n",
       "      <td>1995</td>\n",
       "      <td>0</td>\n",
       "      <td>1065630</td>\n",
       "      <td>2.336874e+10</td>\n",
       "      <td>30325.84958</td>\n",
       "      <td>4.3473</td>\n",
       "      <td>2.243367</td>\n",
       "      <td>76.668293</td>\n",
       "      <td>31.1</td>\n",
       "      <td>...</td>\n",
       "      <td>NaN</td>\n",
       "      <td>-3.36840</td>\n",
       "      <td>18.3665</td>\n",
       "      <td>136</td>\n",
       "      <td>0.0</td>\n",
       "      <td>0.0</td>\n",
       "      <td>1.0</td>\n",
       "      <td>0.0</td>\n",
       "      <td>0.0</td>\n",
       "      <td>0.0</td>\n",
       "    </tr>\n",
       "    <tr>\n",
       "      <th>3</th>\n",
       "      <td>Austria</td>\n",
       "      <td>1995</td>\n",
       "      <td>0</td>\n",
       "      <td>460945</td>\n",
       "      <td>2.336874e+10</td>\n",
       "      <td>30325.84958</td>\n",
       "      <td>4.3473</td>\n",
       "      <td>2.243367</td>\n",
       "      <td>76.668293</td>\n",
       "      <td>31.1</td>\n",
       "      <td>...</td>\n",
       "      <td>NaN</td>\n",
       "      <td>-3.36840</td>\n",
       "      <td>18.3665</td>\n",
       "      <td>0</td>\n",
       "      <td>0.0</td>\n",
       "      <td>0.0</td>\n",
       "      <td>0.0</td>\n",
       "      <td>1.0</td>\n",
       "      <td>0.0</td>\n",
       "      <td>0.0</td>\n",
       "    </tr>\n",
       "    <tr>\n",
       "      <th>4</th>\n",
       "      <td>Austria</td>\n",
       "      <td>1995</td>\n",
       "      <td>0</td>\n",
       "      <td>843210</td>\n",
       "      <td>2.336874e+10</td>\n",
       "      <td>30325.84958</td>\n",
       "      <td>4.3473</td>\n",
       "      <td>2.243367</td>\n",
       "      <td>76.668293</td>\n",
       "      <td>31.1</td>\n",
       "      <td>...</td>\n",
       "      <td>NaN</td>\n",
       "      <td>-3.36840</td>\n",
       "      <td>18.3665</td>\n",
       "      <td>141</td>\n",
       "      <td>0.0</td>\n",
       "      <td>0.0</td>\n",
       "      <td>0.0</td>\n",
       "      <td>0.0</td>\n",
       "      <td>1.0</td>\n",
       "      <td>0.0</td>\n",
       "    </tr>\n",
       "    <tr>\n",
       "      <th>...</th>\n",
       "      <td>...</td>\n",
       "      <td>...</td>\n",
       "      <td>...</td>\n",
       "      <td>...</td>\n",
       "      <td>...</td>\n",
       "      <td>...</td>\n",
       "      <td>...</td>\n",
       "      <td>...</td>\n",
       "      <td>...</td>\n",
       "      <td>...</td>\n",
       "      <td>...</td>\n",
       "      <td>...</td>\n",
       "      <td>...</td>\n",
       "      <td>...</td>\n",
       "      <td>...</td>\n",
       "      <td>...</td>\n",
       "      <td>...</td>\n",
       "      <td>...</td>\n",
       "      <td>...</td>\n",
       "      <td>...</td>\n",
       "      <td>...</td>\n",
       "    </tr>\n",
       "    <tr>\n",
       "      <th>7243</th>\n",
       "      <td>United Kingdom</td>\n",
       "      <td>2015</td>\n",
       "      <td>1</td>\n",
       "      <td>4408293</td>\n",
       "      <td>1.480000e+11</td>\n",
       "      <td>44974.83188</td>\n",
       "      <td>5.3003</td>\n",
       "      <td>0.368047</td>\n",
       "      <td>80.956098</td>\n",
       "      <td>33.2</td>\n",
       "      <td>...</td>\n",
       "      <td>8.1</td>\n",
       "      <td>3.87941</td>\n",
       "      <td>14.5338</td>\n",
       "      <td>596</td>\n",
       "      <td>0.0</td>\n",
       "      <td>1.0</td>\n",
       "      <td>0.0</td>\n",
       "      <td>0.0</td>\n",
       "      <td>0.0</td>\n",
       "      <td>0.0</td>\n",
       "    </tr>\n",
       "    <tr>\n",
       "      <th>7244</th>\n",
       "      <td>United Kingdom</td>\n",
       "      <td>2015</td>\n",
       "      <td>1</td>\n",
       "      <td>8692440</td>\n",
       "      <td>1.480000e+11</td>\n",
       "      <td>44974.83188</td>\n",
       "      <td>5.3003</td>\n",
       "      <td>0.368047</td>\n",
       "      <td>80.956098</td>\n",
       "      <td>33.2</td>\n",
       "      <td>...</td>\n",
       "      <td>8.1</td>\n",
       "      <td>3.87941</td>\n",
       "      <td>14.5338</td>\n",
       "      <td>1579</td>\n",
       "      <td>0.0</td>\n",
       "      <td>0.0</td>\n",
       "      <td>1.0</td>\n",
       "      <td>0.0</td>\n",
       "      <td>0.0</td>\n",
       "      <td>0.0</td>\n",
       "    </tr>\n",
       "    <tr>\n",
       "      <th>7245</th>\n",
       "      <td>United Kingdom</td>\n",
       "      <td>2015</td>\n",
       "      <td>1</td>\n",
       "      <td>3840476</td>\n",
       "      <td>1.480000e+11</td>\n",
       "      <td>44974.83188</td>\n",
       "      <td>5.3003</td>\n",
       "      <td>0.368047</td>\n",
       "      <td>80.956098</td>\n",
       "      <td>33.2</td>\n",
       "      <td>...</td>\n",
       "      <td>8.1</td>\n",
       "      <td>3.87941</td>\n",
       "      <td>14.5338</td>\n",
       "      <td>4</td>\n",
       "      <td>0.0</td>\n",
       "      <td>0.0</td>\n",
       "      <td>0.0</td>\n",
       "      <td>1.0</td>\n",
       "      <td>0.0</td>\n",
       "      <td>0.0</td>\n",
       "    </tr>\n",
       "    <tr>\n",
       "      <th>7246</th>\n",
       "      <td>United Kingdom</td>\n",
       "      <td>2015</td>\n",
       "      <td>1</td>\n",
       "      <td>6716557</td>\n",
       "      <td>1.480000e+11</td>\n",
       "      <td>44974.83188</td>\n",
       "      <td>5.3003</td>\n",
       "      <td>0.368047</td>\n",
       "      <td>80.956098</td>\n",
       "      <td>33.2</td>\n",
       "      <td>...</td>\n",
       "      <td>8.1</td>\n",
       "      <td>3.87941</td>\n",
       "      <td>14.5338</td>\n",
       "      <td>906</td>\n",
       "      <td>0.0</td>\n",
       "      <td>0.0</td>\n",
       "      <td>0.0</td>\n",
       "      <td>0.0</td>\n",
       "      <td>1.0</td>\n",
       "      <td>0.0</td>\n",
       "    </tr>\n",
       "    <tr>\n",
       "      <th>7247</th>\n",
       "      <td>United Kingdom</td>\n",
       "      <td>2015</td>\n",
       "      <td>1</td>\n",
       "      <td>2200958</td>\n",
       "      <td>1.480000e+11</td>\n",
       "      <td>44974.83188</td>\n",
       "      <td>5.3003</td>\n",
       "      <td>0.368047</td>\n",
       "      <td>80.956098</td>\n",
       "      <td>33.2</td>\n",
       "      <td>...</td>\n",
       "      <td>8.1</td>\n",
       "      <td>3.87941</td>\n",
       "      <td>14.5338</td>\n",
       "      <td>273</td>\n",
       "      <td>0.0</td>\n",
       "      <td>0.0</td>\n",
       "      <td>0.0</td>\n",
       "      <td>0.0</td>\n",
       "      <td>0.0</td>\n",
       "      <td>1.0</td>\n",
       "    </tr>\n",
       "  </tbody>\n",
       "</table>\n",
       "<p>7248 rows × 22 columns</p>\n",
       "</div>"
      ],
      "text/plain": [
       "             country  year  sex  population  foreign_exch_reserve  \\\n",
       "0            Austria  1995    0      495368          2.336874e+10   \n",
       "1            Austria  1995    0      678262          2.336874e+10   \n",
       "2            Austria  1995    0     1065630          2.336874e+10   \n",
       "3            Austria  1995    0      460945          2.336874e+10   \n",
       "4            Austria  1995    0      843210          2.336874e+10   \n",
       "...              ...   ...  ...         ...                   ...   \n",
       "7243  United Kingdom  2015    1     4408293          1.480000e+11   \n",
       "7244  United Kingdom  2015    1     8692440          1.480000e+11   \n",
       "7245  United Kingdom  2015    1     3840476          1.480000e+11   \n",
       "7246  United Kingdom  2015    1     6716557          1.480000e+11   \n",
       "7247  United Kingdom  2015    1     2200958          1.480000e+11   \n",
       "\n",
       "      gpd_per_cap  unemployment  inflation_rate  life_length_expectancy  gini  \\\n",
       "0     30325.84958        4.3473        2.243367               76.668293  31.1   \n",
       "1     30325.84958        4.3473        2.243367               76.668293  31.1   \n",
       "2     30325.84958        4.3473        2.243367               76.668293  31.1   \n",
       "3     30325.84958        4.3473        2.243367               76.668293  31.1   \n",
       "4     30325.84958        4.3473        2.243367               76.668293  31.1   \n",
       "...           ...           ...             ...                     ...   ...   \n",
       "7243  44974.83188        5.3003        0.368047               80.956098  33.2   \n",
       "7244  44974.83188        5.3003        0.368047               80.956098  33.2   \n",
       "7245  44974.83188        5.3003        0.368047               80.956098  33.2   \n",
       "7246  44974.83188        5.3003        0.368047               80.956098  33.2   \n",
       "7247  44974.83188        5.3003        0.368047               80.956098  33.2   \n",
       "\n",
       "      ...  corruption_perception  temperature_jan  temperature_jul  \\\n",
       "0     ...                    NaN         -3.36840          18.3665   \n",
       "1     ...                    NaN         -3.36840          18.3665   \n",
       "2     ...                    NaN         -3.36840          18.3665   \n",
       "3     ...                    NaN         -3.36840          18.3665   \n",
       "4     ...                    NaN         -3.36840          18.3665   \n",
       "...   ...                    ...              ...              ...   \n",
       "7243  ...                    8.1          3.87941          14.5338   \n",
       "7244  ...                    8.1          3.87941          14.5338   \n",
       "7245  ...                    8.1          3.87941          14.5338   \n",
       "7246  ...                    8.1          3.87941          14.5338   \n",
       "7247  ...                    8.1          3.87941          14.5338   \n",
       "\n",
       "      suicides_no  15-24 years  25-34 years  35-54 years  5-14 years  \\\n",
       "0              19          1.0          0.0          0.0         0.0   \n",
       "1              59          0.0          1.0          0.0         0.0   \n",
       "2             136          0.0          0.0          1.0         0.0   \n",
       "3               0          0.0          0.0          0.0         1.0   \n",
       "4             141          0.0          0.0          0.0         0.0   \n",
       "...           ...          ...          ...          ...         ...   \n",
       "7243          596          0.0          1.0          0.0         0.0   \n",
       "7244         1579          0.0          0.0          1.0         0.0   \n",
       "7245            4          0.0          0.0          0.0         1.0   \n",
       "7246          906          0.0          0.0          0.0         0.0   \n",
       "7247          273          0.0          0.0          0.0         0.0   \n",
       "\n",
       "      55-74 years  75+ years  \n",
       "0             0.0        0.0  \n",
       "1             0.0        0.0  \n",
       "2             0.0        0.0  \n",
       "3             0.0        0.0  \n",
       "4             1.0        0.0  \n",
       "...           ...        ...  \n",
       "7243          0.0        0.0  \n",
       "7244          0.0        0.0  \n",
       "7245          0.0        0.0  \n",
       "7246          1.0        0.0  \n",
       "7247          0.0        1.0  \n",
       "\n",
       "[7248 rows x 22 columns]"
      ]
     },
     "execution_count": 25,
     "metadata": {},
     "output_type": "execute_result"
    }
   ],
   "source": [
    "OH_df"
   ]
  },
  {
   "cell_type": "code",
   "execution_count": 26,
   "metadata": {},
   "outputs": [],
   "source": [
    "# print(df_raw.groupby('country').size().sort_values(ascending=False))"
   ]
  },
  {
   "cell_type": "markdown",
   "metadata": {},
   "source": [
    "Divide all data into test as 20% and train as 80%."
   ]
  },
  {
   "cell_type": "code",
   "execution_count": 27,
   "metadata": {},
   "outputs": [
    {
     "name": "stdout",
     "output_type": "stream",
     "text": [
      "0.7908388520971302\n"
     ]
    }
   ],
   "source": [
    "msk = np.random.rand(len(df_raw)) < 0.8 # 1 time (!!)\n",
    "print(len(df_raw[msk])/len(df_raw))"
   ]
  },
  {
   "cell_type": "markdown",
   "metadata": {},
   "source": [
    "Initialize two DataFrames according to previuos separation."
   ]
  },
  {
   "cell_type": "code",
   "execution_count": 28,
   "metadata": {},
   "outputs": [],
   "source": [
    "train = OH_df[msk]\n",
    "test = OH_df[~msk]"
   ]
  },
  {
   "cell_type": "markdown",
   "metadata": {},
   "source": [
    "Split train DataFrame into *X* and *y*."
   ]
  },
  {
   "cell_type": "code",
   "execution_count": 29,
   "metadata": {},
   "outputs": [],
   "source": [
    "X,y = train.drop(columns=['suicides_no']), train['suicides_no']\n",
    "X_test,y_test = test.drop(columns=['suicides_no']), test['suicides_no']"
   ]
  },
  {
   "cell_type": "markdown",
   "metadata": {},
   "source": [
    "Split X and y into *test* and *validation*."
   ]
  },
  {
   "cell_type": "code",
   "execution_count": 30,
   "metadata": {},
   "outputs": [
    {
     "name": "stdout",
     "output_type": "stream",
     "text": [
      "Train set: (4299, 21) (4299,)\n",
      "Validation set: (1433, 21) (1433,)\n"
     ]
    }
   ],
   "source": [
    "X_train, X_valid, y_train, y_valid = train_test_split(X,y,test_size=0.25, random_state=58)\n",
    "print ('Train set:', X_train.shape,  y_train.shape)\n",
    "print ('Validation set:', X_valid.shape,  y_valid.shape)"
   ]
  },
  {
   "cell_type": "markdown",
   "metadata": {},
   "source": [
    "Impute the remaining two columns: *gini* and *corruption_perception*.\n",
    "Restore columns names and indexes. Dropping *country* column."
   ]
  },
  {
   "cell_type": "code",
   "execution_count": 31,
   "metadata": {},
   "outputs": [],
   "source": [
    "features = X_train.columns[1:]\n",
    "\n",
    "my_imputer = SimpleImputer(strategy='mean')\n",
    "imputed_X_train = pd.DataFrame(my_imputer.fit_transform(X_train[features]))\n",
    "imputed_X_valid = pd.DataFrame(my_imputer.transform(X_valid[features]))\n",
    "imputed_X_test = pd.DataFrame(my_imputer.transform(X_test[features]))\n",
    "\n",
    "imputed_X_train.columns = X_train[features].columns\n",
    "imputed_X_valid.columns = X_valid[features].columns\n",
    "imputed_X_test.columns = X_test[features].columns\n",
    "\n",
    "imputed_X_train.index = X_train[features].index\n",
    "imputed_X_valid.index = X_valid[features].index\n",
    "imputed_X_test.index = X_test[features].index"
   ]
  },
  {
   "cell_type": "markdown",
   "metadata": {},
   "source": [
    "Form a dictionary for a DataFrame columns with less PC memory consuming data types."
   ]
  },
  {
   "cell_type": "code",
   "execution_count": 32,
   "metadata": {},
   "outputs": [],
   "source": [
    "formats = {'sex': 'int8','15-24 years': 'int8',\n",
    "           '25-34 years': 'int8','35-54 years': 'int8',\n",
    "           '5-14 years': 'int8','55-74 years': 'int8',\n",
    "           '75+ years': 'int8', 'year': 'int32'}"
   ]
  },
  {
   "cell_type": "code",
   "execution_count": 33,
   "metadata": {},
   "outputs": [
    {
     "data": {
      "text/html": [
       "<div>\n",
       "<style scoped>\n",
       "    .dataframe tbody tr th:only-of-type {\n",
       "        vertical-align: middle;\n",
       "    }\n",
       "\n",
       "    .dataframe tbody tr th {\n",
       "        vertical-align: top;\n",
       "    }\n",
       "\n",
       "    .dataframe thead th {\n",
       "        text-align: right;\n",
       "    }\n",
       "</style>\n",
       "<table border=\"1\" class=\"dataframe\">\n",
       "  <thead>\n",
       "    <tr style=\"text-align: right;\">\n",
       "      <th></th>\n",
       "      <th>country</th>\n",
       "      <th>year</th>\n",
       "      <th>sex</th>\n",
       "      <th>population</th>\n",
       "      <th>foreign_exch_reserve</th>\n",
       "      <th>gpd_per_cap</th>\n",
       "      <th>unemployment</th>\n",
       "      <th>inflation_rate</th>\n",
       "      <th>life_length_expectancy</th>\n",
       "      <th>gini</th>\n",
       "      <th>...</th>\n",
       "      <th>arms_import</th>\n",
       "      <th>corruption_perception</th>\n",
       "      <th>temperature_jan</th>\n",
       "      <th>temperature_jul</th>\n",
       "      <th>15-24 years</th>\n",
       "      <th>25-34 years</th>\n",
       "      <th>35-54 years</th>\n",
       "      <th>5-14 years</th>\n",
       "      <th>55-74 years</th>\n",
       "      <th>75+ years</th>\n",
       "    </tr>\n",
       "  </thead>\n",
       "  <tbody>\n",
       "    <tr>\n",
       "      <th>2473</th>\n",
       "      <td>France</td>\n",
       "      <td>1981</td>\n",
       "      <td>0</td>\n",
       "      <td>4202900</td>\n",
       "      <td>5.479813e+10</td>\n",
       "      <td>11104.97773</td>\n",
       "      <td>7.5400</td>\n",
       "      <td>13.314406</td>\n",
       "      <td>74.300000</td>\n",
       "      <td>NaN</td>\n",
       "      <td>...</td>\n",
       "      <td>101000000.0</td>\n",
       "      <td>NaN</td>\n",
       "      <td>2.99642</td>\n",
       "      <td>17.4276</td>\n",
       "      <td>0.0</td>\n",
       "      <td>1.0</td>\n",
       "      <td>0.0</td>\n",
       "      <td>0.0</td>\n",
       "      <td>0.0</td>\n",
       "      <td>0.0</td>\n",
       "    </tr>\n",
       "    <tr>\n",
       "      <th>6549</th>\n",
       "      <td>Sweden</td>\n",
       "      <td>1995</td>\n",
       "      <td>1</td>\n",
       "      <td>549300</td>\n",
       "      <td>2.586976e+10</td>\n",
       "      <td>30282.96392</td>\n",
       "      <td>8.8974</td>\n",
       "      <td>2.455149</td>\n",
       "      <td>78.740488</td>\n",
       "      <td>25.2</td>\n",
       "      <td>...</td>\n",
       "      <td>95000000.0</td>\n",
       "      <td>NaN</td>\n",
       "      <td>-7.45580</td>\n",
       "      <td>12.9997</td>\n",
       "      <td>0.0</td>\n",
       "      <td>0.0</td>\n",
       "      <td>0.0</td>\n",
       "      <td>1.0</td>\n",
       "      <td>0.0</td>\n",
       "      <td>0.0</td>\n",
       "    </tr>\n",
       "  </tbody>\n",
       "</table>\n",
       "<p>2 rows × 21 columns</p>\n",
       "</div>"
      ],
      "text/plain": [
       "     country  year  sex  population  foreign_exch_reserve  gpd_per_cap  \\\n",
       "2473  France  1981    0     4202900          5.479813e+10  11104.97773   \n",
       "6549  Sweden  1995    1      549300          2.586976e+10  30282.96392   \n",
       "\n",
       "      unemployment  inflation_rate  life_length_expectancy  gini  ...  \\\n",
       "2473        7.5400       13.314406               74.300000   NaN  ...   \n",
       "6549        8.8974        2.455149               78.740488  25.2  ...   \n",
       "\n",
       "      arms_import  corruption_perception  temperature_jan  temperature_jul  \\\n",
       "2473  101000000.0                    NaN          2.99642          17.4276   \n",
       "6549   95000000.0                    NaN         -7.45580          12.9997   \n",
       "\n",
       "      15-24 years  25-34 years  35-54 years  5-14 years  55-74 years  \\\n",
       "2473          0.0          1.0          0.0         0.0          0.0   \n",
       "6549          0.0          0.0          0.0         1.0          0.0   \n",
       "\n",
       "      75+ years  \n",
       "2473        0.0  \n",
       "6549        0.0  \n",
       "\n",
       "[2 rows x 21 columns]"
      ]
     },
     "execution_count": 33,
     "metadata": {},
     "output_type": "execute_result"
    }
   ],
   "source": [
    "X_train[:2] ### BEFORE ALL PRE-PROCESSING"
   ]
  },
  {
   "cell_type": "markdown",
   "metadata": {},
   "source": [
    "Construct final train/validation/test DataFrames."
   ]
  },
  {
   "cell_type": "code",
   "execution_count": 34,
   "metadata": {},
   "outputs": [],
   "source": [
    "X_train = imputed_X_train.copy().astype(formats)\n",
    "X_valid = imputed_X_valid.copy().astype(formats)\n",
    "X_test = imputed_X_test.copy().astype(formats)"
   ]
  },
  {
   "cell_type": "code",
   "execution_count": 35,
   "metadata": {},
   "outputs": [
    {
     "data": {
      "text/html": [
       "<div>\n",
       "<style scoped>\n",
       "    .dataframe tbody tr th:only-of-type {\n",
       "        vertical-align: middle;\n",
       "    }\n",
       "\n",
       "    .dataframe tbody tr th {\n",
       "        vertical-align: top;\n",
       "    }\n",
       "\n",
       "    .dataframe thead th {\n",
       "        text-align: right;\n",
       "    }\n",
       "</style>\n",
       "<table border=\"1\" class=\"dataframe\">\n",
       "  <thead>\n",
       "    <tr style=\"text-align: right;\">\n",
       "      <th></th>\n",
       "      <th>year</th>\n",
       "      <th>sex</th>\n",
       "      <th>population</th>\n",
       "      <th>foreign_exch_reserve</th>\n",
       "      <th>gpd_per_cap</th>\n",
       "      <th>unemployment</th>\n",
       "      <th>inflation_rate</th>\n",
       "      <th>life_length_expectancy</th>\n",
       "      <th>gini</th>\n",
       "      <th>arms_export</th>\n",
       "      <th>arms_import</th>\n",
       "      <th>corruption_perception</th>\n",
       "      <th>temperature_jan</th>\n",
       "      <th>temperature_jul</th>\n",
       "      <th>15-24 years</th>\n",
       "      <th>25-34 years</th>\n",
       "      <th>35-54 years</th>\n",
       "      <th>5-14 years</th>\n",
       "      <th>55-74 years</th>\n",
       "      <th>75+ years</th>\n",
       "    </tr>\n",
       "  </thead>\n",
       "  <tbody>\n",
       "    <tr>\n",
       "      <th>2473</th>\n",
       "      <td>1981</td>\n",
       "      <td>0</td>\n",
       "      <td>4202900.0</td>\n",
       "      <td>5.479813e+10</td>\n",
       "      <td>11104.97773</td>\n",
       "      <td>7.5400</td>\n",
       "      <td>13.314406</td>\n",
       "      <td>74.300000</td>\n",
       "      <td>31.31459</td>\n",
       "      <td>3.786000e+09</td>\n",
       "      <td>101000000.0</td>\n",
       "      <td>6.761025</td>\n",
       "      <td>2.99642</td>\n",
       "      <td>17.4276</td>\n",
       "      <td>0</td>\n",
       "      <td>1</td>\n",
       "      <td>0</td>\n",
       "      <td>0</td>\n",
       "      <td>0</td>\n",
       "      <td>0</td>\n",
       "    </tr>\n",
       "    <tr>\n",
       "      <th>6549</th>\n",
       "      <td>1995</td>\n",
       "      <td>1</td>\n",
       "      <td>549300.0</td>\n",
       "      <td>2.586976e+10</td>\n",
       "      <td>30282.96392</td>\n",
       "      <td>8.8974</td>\n",
       "      <td>2.455149</td>\n",
       "      <td>78.740488</td>\n",
       "      <td>25.20000</td>\n",
       "      <td>1.960000e+08</td>\n",
       "      <td>95000000.0</td>\n",
       "      <td>6.761025</td>\n",
       "      <td>-7.45580</td>\n",
       "      <td>12.9997</td>\n",
       "      <td>0</td>\n",
       "      <td>0</td>\n",
       "      <td>0</td>\n",
       "      <td>1</td>\n",
       "      <td>0</td>\n",
       "      <td>0</td>\n",
       "    </tr>\n",
       "  </tbody>\n",
       "</table>\n",
       "</div>"
      ],
      "text/plain": [
       "      year  sex  population  foreign_exch_reserve  gpd_per_cap  unemployment  \\\n",
       "2473  1981    0   4202900.0          5.479813e+10  11104.97773        7.5400   \n",
       "6549  1995    1    549300.0          2.586976e+10  30282.96392        8.8974   \n",
       "\n",
       "      inflation_rate  life_length_expectancy      gini   arms_export  \\\n",
       "2473       13.314406               74.300000  31.31459  3.786000e+09   \n",
       "6549        2.455149               78.740488  25.20000  1.960000e+08   \n",
       "\n",
       "      arms_import  corruption_perception  temperature_jan  temperature_jul  \\\n",
       "2473  101000000.0               6.761025          2.99642          17.4276   \n",
       "6549   95000000.0               6.761025         -7.45580          12.9997   \n",
       "\n",
       "      15-24 years  25-34 years  35-54 years  5-14 years  55-74 years  \\\n",
       "2473            0            1            0           0            0   \n",
       "6549            0            0            0           1            0   \n",
       "\n",
       "      75+ years  \n",
       "2473          0  \n",
       "6549          0  "
      ]
     },
     "execution_count": 35,
     "metadata": {},
     "output_type": "execute_result"
    }
   ],
   "source": [
    "X_train[:2] ### AFTER ALL PRE-PROCESSING"
   ]
  },
  {
   "cell_type": "markdown",
   "metadata": {},
   "source": [
    "Final check for train/validation/test set shapes."
   ]
  },
  {
   "cell_type": "code",
   "execution_count": 36,
   "metadata": {},
   "outputs": [
    {
     "name": "stdout",
     "output_type": "stream",
     "text": [
      "Train set: (4299, 20) (4299,)\n",
      "Validation set: (1433, 20) (1433,)\n",
      "Test set: (1516, 20) (1516,)\n"
     ]
    }
   ],
   "source": [
    "print ('Train set:', X_train.shape,  y_train.shape)\n",
    "print ('Validation set:', X_valid.shape,  y_valid.shape)\n",
    "print ('Test set:', X_test.shape,  y_test.shape)"
   ]
  },
  {
   "cell_type": "markdown",
   "metadata": {},
   "source": [
    "Function for computing RMSE."
   ]
  },
  {
   "cell_type": "code",
   "execution_count": 37,
   "metadata": {},
   "outputs": [],
   "source": [
    "def rmse(x,y): return math.sqrt(((x-y)**2).mean())"
   ]
  },
  {
   "cell_type": "markdown",
   "metadata": {},
   "source": [
    "Function for computing and printing model scores."
   ]
  },
  {
   "cell_type": "code",
   "execution_count": 38,
   "metadata": {},
   "outputs": [],
   "source": [
    "def print_score(m):\n",
    "    res = [rmse(m.predict(X_train), y_train),\n",
    "           rmse(m.predict(X_valid), y_valid),\n",
    "           m.score(X_train, y_train), m.score(X_valid, y_valid)]\n",
    "    if hasattr(m, 'oob_score_'): res.append(m.oob_score_)\n",
    "    print(res) # *[training rmse, validation rmse, r² for training set, r² for validation set, oob_score_]"
   ]
  },
  {
   "cell_type": "markdown",
   "metadata": {},
   "source": [
    "### Random Forest model"
   ]
  },
  {
   "cell_type": "code",
   "execution_count": 39,
   "metadata": {},
   "outputs": [],
   "source": [
    "# forest_model = RandomForestRegressor(n_jobs=-1, random_state=58)\n",
    "# forest_model.fit(X_train, y_train)\n",
    "# valid_preds = forest_model.predict(X_valid)\n",
    "# print(mean_absolute_error(y_valid,valid_preds))\n",
    "# print(\"R2-score Random forest: %.6f\" % r2_score(y_valid,valid_preds))"
   ]
  },
  {
   "cell_type": "markdown",
   "metadata": {},
   "source": [
    "Random Forest model."
   ]
  },
  {
   "cell_type": "code",
   "execution_count": 40,
   "metadata": {},
   "outputs": [
    {
     "name": "stdout",
     "output_type": "stream",
     "text": [
      "[39.55436311758273, 118.83347745799279, 0.9909995959632092, 0.9229633678493814, 0.9338584922171829]\n"
     ]
    }
   ],
   "source": [
    "forest_model = RandomForestRegressor(n_jobs=-1, random_state=58,oob_score=True) # m = RandomForestRegressor()\n",
    "forest_model.fit(X_train, y_train)   # m.fit(X_train, y_train)\n",
    "print_score(forest_model)"
   ]
  },
  {
   "cell_type": "markdown",
   "metadata": {},
   "source": [
    "### Linear Regression model"
   ]
  },
  {
   "cell_type": "code",
   "execution_count": 41,
   "metadata": {},
   "outputs": [
    {
     "name": "stdout",
     "output_type": "stream",
     "text": [
      "[261.69287655743557, 264.19910219683715, 0.6060355670346727, 0.6192127917078754]\n"
     ]
    }
   ],
   "source": [
    "regr = linear_model.LinearRegression()\n",
    "regr.fit(X_train, y_train)\n",
    "print_score(regr)"
   ]
  },
  {
   "cell_type": "markdown",
   "metadata": {},
   "source": [
    "Linear Regression Coefficients and Intercept value along with column names."
   ]
  },
  {
   "cell_type": "code",
   "execution_count": 42,
   "metadata": {},
   "outputs": [
    {
     "name": "stdout",
     "output_type": "stream",
     "text": [
      "Coefficients:  [-6.63194595e-01  2.15398020e+02  1.17714477e-04 -9.30601981e-12\n",
      "  1.02717058e-03  9.60327848e-01 -6.58940618e+00 -1.52872547e+01\n",
      " -8.49276109e+00  6.63844521e-08 -9.81094725e-08 -3.85542179e+00\n",
      " -3.34636273e+00  7.13766078e+00 -8.50569084e+01 -2.22197925e+01\n",
      "  9.32958260e+01 -1.58471943e+02  8.84576207e+01  8.39951973e+01]\n",
      "\n",
      "Intercept:  2557.9468598534254\n",
      "\n",
      "Column names: ['year', 'sex', 'population', 'foreign_exch_reserve', 'gpd_per_cap', 'unemployment', 'inflation_rate', 'life_length_expectancy', 'gini', 'arms_export', 'arms_import', 'corruption_perception', 'temperature_jan', 'temperature_jul', '15-24 years', '25-34 years', '35-54 years', '5-14 years', '55-74 years', '75+ years']\n"
     ]
    }
   ],
   "source": [
    "print ('Coefficients: ', regr.coef_)\n",
    "print()\n",
    "print ('Intercept: ',regr.intercept_)\n",
    "print()\n",
    "print(f'Column names: {list(X_train.columns)}')"
   ]
  },
  {
   "cell_type": "markdown",
   "metadata": {},
   "source": [
    "### DecisionTreeRegressor model"
   ]
  },
  {
   "cell_type": "markdown",
   "metadata": {},
   "source": [
    "Function for finding MAE score."
   ]
  },
  {
   "cell_type": "code",
   "execution_count": 43,
   "metadata": {},
   "outputs": [],
   "source": [
    "def get_mae(max_leaf_nodes, train_X, val_X,train_y, val_y): \n",
    "    model = DecisionTreeRegressor(max_leaf_nodes=max_leaf_nodes, random_state=58)\n",
    "    model.fit(train_X, train_y)\n",
    "    preds_val = model.predict(val_X)\n",
    "    mae = mean_absolute_error(val_y, preds_val)\n",
    "    return(mae)"
   ]
  },
  {
   "cell_type": "markdown",
   "metadata": {},
   "source": [
    "Loop in order to find best 'max_leaf_nodes' parameter's argument."
   ]
  },
  {
   "cell_type": "code",
   "execution_count": 44,
   "metadata": {},
   "outputs": [
    {
     "name": "stdout",
     "output_type": "stream",
     "text": [
      "Max leaf nodes: 5  \t\t Mean Absolute Error:151\n",
      "Max leaf nodes: 50  \t\t Mean Absolute Error:78\n",
      "Max leaf nodes: 250  \t\t Mean Absolute Error:53\n",
      "Max leaf nodes: 350  \t\t Mean Absolute Error:51\n",
      "Max leaf nodes: 500  \t\t Mean Absolute Error:50\n"
     ]
    }
   ],
   "source": [
    "for max_leaf_nodes in [5, 50, 250, 350, 500]:\n",
    "    my_mae = get_mae(max_leaf_nodes, X_train, X_valid,y_train, y_valid)\n",
    "    print(\"Max leaf nodes: %d  \\t\\t Mean Absolute Error:%d\" %(max_leaf_nodes, my_mae))"
   ]
  },
  {
   "cell_type": "markdown",
   "metadata": {},
   "source": [
    "DecisionTreeRegressor model and score."
   ]
  },
  {
   "cell_type": "code",
   "execution_count": 45,
   "metadata": {},
   "outputs": [
    {
     "name": "stdout",
     "output_type": "stream",
     "text": [
      "[25.576250487740626, 155.5512262874473, 0.9962368895373344, 0.868002242124594]\n"
     ]
    }
   ],
   "source": [
    "model = DecisionTreeRegressor(max_leaf_nodes=350, random_state=58, max_features=0.5)\n",
    "model.fit(X_train, y_train)\n",
    "print_score(model)"
   ]
  },
  {
   "cell_type": "markdown",
   "metadata": {},
   "source": [
    "### K-Nearest Neighbors model"
   ]
  },
  {
   "cell_type": "markdown",
   "metadata": {},
   "source": [
    "Loop to find K value for the model comparing error rate."
   ]
  },
  {
   "cell_type": "code",
   "execution_count": 46,
   "metadata": {},
   "outputs": [
    {
     "name": "stdout",
     "output_type": "stream",
     "text": [
      "Minimum error:- 0.944870900209351 at K = 22\n"
     ]
    },
    {
     "data": {
      "image/png": "[encoded data removed]",
      "text/plain": [
       "<Figure size 720x432 with 1 Axes>"
      ]
     },
     "metadata": {
      "needs_background": "light"
     },
     "output_type": "display_data"
    }
   ],
   "source": [
    "error_rate = []          ## from https://towardsdatascience.com/how-to-find-the-optimal-value-of-k-in-knn-35d936e554eb\n",
    "for i in range(1,100):\n",
    "    knn = KNeighborsClassifier(n_neighbors=i)\n",
    "    knn.fit(X_train,y_train)\n",
    "    pred_i = knn.predict(X_valid)\n",
    "    error_rate.append(np.mean(pred_i != y_valid))\n",
    "\n",
    "plt.figure(figsize=(10,6))\n",
    "plt.plot(range(1,100),error_rate,color='green', linestyle='dashed', \n",
    "         marker='o',markerfacecolor='yellow', markersize=10)\n",
    "plt.title('Error Rate vs. K Value')\n",
    "plt.xlabel('K')\n",
    "plt.ylabel('Error Rate')\n",
    "print(\"Minimum error:-\",min(error_rate),\"at K =\",error_rate.index(min(error_rate)))"
   ]
  },
  {
   "cell_type": "markdown",
   "metadata": {},
   "source": [
    "Loop to find K value for the model comparing accuracy."
   ]
  },
  {
   "cell_type": "code",
   "execution_count": 48,
   "metadata": {},
   "outputs": [
    {
     "name": "stdout",
     "output_type": "stream",
     "text": [
      "Maximum accuracy:- 0.05512909979064899 at K = 22\n"
     ]
    },
    {
     "data": {
      "image/png": "[encoded data removed]",
      "text/plain": [
       "<Figure size 720x432 with 1 Axes>"
      ]
     },
     "metadata": {
      "needs_background": "light"
     },
     "output_type": "display_data"
    }
   ],
   "source": [
    "acc_list = []                    ## from https://towardsdatascience.com/how-to-find-the-optimal-value-of-k-in-knn-35d936e554eb\n",
    "from sklearn import metrics\n",
    "for i in range(1,100):\n",
    "    neigh = KNeighborsClassifier(n_neighbors = i).fit(X_train,y_train)\n",
    "    yhat = neigh.predict(X_valid)\n",
    "    acc_list.append(metrics.accuracy_score(y_valid, yhat))\n",
    "    \n",
    "plt.figure(figsize=(10,6))\n",
    "plt.plot(range(1,100),acc_list,color = 'green',linestyle='dashed', \n",
    "         marker='o',markerfacecolor='yellow', markersize=10)\n",
    "plt.title('accuracy vs. K Value')\n",
    "plt.xlabel('K')\n",
    "plt.ylabel('Accuracy')\n",
    "print(\"Maximum accuracy:-\",max(acc_list),\"at K =\",acc_list.index(max(acc_list)))"
   ]
  },
  {
   "cell_type": "markdown",
   "metadata": {},
   "source": [
    "K-Nearest Neighbors model and score."
   ]
  },
  {
   "cell_type": "code",
   "execution_count": 49,
   "metadata": {},
   "outputs": [
    {
     "name": "stdout",
     "output_type": "stream",
     "text": [
      "[465.9541549148776, 477.7585670920694, 0.0772272621539893, 0.05303558967201675]\n"
     ]
    }
   ],
   "source": [
    "k=88\n",
    "neigh = KNeighborsClassifier(n_neighbors = k,n_jobs=-1)\n",
    "neigh.fit(X_train,y_train)\n",
    "print_score(neigh)"
   ]
  },
  {
   "cell_type": "markdown",
   "metadata": {},
   "source": [
    "### Next model TBC.."
   ]
  },
  {
   "cell_type": "code",
   "execution_count": null,
   "metadata": {},
   "outputs": [],
   "source": []
  }
 ],
 "metadata": {
  "kernelspec": {
   "display_name": "Python 3",
   "language": "python",
   "name": "python3"
  },
  "language_info": {
   "codemirror_mode": {
    "name": "ipython",
    "version": 3
   },
   "file_extension": ".py",
   "mimetype": "text/x-python",
   "name": "python",
   "nbconvert_exporter": "python",
   "pygments_lexer": "ipython3",
   "version": "3.7.6"
  }
 },
 "nbformat": 4,
 "nbformat_minor": 4
}
